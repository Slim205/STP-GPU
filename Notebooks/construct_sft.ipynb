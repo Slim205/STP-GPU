{
 "cells": [
  {
   "cell_type": "code",
   "execution_count": 1,
   "id": "8a260001-c0aa-4337-9b4e-95d8321b314b",
   "metadata": {},
   "outputs": [],
   "source": [
    "import os\n",
    "import json\n",
    "import pickle\n",
    "import numpy as np\n",
    "from pathlib import Path\n",
    "from typing import Dict\n",
    "from tqdm.auto import tqdm  # Import tqdm for the progress bar\n",
    "\n",
    "MATHLIB_DIR = Path('~/Mathlib') # Mathlib dir\n",
    "LeanDojo_DIR = Path('~/leandojo_benchmark_4/') # LeanDojo dir\n",
    "Save_DIR = '~/STP/SFT/' # save dir\n",
    "\n",
    "os.makedirs(Save_DIR, exist_ok=True)"
   ]
  },
  {
   "cell_type": "markdown",
   "id": "73662c6e-2566-4be5-be9d-1de6dc36485e",
   "metadata": {},
   "source": [
    "# Read Lean Files"
   ]
  },
  {
   "cell_type": "code",
   "execution_count": 2,
   "id": "63a3ff31-41d3-4b80-84b6-b7e02d73b9cb",
   "metadata": {},
   "outputs": [
    {
     "name": "stdout",
     "output_type": "stream",
     "text": [
      "Found 4360 `.lean` files to process.\n"
     ]
    },
    {
     "data": {
      "application/vnd.jupyter.widget-view+json": {
       "model_id": "543e6f83193f4f1a9040acf9a9703189",
       "version_major": 2,
       "version_minor": 0
      },
      "text/plain": [
       "Reading .lean files:   0%|          | 0/4360 [00:00<?, ?file/s]"
      ]
     },
     "metadata": {},
     "output_type": "display_data"
    },
    {
     "name": "stdout",
     "output_type": "stream",
     "text": [
      "Total .lean files read: 4360\n",
      "First file: Mathlib/Tactic.lean\n",
      "Content snippet: ['import Mathlib.Tactic.Abel\\n', 'import Mathlib.Tactic.AdaptationNote\\n', 'import Mathlib.Tactic.ApplyAt\\n', 'import Mathlib.Tactic.ApplyCongr\\n', 'import Mathlib.Tactic.ApplyFun\\n', 'import Mathlib.Tactic.ApplyWith\\n', 'import Mathlib.Tactic.ArithMult\\n', 'import Mathlib.Tactic.ArithMult.Init\\n', 'import Mathlib.Tactic.Attr.Core\\n', 'import Mathlib.Tactic.Attr.Register\\n']\n"
     ]
    }
   ],
   "source": [
    "def read_lean_files(directory: Path) -> Dict[str, str]:\n",
    "    \"\"\"\n",
    "    Recursively reads all `.lean` files in the specified directory and returns\n",
    "    a dictionary mapping file paths to their contents, displaying a progress bar.\n",
    "\n",
    "    Args:\n",
    "        directory (Path): The root directory to start searching for `.lean` files.\n",
    "\n",
    "    Returns:\n",
    "        Dict[str, str]: A dictionary where keys are file paths (as strings) and\n",
    "                        values are the contents of the files.\n",
    "    \"\"\"\n",
    "    if not directory.exists():\n",
    "        raise FileNotFoundError(f\"The directory {directory} does not exist.\")\n",
    "    if not directory.is_dir():\n",
    "        raise NotADirectoryError(f\"The path {directory} is not a directory.\")\n",
    "\n",
    "    # Collect all .lean files first to determine the total number for the progress bar\n",
    "    lean_files = list(directory.rglob('*.lean'))\n",
    "    total_files = len(lean_files)\n",
    "    print(f\"Found {total_files} `.lean` files to process.\")\n",
    "\n",
    "    file_contents = {}\n",
    "\n",
    "    # Initialize tqdm progress bar\n",
    "    with tqdm(total=total_files, desc=\"Reading .lean files\", unit=\"file\") as pbar:\n",
    "        for file_path in lean_files:\n",
    "            try:\n",
    "                # Read the file content with UTF-8 encoding\n",
    "                with file_path.open() as f:\n",
    "                    content = f.readlines()\n",
    "                # Use the absolute path as the key\n",
    "                file_contents[str(file_path.resolve())] = content\n",
    "            except Exception as e:\n",
    "                print(f\"Error reading {file_path}: {e}\")\n",
    "            finally:\n",
    "                pbar.update(1)  # Update the progress bar\n",
    "\n",
    "    return file_contents\n",
    "\n",
    "\n",
    "try:\n",
    "    lean_file_dict = read_lean_files(MATHLIB_DIR)\n",
    "    lean_file_dict = {k.split('LeanDojo/mathlib4/')[-1]: v for k, v in lean_file_dict.items()}\n",
    "    print(f\"Total .lean files read: {len(lean_file_dict)}\")\n",
    "    # Example: Print the first file's path and its first 100 characters\n",
    "    if lean_file_dict:\n",
    "        first_path = next(iter(lean_file_dict))\n",
    "        print(f\"First file: {first_path}\")\n",
    "        print(f\"Content snippet: {lean_file_dict[first_path][:10]}\")\n",
    "except Exception as error:\n",
    "    print(f\"An error occurred: {error}\")"
   ]
  },
  {
   "cell_type": "markdown",
   "id": "bbbd0ab9-cadb-44c6-980c-71d7b1cd6b8a",
   "metadata": {},
   "source": [
    "# Read LeanDojo Data"
   ]
  },
  {
   "cell_type": "code",
   "execution_count": 3,
   "id": "61a0a88f-a3ba-455f-8a17-45fe75deb691",
   "metadata": {},
   "outputs": [],
   "source": [
    "train_path = LeanDojo_DIR / \"random/train.json\"\n",
    "val_path = LeanDojo_DIR / \"random/val.json\"\n",
    "test_path = LeanDojo_DIR / \"random/test.json\"\n",
    "proofs_train = json.load(train_path.open())\n",
    "proofs_val = json.load(val_path.open())\n",
    "proofs_test = json.load(test_path.open())"
   ]
  },
  {
   "cell_type": "code",
   "execution_count": 4,
   "id": "26e66f53-96bd-42c5-8fff-6ea5af69fb73",
   "metadata": {},
   "outputs": [
    {
     "name": "stdout",
     "output_type": "stream",
     "text": [
      "117068\n",
      "2000\n",
      "2000\n"
     ]
    }
   ],
   "source": [
    "print(len(proofs_train))\n",
    "print(len(proofs_val))\n",
    "print(len(proofs_test))"
   ]
  },
  {
   "cell_type": "code",
   "execution_count": 5,
   "id": "0c25b744-9770-4f9c-988e-94cc51235ab3",
   "metadata": {},
   "outputs": [
    {
     "name": "stdout",
     "output_type": "stream",
     "text": [
      "3538\n",
      "60751\n"
     ]
    }
   ],
   "source": [
    "from collections import defaultdict\n",
    "\n",
    "entry_dict = defaultdict(list)\n",
    "for entry in proofs_train + proofs_val + proofs_test:\n",
    "    if len(entry['traced_tactics']) > 0:\n",
    "        entry_dict[entry['file_path']].append(entry)\n",
    "print(len(entry_dict))\n",
    "print(sum(len(v) for v in entry_dict.values()))"
   ]
  },
  {
   "cell_type": "code",
   "execution_count": 6,
   "id": "1bc0c256-030d-4ad4-a434-1ba5922ceac5",
   "metadata": {},
   "outputs": [],
   "source": [
    "def get_statement(theorem_str):\n",
    "    return theorem_str.split(':=')[0].strip()"
   ]
  },
  {
   "cell_type": "code",
   "execution_count": 7,
   "id": "18304acd-d05f-4347-8881-13f5c50be7b8",
   "metadata": {},
   "outputs": [
    {
     "data": {
      "application/vnd.jupyter.widget-view+json": {
       "model_id": "7a101d990b3e4215b9045b2e74bd74f4",
       "version_major": 2,
       "version_minor": 0
      },
      "text/plain": [
       "  0%|          | 0/4360 [00:00<?, ?it/s]"
      ]
     },
     "metadata": {},
     "output_type": "display_data"
    },
    {
     "name": "stdout",
     "output_type": "stream",
     "text": [
      "[warning] # Files without theorem: 864\n",
      "# Mathlib theorems: 59744\n"
     ]
    }
   ],
   "source": [
    "mathlib_theorems = []\n",
    "theorem_dict = {}\n",
    "\n",
    "empty_file = 0\n",
    "for file_name in tqdm(lean_file_dict.keys()):\n",
    "    if (len(entry_dict[file_name]) == 0):\n",
    "        empty_file += 1\n",
    "        continue\n",
    "    lines = lean_file_dict[file_name]\n",
    "    entries = entry_dict[file_name]\n",
    "    entries = sorted(entries, key = lambda x: x['start'][0])\n",
    "    \n",
    "    for entry in entries:\n",
    "        theorem_str = ''.join(lines[entry['start'][0] - 1: entry['end'][0]])\n",
    "        theorem_item = (file_name, theorem_str)\n",
    "        mathlib_theorems.append(theorem_item)\n",
    "        theorem_dict[entry['full_name']] = theorem_item\n",
    "print('[warning] # Files without theorem:', empty_file)\n",
    "print('# Mathlib theorems:', len(mathlib_theorems))"
   ]
  },
  {
   "cell_type": "code",
   "execution_count": 8,
   "id": "12f8d2ca-ba87-4774-95c5-cd9d77c2452b",
   "metadata": {},
   "outputs": [
    {
     "data": {
      "application/vnd.jupyter.widget-view+json": {
       "model_id": "7bf22ebe0c0a4b4cb779af50aaaec255",
       "version_major": 2,
       "version_minor": 0
      },
      "text/plain": [
       "  0%|          | 0/4360 [00:00<?, ?it/s]"
      ]
     },
     "metadata": {},
     "output_type": "display_data"
    },
    {
     "name": "stdout",
     "output_type": "stream",
     "text": [
      "79908\n",
      "# Conjecture examples: 51273\n"
     ]
    }
   ],
   "source": [
    "sum_premises = 0\n",
    "conjecture_examples = []\n",
    "\n",
    "try:\n",
    "    for file_name in tqdm(lean_file_dict.keys()):\n",
    "        if (len(entry_dict[file_name]) == 0):\n",
    "            empty_file += 1\n",
    "            continue\n",
    "    \n",
    "        theorems_in_file = []\n",
    "        lines = lean_file_dict[file_name]\n",
    "        entries = entry_dict[file_name]\n",
    "        entries = sorted(entries, key = lambda x: x['start'][0])\n",
    "        \n",
    "        for entry in entries:\n",
    "            theorem_str = ''.join(lines[entry['start'][0] - 1: entry['end'][0]])\n",
    "            contexts = ''.join(lines[:entry['start'][0] - 1]).strip()\n",
    "            \n",
    "            premises = set()\n",
    "            for tactics in entry['traced_tactics']:\n",
    "                for p in tactics['annotated_tactic'][1]:\n",
    "                    if p['full_name'] in theorem_dict:\n",
    "                        premises.add(p['full_name'])\n",
    "    \n",
    "            for p_name in premises:\n",
    "                for p_context, p_theorem, p_premises in reversed(theorems_in_file):\n",
    "                    if p_name in p_premises:\n",
    "                        conjecture_examples.append((file_name, p_context, p_theorem, theorem_dict[p_name][1], theorem_str))\n",
    "            \n",
    "            theorems_in_file.append((contexts, theorem_str, premises))\n",
    "            sum_premises += len(premises)\n",
    "except:\n",
    "    pass\n",
    "print(sum_premises)\n",
    "print('# Conjecture examples:', len(conjecture_examples))"
   ]
  },
  {
   "cell_type": "code",
   "execution_count": 9,
   "id": "0eb1b50e-1c6c-41e4-95fb-d5086d23cbff",
   "metadata": {},
   "outputs": [
    {
     "data": {
      "text/plain": [
       "('Mathlib/Geometry/Manifold/MFDeriv/UniqueDifferential.lean',\n",
       " \"/-\\nCopyright (c) 2020 Sébastien Gouëzel. All rights reserved.\\nReleased under Apache 2.0 license as described in the file LICENSE.\\nAuthors: Sébastien Gouëzel, Floris van Doorn\\n-/\\nimport Mathlib.Geometry.Manifold.MFDeriv.Atlas\\n\\n/-!\\n# Unique derivative sets in manifolds\\n\\nIn this file, we prove various properties of unique derivative sets in manifolds.\\n* `image_denseRange`: suppose `f` is differentiable on `s` and its derivative at every point of `s`\\nhas dense range. If `s` has the unique differential property, then so does `f '' s`.\\n* `uniqueMDiffOn_preimage`: the unique differential property is preserved by local diffeomorphisms\\n* `uniqueDiffOn_target_inter`: the unique differential property is preserved by\\n  pullbacks of extended charts\\n* `tangentBundle_proj_preimage`: if `s` has the unique differential property,\\n  its preimage under the tangent bundle projection also has\\n-/\\n\\nnoncomputable section\\n\\nopen scoped Manifold\\nopen Set\\n\\n/-! ### Unique derivative sets in manifolds -/\\n\\nsection UniqueMDiff\\n\\nvariable {𝕜 : Type*} [NontriviallyNormedField 𝕜] {E : Type*} [NormedAddCommGroup E]\\n  [NormedSpace 𝕜 E] {H : Type*} [TopologicalSpace H] {I : ModelWithCorners 𝕜 E H} {M : Type*}\\n  [TopologicalSpace M] [ChartedSpace H M] [SmoothManifoldWithCorners I M] {E' : Type*}\\n  [NormedAddCommGroup E'] [NormedSpace 𝕜 E'] {H' : Type*} [TopologicalSpace H']\\n  {I' : ModelWithCorners 𝕜 E' H'} {M' : Type*} [TopologicalSpace M'] [ChartedSpace H' M']\\n  [SmoothManifoldWithCorners I' M'] {s : Set M} {x : M}\\n\\n/-- If `s` has the unique differential property at `x`, `f` is differentiable within `s` at x` and\\nits derivative has dense range, then `f '' s` has the unique differential property at `f x`. -/\\ntheorem UniqueMDiffWithinAt.image_denseRange (hs : UniqueMDiffWithinAt I s x)\\n    {f : M → M'} {f' : E →L[𝕜] E'} (hf : HasMFDerivWithinAt I I' f s x f')\\n    (hd : DenseRange f') : UniqueMDiffWithinAt I' (f '' s) (f x) := by\\n  /- Rewrite in coordinates, apply `HasFDerivWithinAt.uniqueDiffWithinAt`. -/\\n  have := hs.inter' <| hf.1 (extChartAt_source_mem_nhds I' (f x))\\n  refine (((hf.2.mono ?sub1).uniqueDiffWithinAt this hd).mono ?sub2).congr_pt ?pt\\n  case pt => simp only [mfld_simps]\\n  case sub1 => mfld_set_tac\\n  case sub2 =>\\n    rintro _ ⟨y, ⟨⟨hys, hfy⟩, -⟩, rfl⟩\\n    exact ⟨⟨_, hys, ((extChartAt I' (f x)).left_inv hfy).symm⟩, mem_range_self _⟩\\n\\n/-- If `s` has the unique differential property, `f` is differentiable on `s` and its derivative\\nat every point of `s` has dense range, then `f '' s` has the unique differential property.\\nThis version uses the `HasMFDerivWithinAt` predicate. -/\\ntheorem UniqueMDiffOn.image_denseRange' (hs : UniqueMDiffOn I s) {f : M → M'}\\n    {f' : M → E →L[𝕜] E'} (hf : ∀ x ∈ s, HasMFDerivWithinAt I I' f s x (f' x))\\n    (hd : ∀ x ∈ s, DenseRange (f' x)) :\\n    UniqueMDiffOn I' (f '' s) :=\\n  forall_mem_image.2 fun x hx ↦ (hs x hx).image_denseRange (hf x hx) (hd x hx)\\n\\n/-- If `s` has the unique differential property, `f` is differentiable on `s` and its derivative\\nat every point of `s` has dense range, then `f '' s` has the unique differential property. -/\\ntheorem UniqueMDiffOn.image_denseRange (hs : UniqueMDiffOn I s) {f : M → M'}\\n    (hf : MDifferentiableOn I I' f s) (hd : ∀ x ∈ s, DenseRange (mfderivWithin I I' f s x)) :\\n    UniqueMDiffOn I' (f '' s) :=\\n  hs.image_denseRange' (fun x hx ↦ (hf x hx).hasMFDerivWithinAt) hd\",\n",
       " \"protected theorem UniqueMDiffWithinAt.preimage_partialHomeomorph (hs : UniqueMDiffWithinAt I s x)\\n    {e : PartialHomeomorph M M'} (he : e.MDifferentiable I I') (hx : x ∈ e.source) :\\n    UniqueMDiffWithinAt I' (e.target ∩ e.symm ⁻¹' s) (e x) := by\\n  rw [← e.image_source_inter_eq', inter_comm]\\n  exact (hs.inter (e.open_source.mem_nhds hx)).image_denseRange\\n    (he.mdifferentiableAt hx).hasMFDerivAt.hasMFDerivWithinAt\\n    (he.mfderiv_surjective hx).denseRange\\n\",\n",
       " 'theorem Function.Surjective.denseRange (hf : Function.Surjective f) : DenseRange f := fun x => by\\n  simp [hf.range_eq]\\n',\n",
       " \"theorem UniqueMDiffOn.uniqueDiffOn_target_inter (hs : UniqueMDiffOn I s) (x : M) :\\n    UniqueDiffOn 𝕜 ((extChartAt I x).target ∩ (extChartAt I x).symm ⁻¹' s) := by\\n  -- this is just a reformulation of `UniqueMDiffOn.uniqueMDiffOn_preimage`, using as `e`\\n  -- the local chart at `x`.\\n  apply UniqueMDiffOn.uniqueDiffOn\\n  rw [← PartialEquiv.image_source_inter_eq', inter_comm, extChartAt_source]\\n  exact (hs.inter (chartAt H x).open_source).image_denseRange'\\n    (fun y hy ↦ hasMFDerivWithinAt_extChartAt I hy.2)\\n    fun y hy ↦ ((mdifferentiable_chart _ _).mfderiv_surjective hy.2).denseRange\\n\")"
      ]
     },
     "execution_count": 9,
     "metadata": {},
     "output_type": "execute_result"
    }
   ],
   "source": [
    "conjecture_examples[-1]"
   ]
  },
  {
   "cell_type": "markdown",
   "id": "207e82fe-39e8-4157-9045-b9c5925f0793",
   "metadata": {},
   "source": [
    "# Construct dataset"
   ]
  },
  {
   "cell_type": "code",
   "execution_count": 10,
   "id": "33d28b5b-a578-4379-8958-657d5bfadb49",
   "metadata": {},
   "outputs": [
    {
     "name": "stdout",
     "output_type": "stream",
     "text": [
      "51273\n"
     ]
    }
   ],
   "source": [
    "START_LEMMA_STMT = '<easy theorem>'\n",
    "START_THM = '<hard theorem>'\n",
    "END_THM = '</hard theorem>'\n",
    "INVOKED_LEMMA = '<lemma>'\n",
    "\n",
    "def format_conjecture_example(context, easy_theorem, shared_lemma, hard_theorem):\n",
    "    prompt = f'Complete the following Lean 4 code:\\n\\n```lean4\\n{context.strip()}\\n' \\\n",
    "          f'{INVOKED_LEMMA}\\n{shared_lemma.strip()}\\n{START_LEMMA_STMT}\\n' \\\n",
    "          f'{easy_theorem.strip()}\\n{START_THM}'\n",
    "    target = f'\\n{get_statement(hard_theorem).strip()}\\n{END_THM}'\n",
    "    return {'prompt': prompt, 'target': target}\n",
    "\n",
    "conjecture_ds = []\n",
    "for file_name, context, theorem, shared_lemma, theorem_str in conjecture_examples:\n",
    "    conjecture_ds.append(format_conjecture_example(context, theorem, shared_lemma, theorem_str))\n",
    "\n",
    "print(len(conjecture_ds))"
   ]
  },
  {
   "cell_type": "code",
   "execution_count": 11,
   "id": "d478327b-5a39-41a2-ad7f-8b2ef8fe6a96",
   "metadata": {},
   "outputs": [],
   "source": [
    "with open(os.path.join(Save_DIR, 'conjecture.json'), 'w') as f:\n",
    "    json.dump(conjecture_ds, f)"
   ]
  },
  {
   "cell_type": "code",
   "execution_count": 12,
   "id": "981b78db-4b94-4678-b30e-39174f498c08",
   "metadata": {},
   "outputs": [
    {
     "name": "stdout",
     "output_type": "stream",
     "text": [
      "Complete the following Lean 4 code:\n",
      "\n",
      "```lean4\n",
      "/-\n",
      "Copyright (c) 2021 Bryan Gin-ge Chen. All rights reserved.\n",
      "Released under Apache 2.0 license as described in the file LICENSE.\n",
      "Authors: Adam Topaz, Bryan Gin-ge Chen, Yaël Dillies\n",
      "-/\n",
      "import Mathlib.Order.BooleanAlgebra\n",
      "import Mathlib.Logic.Equiv.Basic\n",
      "\n",
      "#align_import order.symm_diff from \"leanprover-community/mathlib\"@\"6eb334bd8f3433d5b08ba156b8ec3e6af47e1904\"\n",
      "\n",
      "/-!\n",
      "# Symmetric difference and bi-implication\n",
      "\n",
      "This file defines the symmetric difference and bi-implication operators in (co-)Heyting algebras.\n",
      "\n",
      "## Examples\n",
      "\n",
      "Some examples are\n",
      "* The symmetric difference of two sets is the set of elements that are in either but not both.\n",
      "* The symmetric difference on propositions is `Xor'`.\n",
      "* The symmetric difference on `Bool` is `Bool.xor`.\n",
      "* The equivalence of propositions. Two propositions are equivalent if they imply each other.\n",
      "* The symmetric difference translates to addition when considering a Boolean algebra as a Boolean\n",
      "  ring.\n",
      "\n",
      "## Main declarations\n",
      "\n",
      "* `symmDiff`: The symmetric difference operator, defined as `(a \\ b) ⊔ (b \\ a)`\n",
      "* `bihimp`: The bi-implication operator, defined as `(b ⇨ a) ⊓ (a ⇨ b)`\n",
      "\n",
      "In generalized Boolean algebras, the symmetric difference operator is:\n",
      "\n",
      "* `symmDiff_comm`: commutative, and\n",
      "* `symmDiff_assoc`: associative.\n",
      "\n",
      "## Notations\n",
      "\n",
      "* `a ∆ b`: `symmDiff a b`\n",
      "* `a ⇔ b`: `bihimp a b`\n",
      "\n",
      "## References\n",
      "\n",
      "The proof of associativity follows the note \"Associativity of the Symmetric Difference of Sets: A\n",
      "Proof from the Book\" by John McCuan:\n",
      "\n",
      "* <https://people.math.gatech.edu/~mccuan/courses/4317/symmetricdifference.pdf>\n",
      "\n",
      "## Tags\n",
      "\n",
      "boolean ring, generalized boolean algebra, boolean algebra, symmetric difference, bi-implication,\n",
      "Heyting\n",
      "-/\n",
      "\n",
      "\n",
      "open Function OrderDual\n",
      "\n",
      "variable {ι α β : Type*} {π : ι → Type*}\n",
      "\n",
      "/-- The symmetric difference operator on a type with `⊔` and `\\` is `(A \\ B) ⊔ (B \\ A)`. -/\n",
      "def symmDiff [Sup α] [SDiff α] (a b : α) : α :=\n",
      "  a \\ b ⊔ b \\ a\n",
      "#align symm_diff symmDiff\n",
      "\n",
      "/-- The Heyting bi-implication is `(b ⇨ a) ⊓ (a ⇨ b)`. This generalizes equivalence of\n",
      "propositions. -/\n",
      "def bihimp [Inf α] [HImp α] (a b : α) : α :=\n",
      "  (b ⇨ a) ⊓ (a ⇨ b)\n",
      "#align bihimp bihimp\n",
      "\n",
      "/-- Notation for symmDiff -/\n",
      "scoped[symmDiff] infixl:100 \" ∆ \" => symmDiff\n",
      "\n",
      "/-- Notation for bihimp -/\n",
      "scoped[symmDiff] infixl:100 \" ⇔ \" => bihimp\n",
      "\n",
      "open scoped symmDiff\n",
      "\n",
      "theorem symmDiff_def [Sup α] [SDiff α] (a b : α) : a ∆ b = a \\ b ⊔ b \\ a :=\n",
      "  rfl\n",
      "#align symm_diff_def symmDiff_def\n",
      "\n",
      "theorem bihimp_def [Inf α] [HImp α] (a b : α) : a ⇔ b = (b ⇨ a) ⊓ (a ⇨ b) :=\n",
      "  rfl\n",
      "#align bihimp_def bihimp_def\n",
      "\n",
      "theorem symmDiff_eq_Xor' (p q : Prop) : p ∆ q = Xor' p q :=\n",
      "  rfl\n",
      "#align symm_diff_eq_xor symmDiff_eq_Xor'\n",
      "\n",
      "@[simp]\n",
      "theorem bihimp_iff_iff {p q : Prop} : p ⇔ q ↔ (p ↔ q) :=\n",
      "  (iff_iff_implies_and_implies _ _).symm.trans Iff.comm\n",
      "#align bihimp_iff_iff bihimp_iff_iff\n",
      "\n",
      "@[simp]\n",
      "theorem Bool.symmDiff_eq_xor : ∀ p q : Bool, p ∆ q = xor p q := by decide\n",
      "#align bool.symm_diff_eq_bxor Bool.symmDiff_eq_xor\n",
      "\n",
      "section GeneralizedCoheytingAlgebra\n",
      "\n",
      "variable [GeneralizedCoheytingAlgebra α] (a b c d : α)\n",
      "\n",
      "@[simp]\n",
      "theorem toDual_symmDiff : toDual (a ∆ b) = toDual a ⇔ toDual b :=\n",
      "  rfl\n",
      "#align to_dual_symm_diff toDual_symmDiff\n",
      "\n",
      "@[simp]\n",
      "theorem ofDual_bihimp (a b : αᵒᵈ) : ofDual (a ⇔ b) = ofDual a ∆ ofDual b :=\n",
      "  rfl\n",
      "#align of_dual_bihimp ofDual_bihimp\n",
      "\n",
      "theorem symmDiff_comm : a ∆ b = b ∆ a := by simp only [symmDiff, sup_comm]\n",
      "#align symm_diff_comm symmDiff_comm\n",
      "\n",
      "instance symmDiff_isCommutative : Std.Commutative (α := α) (· ∆ ·) :=\n",
      "  ⟨symmDiff_comm⟩\n",
      "#align symm_diff_is_comm symmDiff_isCommutative\n",
      "\n",
      "@[simp]\n",
      "theorem symmDiff_self : a ∆ a = ⊥ := by rw [symmDiff, sup_idem, sdiff_self]\n",
      "#align symm_diff_self symmDiff_self\n",
      "\n",
      "@[simp]\n",
      "theorem symmDiff_bot : a ∆ ⊥ = a := by rw [symmDiff, sdiff_bot, bot_sdiff, sup_bot_eq]\n",
      "#align symm_diff_bot symmDiff_bot\n",
      "\n",
      "@[simp]\n",
      "theorem bot_symmDiff : ⊥ ∆ a = a := by rw [symmDiff_comm, symmDiff_bot]\n",
      "#align bot_symm_diff bot_symmDiff\n",
      "\n",
      "@[simp]\n",
      "<lemma>\n",
      "theorem sdiff_eq_bot_iff : a \\ b = ⊥ ↔ a ≤ b := by rw [← le_bot_iff, sdiff_le_iff, sup_bot_eq]\n",
      "<easy theorem>\n",
      "theorem symmDiff_eq_bot {a b : α} : a ∆ b = ⊥ ↔ a = b := by\n",
      "  simp_rw [symmDiff, sup_eq_bot_iff, sdiff_eq_bot_iff, le_antisymm_iff]\n",
      "<hard theorem>\n",
      "\n",
      "theorem symmDiff_of_le {a b : α} (h : a ≤ b) : a ∆ b = b \\ a\n",
      "</hard theorem>\n"
     ]
    }
   ],
   "source": [
    "print(conjecture_ds[10]['prompt'])\n",
    "print(conjecture_ds[10]['target'])"
   ]
  },
  {
   "cell_type": "code",
   "execution_count": 13,
   "id": "a953d29b-4e8f-4f0e-943e-fc7e4410bc03",
   "metadata": {},
   "outputs": [],
   "source": [
    "with open(os.path.join(Save_DIR, 'theorem_dict.pkl'), 'wb') as f:\n",
    "    pickle.dump(theorem_dict, f)"
   ]
  },
  {
   "cell_type": "code",
   "execution_count": 14,
   "id": "308e7d6f-c1ae-4d34-8db8-5d89b2c823e4",
   "metadata": {},
   "outputs": [
    {
     "name": "stdout",
     "output_type": "stream",
     "text": [
      "59742\n"
     ]
    }
   ],
   "source": [
    "print(len(theorem_dict))"
   ]
  },
  {
   "cell_type": "code",
   "execution_count": 15,
   "id": "fce0d2cb-6713-4884-902d-550a0d7b0e89",
   "metadata": {},
   "outputs": [
    {
     "data": {
      "text/plain": [
       "('Mathlib/Algebra/GeomSum.lean',\n",
       " 'theorem nat_sub_dvd_pow_sub_pow (x y n : ℕ) : x - y ∣ x ^ n - y ^ n := by\\n  rcases le_or_lt y x with h | h\\n  · have : y ^ n ≤ x ^ n := Nat.pow_le_pow_left h _\\n    exact mod_cast sub_dvd_pow_sub_pow (x : ℤ) (↑y) n\\n  · have : x ^ n ≤ y ^ n := Nat.pow_le_pow_left h.le _\\n    exact (Nat.sub_eq_zero_of_le this).symm ▸ dvd_zero (x - y)\\n')"
      ]
     },
     "execution_count": 15,
     "metadata": {},
     "output_type": "execute_result"
    }
   ],
   "source": [
    "theorem_dict['nat_sub_dvd_pow_sub_pow'] # example"
   ]
  },
  {
   "cell_type": "markdown",
   "id": "2c82a736-5dc9-431f-bc59-a4d0364b61e8",
   "metadata": {},
   "source": [
    "## eval dataset"
   ]
  },
  {
   "cell_type": "code",
   "execution_count": 16,
   "id": "39934f77-1bb6-4a6f-9b5c-2775d2afbadf",
   "metadata": {},
   "outputs": [
    {
     "data": {
      "application/vnd.jupyter.widget-view+json": {
       "model_id": "f873c390b15f4e4488d14b5918039353",
       "version_major": 2,
       "version_minor": 0
      },
      "text/plain": [
       "  0%|          | 0/4360 [00:00<?, ?it/s]"
      ]
     },
     "metadata": {},
     "output_type": "display_data"
    },
    {
     "name": "stdout",
     "output_type": "stream",
     "text": [
      "# Mathlib theorems: 59744\n"
     ]
    }
   ],
   "source": [
    "PROVER_PROMPT = 'Complete the following Lean 4 code:\\n\\n```lean4\\n'\n",
    "eval_theorems = []\n",
    "\n",
    "empty_file = 0\n",
    "for file_name in tqdm(lean_file_dict.keys()):\n",
    "    if (len(entry_dict[file_name]) == 0):\n",
    "        empty_file += 1\n",
    "        continue\n",
    "    lines = lean_file_dict[file_name]\n",
    "    entries = entry_dict[file_name]\n",
    "    entries = sorted(entries, key = lambda x: x['start'][0])\n",
    "    \n",
    "    for entry in entries:\n",
    "        context_str = PROVER_PROMPT + ''.join(lines[:entry['start'][0] - 1])\n",
    "        theorem_str = ''.join(lines[entry['start'][0] - 1: entry['end'][0]])\n",
    "        theorem_item = (file_name, context_str, theorem_str)\n",
    "        eval_theorems.append(theorem_item)\n",
    "print('# Mathlib theorems:', len(eval_theorems))"
   ]
  },
  {
   "cell_type": "code",
   "execution_count": 17,
   "id": "461a1c72-483d-415d-9cdb-dab7c42dbe46",
   "metadata": {},
   "outputs": [],
   "source": [
    "rng = np.random.default_rng(0)\n",
    "rng.shuffle(eval_theorems)\n",
    "cutoff = 4096\n",
    "train_theorems = [{'prompt': entry[1], 'target': entry[2]} for entry in eval_theorems[cutoff:]]\n",
    "eval_theorems = [{'prompt': entry[1], 'target': entry[2]} for entry in eval_theorems[:cutoff]]"
   ]
  },
  {
   "cell_type": "code",
   "execution_count": 18,
   "id": "a89842c0-38d0-4e6b-8509-52ac41327ad3",
   "metadata": {},
   "outputs": [],
   "source": [
    "with open(os.path.join(Save_DIR, 'eval.json'), 'w') as f:\n",
    "    json.dump(eval_theorems, f)"
   ]
  },
  {
   "cell_type": "markdown",
   "id": "921ce40f-b923-49b8-84ec-56602b55acca",
   "metadata": {},
   "source": [
    "## mathlib + Conjecture"
   ]
  },
  {
   "cell_type": "code",
   "execution_count": 19,
   "id": "a3c31f87-a885-4c4f-ae8c-a5f48120275e",
   "metadata": {},
   "outputs": [
    {
     "name": "stdout",
     "output_type": "stream",
     "text": [
      "106921\n"
     ]
    }
   ],
   "source": [
    "train_ds = conjecture_ds + train_theorems\n",
    "rng = np.random.default_rng(0)\n",
    "rng.shuffle(train_ds)\n",
    "print(len(train_ds))"
   ]
  },
  {
   "cell_type": "code",
   "execution_count": 20,
   "id": "f1594b80-b624-4514-ba47-d75136dbe81e",
   "metadata": {},
   "outputs": [],
   "source": [
    "with open(os.path.join(Save_DIR, 'mathlib_conjecture.json'), 'w') as f:\n",
    "    json.dump(train_ds, f)"
   ]
  },
  {
   "cell_type": "code",
   "execution_count": 21,
   "id": "9704e1b5-75eb-4cef-b8c8-9b9e41b90d69",
   "metadata": {},
   "outputs": [
    {
     "data": {
      "text/plain": [
       "dict_keys(['url', 'commit', 'file_path', 'full_name', 'start', 'end', 'traced_tactics'])"
      ]
     },
     "execution_count": 21,
     "metadata": {},
     "output_type": "execute_result"
    }
   ],
   "source": [
    "proofs_train[1].keys()"
   ]
  },
  {
   "cell_type": "code",
   "execution_count": 22,
   "id": "9411ebbe-1d74-4ce9-ab8c-3c3c7a2f69d9",
   "metadata": {},
   "outputs": [
    {
     "data": {
      "text/plain": [
       "{'url': '/home/kefandong/.cache/lean_dojo/gitpython-mathlib4-2f65ba7f1a9144b20c8e7358513548e317d26de1/mathlib4',\n",
       " 'commit': '2f65ba7f1a9144b20c8e7358513548e317d26de1',\n",
       " 'file_path': 'Mathlib/Topology/Compactness/Lindelof.lean',\n",
       " 'full_name': 'IsHereditarilyLindelof.isLindelof',\n",
       " 'start': [689, 1],\n",
       " 'end': [690, 52],\n",
       " 'traced_tactics': []}"
      ]
     },
     "execution_count": 22,
     "metadata": {},
     "output_type": "execute_result"
    }
   ],
   "source": [
    "proofs_train[0]"
   ]
  },
  {
   "cell_type": "code",
   "execution_count": 23,
   "id": "771dcd3f-13e9-414a-a0de-b7a06d1463c1",
   "metadata": {},
   "outputs": [
    {
     "data": {
      "text/plain": [
       "58753"
      ]
     },
     "execution_count": 23,
     "metadata": {},
     "output_type": "execute_result"
    }
   ],
   "source": [
    "sum(len(entry['traced_tactics']) > 0 for entry in proofs_train)"
   ]
  },
  {
   "cell_type": "code",
   "execution_count": 24,
   "id": "0fa79db7-d1bf-4d8c-b8d0-9fbca48007e5",
   "metadata": {},
   "outputs": [],
   "source": [
    "entries_file = [entry for entry in proofs_train if entry['file_path'] == 'Mathlib/RingTheory/DedekindDomain/Different.lean']\n",
    "entries_file = sorted(entries_file, key = lambda x: x['start'][0])"
   ]
  },
  {
   "cell_type": "code",
   "execution_count": 25,
   "id": "e390c426-573b-4187-9d7a-66b27d82ed41",
   "metadata": {},
   "outputs": [
    {
     "data": {
      "text/plain": [
       "41"
      ]
     },
     "execution_count": 25,
     "metadata": {},
     "output_type": "execute_result"
    }
   ],
   "source": [
    "len(entries_file)"
   ]
  },
  {
   "cell_type": "code",
   "execution_count": 26,
   "id": "8bd96911-5e30-408b-983b-7f0e6b4c7768",
   "metadata": {},
   "outputs": [
    {
     "data": {
      "text/plain": [
       "{'url': '/home/kefandong/.cache/lean_dojo/gitpython-mathlib4-2f65ba7f1a9144b20c8e7358513548e317d26de1/mathlib4',\n",
       " 'commit': '2f65ba7f1a9144b20c8e7358513548e317d26de1',\n",
       " 'file_path': 'Mathlib/RingTheory/DedekindDomain/Different.lean',\n",
       " 'full_name': 'traceForm_dualSubmodule_adjoin',\n",
       " 'start': [444, 1],\n",
       " 'end': [482, 28],\n",
       " 'traced_tactics': [{'tactic': 'have hKx : IsIntegral K x := Algebra.IsIntegral.isIntegral x',\n",
       "   'annotated_tactic': ['have hKx : <a>IsIntegral</a> K x := <a>Algebra.IsIntegral.isIntegral</a> x',\n",
       "    [{'full_name': 'IsIntegral',\n",
       "      'def_path': 'Mathlib/RingTheory/IntegralClosure.lean',\n",
       "      'def_pos': [61, 5],\n",
       "      'def_end_pos': [61, 15]},\n",
       "     {'full_name': 'Algebra.IsIntegral.isIntegral',\n",
       "      'def_path': 'Mathlib/RingTheory/IntegralClosure.lean',\n",
       "      'def_pos': [69, 3],\n",
       "      'def_end_pos': [69, 13]}]],\n",
       "   'state_before': 'A : Type u_1\\nK : Type u_2\\nL : Type u\\nB : Type ?u.622338\\ninst✝¹⁹ : CommRing A\\ninst✝¹⁸ : Field K\\ninst✝¹⁷ : CommRing B\\ninst✝¹⁶ : Field L\\ninst✝¹⁵ : Algebra A K\\ninst✝¹⁴ : Algebra B L\\ninst✝¹³ : Algebra A B\\ninst✝¹² : Algebra K L\\ninst✝¹¹ : Algebra A L\\ninst✝¹⁰ : IsScalarTower A K L\\ninst✝⁹ : IsScalarTower A B L\\ninst✝⁸ : IsDomain A\\ninst✝⁷ : IsDomain B\\ninst✝⁶ : IsFractionRing A K\\ninst✝⁵ : IsIntegralClosure B A L\\ninst✝⁴ : IsFractionRing B L\\ninst✝³ : FiniteDimensional K L\\ninst✝² : IsSeparable K L\\ninst✝¹ : IsIntegrallyClosed A\\ninst✝ : IsDedekindDomain B\\nx : L\\nhx : adjoin K {x} = ⊤\\nhAx : IsIntegral A x\\n⊢ (traceForm K L).dualSubmodule (Subalgebra.toSubmodule (adjoin A {x})) =\\n    ((aeval x) (derivative (minpoly K x)))⁻¹ • Subalgebra.toSubmodule (adjoin A {x})',\n",
       "   'state_after': 'A : Type u_1\\nK : Type u_2\\nL : Type u\\nB : Type ?u.622338\\ninst✝¹⁹ : CommRing A\\ninst✝¹⁸ : Field K\\ninst✝¹⁷ : CommRing B\\ninst✝¹⁶ : Field L\\ninst✝¹⁵ : Algebra A K\\ninst✝¹⁴ : Algebra B L\\ninst✝¹³ : Algebra A B\\ninst✝¹² : Algebra K L\\ninst✝¹¹ : Algebra A L\\ninst✝¹⁰ : IsScalarTower A K L\\ninst✝⁹ : IsScalarTower A B L\\ninst✝⁸ : IsDomain A\\ninst✝⁷ : IsDomain B\\ninst✝⁶ : IsFractionRing A K\\ninst✝⁵ : IsIntegralClosure B A L\\ninst✝⁴ : IsFractionRing B L\\ninst✝³ : FiniteDimensional K L\\ninst✝² : IsSeparable K L\\ninst✝¹ : IsIntegrallyClosed A\\ninst✝ : IsDedekindDomain B\\nx : L\\nhx : adjoin K {x} = ⊤\\nhAx : IsIntegral A x\\nhKx : IsIntegral K x\\n⊢ (traceForm K L).dualSubmodule (Subalgebra.toSubmodule (adjoin A {x})) =\\n    ((aeval x) (derivative (minpoly K x)))⁻¹ • Subalgebra.toSubmodule (adjoin A {x})'},\n",
       "  {'tactic': \"let pb := (Algebra.adjoin.powerBasis' hKx).map\\n  ((Subalgebra.equivOfEq _ _ hx).trans (Subalgebra.topEquiv))\",\n",
       "   'annotated_tactic': [\"let pb := (<a>Algebra.adjoin.powerBasis'</a> hKx).<a>map</a>\\n    ((<a>Subalgebra.equivOfEq</a> _ _ hx).<a>trans</a> (<a>Subalgebra.topEquiv</a>))\",\n",
       "    [{'full_name': \"Algebra.adjoin.powerBasis'\",\n",
       "      'def_path': 'Mathlib/FieldTheory/Minpoly/IsIntegrallyClosed.lean',\n",
       "      'def_pos': [170, 5],\n",
       "      'def_end_pos': [170, 38]},\n",
       "     {'full_name': 'PowerBasis.map',\n",
       "      'def_path': 'Mathlib/RingTheory/PowerBasis.lean',\n",
       "      'def_pos': [460, 19],\n",
       "      'def_end_pos': [460, 22]},\n",
       "     {'full_name': 'Subalgebra.equivOfEq',\n",
       "      'def_path': 'Mathlib/Algebra/Algebra/Subalgebra/Basic.lean',\n",
       "      'def_pos': [1059, 5],\n",
       "      'def_end_pos': [1059, 14]},\n",
       "     {'full_name': 'AlgEquiv.trans',\n",
       "      'def_path': 'Mathlib/Algebra/Algebra/Equiv.lean',\n",
       "      'def_pos': [389, 5],\n",
       "      'def_end_pos': [389, 10]},\n",
       "     {'full_name': 'Subalgebra.topEquiv',\n",
       "      'def_path': 'Mathlib/Algebra/Algebra/Subalgebra/Basic.lean',\n",
       "      'def_pos': [974, 5],\n",
       "      'def_end_pos': [974, 13]}]],\n",
       "   'state_before': 'A : Type u_1\\nK : Type u_2\\nL : Type u\\nB : Type ?u.622338\\ninst✝¹⁹ : CommRing A\\ninst✝¹⁸ : Field K\\ninst✝¹⁷ : CommRing B\\ninst✝¹⁶ : Field L\\ninst✝¹⁵ : Algebra A K\\ninst✝¹⁴ : Algebra B L\\ninst✝¹³ : Algebra A B\\ninst✝¹² : Algebra K L\\ninst✝¹¹ : Algebra A L\\ninst✝¹⁰ : IsScalarTower A K L\\ninst✝⁹ : IsScalarTower A B L\\ninst✝⁸ : IsDomain A\\ninst✝⁷ : IsDomain B\\ninst✝⁶ : IsFractionRing A K\\ninst✝⁵ : IsIntegralClosure B A L\\ninst✝⁴ : IsFractionRing B L\\ninst✝³ : FiniteDimensional K L\\ninst✝² : IsSeparable K L\\ninst✝¹ : IsIntegrallyClosed A\\ninst✝ : IsDedekindDomain B\\nx : L\\nhx : adjoin K {x} = ⊤\\nhAx : IsIntegral A x\\nhKx : IsIntegral K x\\n⊢ (traceForm K L).dualSubmodule (Subalgebra.toSubmodule (adjoin A {x})) =\\n    ((aeval x) (derivative (minpoly K x)))⁻¹ • Subalgebra.toSubmodule (adjoin A {x})',\n",
       "   'state_after': \"A : Type u_1\\nK : Type u_2\\nL : Type u\\nB : Type ?u.622338\\ninst✝¹⁹ : CommRing A\\ninst✝¹⁸ : Field K\\ninst✝¹⁷ : CommRing B\\ninst✝¹⁶ : Field L\\ninst✝¹⁵ : Algebra A K\\ninst✝¹⁴ : Algebra B L\\ninst✝¹³ : Algebra A B\\ninst✝¹² : Algebra K L\\ninst✝¹¹ : Algebra A L\\ninst✝¹⁰ : IsScalarTower A K L\\ninst✝⁹ : IsScalarTower A B L\\ninst✝⁸ : IsDomain A\\ninst✝⁷ : IsDomain B\\ninst✝⁶ : IsFractionRing A K\\ninst✝⁵ : IsIntegralClosure B A L\\ninst✝⁴ : IsFractionRing B L\\ninst✝³ : FiniteDimensional K L\\ninst✝² : IsSeparable K L\\ninst✝¹ : IsIntegrallyClosed A\\ninst✝ : IsDedekindDomain B\\nx : L\\nhx : adjoin K {x} = ⊤\\nhAx : IsIntegral A x\\nhKx : IsIntegral K x\\npb : PowerBasis K L := (adjoin.powerBasis' hKx).map (((adjoin K {x}).equivOfEq ⊤ hx).trans Subalgebra.topEquiv)\\n⊢ (traceForm K L).dualSubmodule (Subalgebra.toSubmodule (adjoin A {x})) =\\n    ((aeval x) (derivative (minpoly K x)))⁻¹ • Subalgebra.toSubmodule (adjoin A {x})\"},\n",
       "  {'tactic': 'have pbgen : pb.gen = x := by simp [pb]',\n",
       "   'annotated_tactic': ['have pbgen : pb.gen = x := by simp [pb]', []],\n",
       "   'state_before': \"A : Type u_1\\nK : Type u_2\\nL : Type u\\nB : Type ?u.622338\\ninst✝¹⁹ : CommRing A\\ninst✝¹⁸ : Field K\\ninst✝¹⁷ : CommRing B\\ninst✝¹⁶ : Field L\\ninst✝¹⁵ : Algebra A K\\ninst✝¹⁴ : Algebra B L\\ninst✝¹³ : Algebra A B\\ninst✝¹² : Algebra K L\\ninst✝¹¹ : Algebra A L\\ninst✝¹⁰ : IsScalarTower A K L\\ninst✝⁹ : IsScalarTower A B L\\ninst✝⁸ : IsDomain A\\ninst✝⁷ : IsDomain B\\ninst✝⁶ : IsFractionRing A K\\ninst✝⁵ : IsIntegralClosure B A L\\ninst✝⁴ : IsFractionRing B L\\ninst✝³ : FiniteDimensional K L\\ninst✝² : IsSeparable K L\\ninst✝¹ : IsIntegrallyClosed A\\ninst✝ : IsDedekindDomain B\\nx : L\\nhx : adjoin K {x} = ⊤\\nhAx : IsIntegral A x\\nhKx : IsIntegral K x\\npb : PowerBasis K L := (adjoin.powerBasis' hKx).map (((adjoin K {x}).equivOfEq ⊤ hx).trans Subalgebra.topEquiv)\\n⊢ (traceForm K L).dualSubmodule (Subalgebra.toSubmodule (adjoin A {x})) =\\n    ((aeval x) (derivative (minpoly K x)))⁻¹ • Subalgebra.toSubmodule (adjoin A {x})\",\n",
       "   'state_after': \"A : Type u_1\\nK : Type u_2\\nL : Type u\\nB : Type ?u.622338\\ninst✝¹⁹ : CommRing A\\ninst✝¹⁸ : Field K\\ninst✝¹⁷ : CommRing B\\ninst✝¹⁶ : Field L\\ninst✝¹⁵ : Algebra A K\\ninst✝¹⁴ : Algebra B L\\ninst✝¹³ : Algebra A B\\ninst✝¹² : Algebra K L\\ninst✝¹¹ : Algebra A L\\ninst✝¹⁰ : IsScalarTower A K L\\ninst✝⁹ : IsScalarTower A B L\\ninst✝⁸ : IsDomain A\\ninst✝⁷ : IsDomain B\\ninst✝⁶ : IsFractionRing A K\\ninst✝⁵ : IsIntegralClosure B A L\\ninst✝⁴ : IsFractionRing B L\\ninst✝³ : FiniteDimensional K L\\ninst✝² : IsSeparable K L\\ninst✝¹ : IsIntegrallyClosed A\\ninst✝ : IsDedekindDomain B\\nx : L\\nhx : adjoin K {x} = ⊤\\nhAx : IsIntegral A x\\nhKx : IsIntegral K x\\npb : PowerBasis K L := (adjoin.powerBasis' hKx).map (((adjoin K {x}).equivOfEq ⊤ hx).trans Subalgebra.topEquiv)\\npbgen : pb.gen = x\\n⊢ (traceForm K L).dualSubmodule (Subalgebra.toSubmodule (adjoin A {x})) =\\n    ((aeval x) (derivative (minpoly K x)))⁻¹ • Subalgebra.toSubmodule (adjoin A {x})\"},\n",
       "  {'tactic': 'have hpb : ⇑(LinearMap.BilinForm.dualBasis (traceForm K L) _ pb.basis) = _ :=\\n  _root_.funext (traceForm_dualBasis_powerBasis_eq pb)',\n",
       "   'annotated_tactic': ['have hpb : ⇑(<a>LinearMap.BilinForm.dualBasis</a> (<a>traceForm</a> K L) _ pb.basis) = _ :=\\n    <a>_root_.funext</a> (<a>traceForm_dualBasis_powerBasis_eq</a> pb)',\n",
       "    [{'full_name': 'LinearMap.BilinForm.dualBasis',\n",
       "      'def_path': 'Mathlib/LinearAlgebra/BilinearForm/Properties.lean',\n",
       "      'def_pos': [464, 19],\n",
       "      'def_end_pos': [464, 28]},\n",
       "     {'full_name': 'Algebra.traceForm',\n",
       "      'def_path': 'Mathlib/RingTheory/Trace.lean',\n",
       "      'def_pos': [190, 19],\n",
       "      'def_end_pos': [190, 28]},\n",
       "     {'full_name': 'funext',\n",
       "      'def_path': '.lake/packages/lean4/src/lean/Init/Core.lean',\n",
       "      'def_pos': [1812, 9],\n",
       "      'def_end_pos': [1812, 15]},\n",
       "     {'full_name': 'traceForm_dualBasis_powerBasis_eq',\n",
       "      'def_path': 'Mathlib/RingTheory/Trace.lean',\n",
       "      'def_pos': [654, 7],\n",
       "      'def_end_pos': [654, 40]}]],\n",
       "   'state_before': \"A : Type u_1\\nK : Type u_2\\nL : Type u\\nB : Type ?u.622338\\ninst✝¹⁹ : CommRing A\\ninst✝¹⁸ : Field K\\ninst✝¹⁷ : CommRing B\\ninst✝¹⁶ : Field L\\ninst✝¹⁵ : Algebra A K\\ninst✝¹⁴ : Algebra B L\\ninst✝¹³ : Algebra A B\\ninst✝¹² : Algebra K L\\ninst✝¹¹ : Algebra A L\\ninst✝¹⁰ : IsScalarTower A K L\\ninst✝⁹ : IsScalarTower A B L\\ninst✝⁸ : IsDomain A\\ninst✝⁷ : IsDomain B\\ninst✝⁶ : IsFractionRing A K\\ninst✝⁵ : IsIntegralClosure B A L\\ninst✝⁴ : IsFractionRing B L\\ninst✝³ : FiniteDimensional K L\\ninst✝² : IsSeparable K L\\ninst✝¹ : IsIntegrallyClosed A\\ninst✝ : IsDedekindDomain B\\nx : L\\nhx : adjoin K {x} = ⊤\\nhAx : IsIntegral A x\\nhKx : IsIntegral K x\\npb : PowerBasis K L := (adjoin.powerBasis' hKx).map (((adjoin K {x}).equivOfEq ⊤ hx).trans Subalgebra.topEquiv)\\npbgen : pb.gen = x\\n⊢ (traceForm K L).dualSubmodule (Subalgebra.toSubmodule (adjoin A {x})) =\\n    ((aeval x) (derivative (minpoly K x)))⁻¹ • Subalgebra.toSubmodule (adjoin A {x})\",\n",
       "   'state_after': \"A : Type u_1\\nK : Type u_2\\nL : Type u\\nB : Type ?u.622338\\ninst✝¹⁹ : CommRing A\\ninst✝¹⁸ : Field K\\ninst✝¹⁷ : CommRing B\\ninst✝¹⁶ : Field L\\ninst✝¹⁵ : Algebra A K\\ninst✝¹⁴ : Algebra B L\\ninst✝¹³ : Algebra A B\\ninst✝¹² : Algebra K L\\ninst✝¹¹ : Algebra A L\\ninst✝¹⁰ : IsScalarTower A K L\\ninst✝⁹ : IsScalarTower A B L\\ninst✝⁸ : IsDomain A\\ninst✝⁷ : IsDomain B\\ninst✝⁶ : IsFractionRing A K\\ninst✝⁵ : IsIntegralClosure B A L\\ninst✝⁴ : IsFractionRing B L\\ninst✝³ : FiniteDimensional K L\\ninst✝² : IsSeparable K L\\ninst✝¹ : IsIntegrallyClosed A\\ninst✝ : IsDedekindDomain B\\nx : L\\nhx : adjoin K {x} = ⊤\\nhAx : IsIntegral A x\\nhKx : IsIntegral K x\\npb : PowerBasis K L := (adjoin.powerBasis' hKx).map (((adjoin K {x}).equivOfEq ⊤ hx).trans Subalgebra.topEquiv)\\npbgen : pb.gen = x\\nhpb :\\n  ⇑((traceForm K L).dualBasis ⋯ pb.basis) = fun x =>\\n    (minpolyDiv K pb.gen).coeff ↑x / (aeval pb.gen) (derivative (minpoly K pb.gen))\\n⊢ (traceForm K L).dualSubmodule (Subalgebra.toSubmodule (adjoin A {x})) =\\n    ((aeval x) (derivative (minpoly K x)))⁻¹ • Subalgebra.toSubmodule (adjoin A {x})\"},\n",
       "  {'tactic': \"have : (Subalgebra.toSubmodule (Algebra.adjoin A {x})) =\\n    Submodule.span A (Set.range pb.basis) := by\\n  rw [← span_range_natDegree_eq_adjoin (minpoly.monic hAx) (minpoly.aeval _ _)]\\n  congr; ext y\\n  have : natDegree (minpoly A x) = natDegree (minpoly K x) := by\\n    rw [minpoly.isIntegrallyClosed_eq_field_fractions' K hAx, (minpoly.monic hAx).natDegree_map]\\n  simp only [Finset.coe_image, Finset.coe_range, Set.mem_image, Set.mem_Iio, Set.mem_range,\\n    pb.basis_eq_pow, pbgen]\\n  simp only [PowerBasis.map_dim, adjoin.powerBasis'_dim, this]\\n  exact ⟨fun ⟨a, b, c⟩ ↦ ⟨⟨a, b⟩, c⟩, fun ⟨⟨a, b⟩, c⟩ ↦ ⟨a, b, c⟩⟩\",\n",
       "   'annotated_tactic': [\"have : (<a>Subalgebra.toSubmodule</a> (<a>Algebra.adjoin</a> A {x})) =\\n      <a>Submodule.span</a> A (<a>Set.range</a> pb.basis) := by\\n    rw [← <a>span_range_natDegree_eq_adjoin</a> (<a>minpoly.monic</a> hAx) (<a>minpoly.aeval</a> _ _)]\\n    congr; ext y\\n    have : <a>natDegree</a> (<a>minpoly</a> A x) = <a>natDegree</a> (<a>minpoly</a> K x) := by\\n      rw [<a>minpoly.isIntegrallyClosed_eq_field_fractions'</a> K hAx, (<a>minpoly.monic</a> hAx).<a>natDegree_map</a>]\\n    simp only [<a>Finset.coe_image</a>, <a>Finset.coe_range</a>, <a>Set.mem_image</a>, <a>Set.mem_Iio</a>, <a>Set.mem_range</a>,\\n      pb.basis_eq_pow, pbgen]\\n    simp only [<a>PowerBasis.map_dim</a>, <a>adjoin.powerBasis'_dim</a>, this]\\n    exact ⟨fun ⟨a, b, c⟩ ↦ ⟨⟨a, b⟩, c⟩, fun ⟨⟨a, b⟩, c⟩ ↦ ⟨a, b, c⟩⟩\",\n",
       "    [{'full_name': 'Subalgebra.toSubmodule',\n",
       "      'def_path': 'Mathlib/Algebra/Algebra/Subalgebra/Basic.lean',\n",
       "      'def_pos': [281, 5],\n",
       "      'def_end_pos': [281, 16]},\n",
       "     {'full_name': 'Algebra.adjoin',\n",
       "      'def_path': 'Mathlib/Algebra/Algebra/Subalgebra/Basic.lean',\n",
       "      'def_pos': [747, 5],\n",
       "      'def_end_pos': [747, 11]},\n",
       "     {'full_name': 'Submodule.span',\n",
       "      'def_path': 'Mathlib/LinearAlgebra/Span.lean',\n",
       "      'def_pos': [50, 5],\n",
       "      'def_end_pos': [50, 9]},\n",
       "     {'full_name': 'Set.range',\n",
       "      'def_path': 'Mathlib/Data/Set/Defs.lean',\n",
       "      'def_pos': [157, 5],\n",
       "      'def_end_pos': [157, 10]},\n",
       "     {'full_name': 'Submodule.span_range_natDegree_eq_adjoin',\n",
       "      'def_path': 'Mathlib/RingTheory/IntegralClosure.lean',\n",
       "      'def_pos': [176, 9],\n",
       "      'def_end_pos': [176, 49]},\n",
       "     {'full_name': 'minpoly.monic',\n",
       "      'def_path': 'Mathlib/FieldTheory/Minpoly/Basic.lean',\n",
       "      'def_pos': [52, 9],\n",
       "      'def_end_pos': [52, 14]},\n",
       "     {'full_name': 'minpoly.aeval',\n",
       "      'def_path': 'Mathlib/FieldTheory/Minpoly/Basic.lean',\n",
       "      'def_pos': [87, 9],\n",
       "      'def_end_pos': [87, 14]},\n",
       "     {'full_name': 'Polynomial.natDegree',\n",
       "      'def_path': 'Mathlib/Algebra/Polynomial/Degree/Definitions.lean',\n",
       "      'def_pos': [67, 5],\n",
       "      'def_end_pos': [67, 14]},\n",
       "     {'full_name': 'minpoly',\n",
       "      'def_path': 'Mathlib/FieldTheory/Minpoly/Basic.lean',\n",
       "      'def_pos': [38, 19],\n",
       "      'def_end_pos': [38, 26]},\n",
       "     {'full_name': 'Polynomial.natDegree',\n",
       "      'def_path': 'Mathlib/Algebra/Polynomial/Degree/Definitions.lean',\n",
       "      'def_pos': [67, 5],\n",
       "      'def_end_pos': [67, 14]},\n",
       "     {'full_name': 'minpoly',\n",
       "      'def_path': 'Mathlib/FieldTheory/Minpoly/Basic.lean',\n",
       "      'def_pos': [38, 19],\n",
       "      'def_end_pos': [38, 26]},\n",
       "     {'full_name': \"minpoly.isIntegrallyClosed_eq_field_fractions'\",\n",
       "      'def_path': 'Mathlib/FieldTheory/Minpoly/IsIntegrallyClosed.lean',\n",
       "      'def_pos': [61, 9],\n",
       "      'def_end_pos': [61, 47]},\n",
       "     {'full_name': 'minpoly.monic',\n",
       "      'def_path': 'Mathlib/FieldTheory/Minpoly/Basic.lean',\n",
       "      'def_pos': [52, 9],\n",
       "      'def_end_pos': [52, 14]},\n",
       "     {'full_name': 'Polynomial.Monic.natDegree_map',\n",
       "      'def_path': 'Mathlib/Algebra/Polynomial/Monic.lean',\n",
       "      'def_pos': [318, 9],\n",
       "      'def_end_pos': [318, 28]},\n",
       "     {'full_name': 'Finset.coe_image',\n",
       "      'def_path': 'Mathlib/Data/Finset/Image.lean',\n",
       "      'def_pos': [419, 9],\n",
       "      'def_end_pos': [419, 18]},\n",
       "     {'full_name': 'Finset.coe_range',\n",
       "      'def_path': 'Mathlib/Data/Finset/Basic.lean',\n",
       "      'def_pos': [2941, 9],\n",
       "      'def_end_pos': [2941, 18]},\n",
       "     {'full_name': 'Set.mem_image',\n",
       "      'def_path': 'Mathlib/Data/Set/Defs.lean',\n",
       "      'def_pos': [127, 9],\n",
       "      'def_end_pos': [127, 18]},\n",
       "     {'full_name': 'Set.mem_Iio',\n",
       "      'def_path': 'Mathlib/Order/Interval/Set/Basic.lean',\n",
       "      'def_pos': [126, 9],\n",
       "      'def_end_pos': [126, 16]},\n",
       "     {'full_name': 'Set.mem_range',\n",
       "      'def_path': 'Mathlib/Data/Set/Defs.lean',\n",
       "      'def_pos': [160, 17],\n",
       "      'def_end_pos': [160, 26]},\n",
       "     {'full_name': 'PowerBasis.map_dim',\n",
       "      'def_path': 'Mathlib/RingTheory/PowerBasis.lean',\n",
       "      'def_pos': [459, 9],\n",
       "      'def_end_pos': [459, 12]},\n",
       "     {'full_name': \"Algebra.adjoin.powerBasis'_dim\",\n",
       "      'def_path': 'Mathlib/FieldTheory/Minpoly/IsIntegrallyClosed.lean',\n",
       "      'def_pos': [176, 9],\n",
       "      'def_end_pos': [176, 46]}]],\n",
       "   'state_before': \"A : Type u_1\\nK : Type u_2\\nL : Type u\\nB : Type ?u.622338\\ninst✝¹⁹ : CommRing A\\ninst✝¹⁸ : Field K\\ninst✝¹⁷ : CommRing B\\ninst✝¹⁶ : Field L\\ninst✝¹⁵ : Algebra A K\\ninst✝¹⁴ : Algebra B L\\ninst✝¹³ : Algebra A B\\ninst✝¹² : Algebra K L\\ninst✝¹¹ : Algebra A L\\ninst✝¹⁰ : IsScalarTower A K L\\ninst✝⁹ : IsScalarTower A B L\\ninst✝⁸ : IsDomain A\\ninst✝⁷ : IsDomain B\\ninst✝⁶ : IsFractionRing A K\\ninst✝⁵ : IsIntegralClosure B A L\\ninst✝⁴ : IsFractionRing B L\\ninst✝³ : FiniteDimensional K L\\ninst✝² : IsSeparable K L\\ninst✝¹ : IsIntegrallyClosed A\\ninst✝ : IsDedekindDomain B\\nx : L\\nhx : adjoin K {x} = ⊤\\nhAx : IsIntegral A x\\nhKx : IsIntegral K x\\npb : PowerBasis K L := (adjoin.powerBasis' hKx).map (((adjoin K {x}).equivOfEq ⊤ hx).trans Subalgebra.topEquiv)\\npbgen : pb.gen = x\\nhpb :\\n  ⇑((traceForm K L).dualBasis ⋯ pb.basis) = fun x =>\\n    (minpolyDiv K pb.gen).coeff ↑x / (aeval pb.gen) (derivative (minpoly K pb.gen))\\n⊢ (traceForm K L).dualSubmodule (Subalgebra.toSubmodule (adjoin A {x})) =\\n    ((aeval x) (derivative (minpoly K x)))⁻¹ • Subalgebra.toSubmodule (adjoin A {x})\",\n",
       "   'state_after': \"A : Type u_1\\nK : Type u_2\\nL : Type u\\nB : Type ?u.622338\\ninst✝¹⁹ : CommRing A\\ninst✝¹⁸ : Field K\\ninst✝¹⁷ : CommRing B\\ninst✝¹⁶ : Field L\\ninst✝¹⁵ : Algebra A K\\ninst✝¹⁴ : Algebra B L\\ninst✝¹³ : Algebra A B\\ninst✝¹² : Algebra K L\\ninst✝¹¹ : Algebra A L\\ninst✝¹⁰ : IsScalarTower A K L\\ninst✝⁹ : IsScalarTower A B L\\ninst✝⁸ : IsDomain A\\ninst✝⁷ : IsDomain B\\ninst✝⁶ : IsFractionRing A K\\ninst✝⁵ : IsIntegralClosure B A L\\ninst✝⁴ : IsFractionRing B L\\ninst✝³ : FiniteDimensional K L\\ninst✝² : IsSeparable K L\\ninst✝¹ : IsIntegrallyClosed A\\ninst✝ : IsDedekindDomain B\\nx : L\\nhx : adjoin K {x} = ⊤\\nhAx : IsIntegral A x\\nhKx : IsIntegral K x\\npb : PowerBasis K L := (adjoin.powerBasis' hKx).map (((adjoin K {x}).equivOfEq ⊤ hx).trans Subalgebra.topEquiv)\\npbgen : pb.gen = x\\nhpb :\\n  ⇑((traceForm K L).dualBasis ⋯ pb.basis) = fun x =>\\n    (minpolyDiv K pb.gen).coeff ↑x / (aeval pb.gen) (derivative (minpoly K pb.gen))\\nthis : Subalgebra.toSubmodule (adjoin A {x}) = span A (Set.range ⇑pb.basis)\\n⊢ (traceForm K L).dualSubmodule (Subalgebra.toSubmodule (adjoin A {x})) =\\n    ((aeval x) (derivative (minpoly K x)))⁻¹ • Subalgebra.toSubmodule (adjoin A {x})\"},\n",
       "  {'tactic': 'clear_value pb',\n",
       "   'annotated_tactic': ['clear_value pb', []],\n",
       "   'state_before': \"A : Type u_1\\nK : Type u_2\\nL : Type u\\nB : Type ?u.622338\\ninst✝¹⁹ : CommRing A\\ninst✝¹⁸ : Field K\\ninst✝¹⁷ : CommRing B\\ninst✝¹⁶ : Field L\\ninst✝¹⁵ : Algebra A K\\ninst✝¹⁴ : Algebra B L\\ninst✝¹³ : Algebra A B\\ninst✝¹² : Algebra K L\\ninst✝¹¹ : Algebra A L\\ninst✝¹⁰ : IsScalarTower A K L\\ninst✝⁹ : IsScalarTower A B L\\ninst✝⁸ : IsDomain A\\ninst✝⁷ : IsDomain B\\ninst✝⁶ : IsFractionRing A K\\ninst✝⁵ : IsIntegralClosure B A L\\ninst✝⁴ : IsFractionRing B L\\ninst✝³ : FiniteDimensional K L\\ninst✝² : IsSeparable K L\\ninst✝¹ : IsIntegrallyClosed A\\ninst✝ : IsDedekindDomain B\\nx : L\\nhx : adjoin K {x} = ⊤\\nhAx : IsIntegral A x\\nhKx : IsIntegral K x\\npb : PowerBasis K L := (adjoin.powerBasis' hKx).map (((adjoin K {x}).equivOfEq ⊤ hx).trans Subalgebra.topEquiv)\\npbgen : pb.gen = x\\nhpb :\\n  ⇑((traceForm K L).dualBasis ⋯ pb.basis) = fun x =>\\n    (minpolyDiv K pb.gen).coeff ↑x / (aeval pb.gen) (derivative (minpoly K pb.gen))\\nthis : Subalgebra.toSubmodule (adjoin A {x}) = span A (Set.range ⇑pb.basis)\\n⊢ (traceForm K L).dualSubmodule (Subalgebra.toSubmodule (adjoin A {x})) =\\n    ((aeval x) (derivative (minpoly K x)))⁻¹ • Subalgebra.toSubmodule (adjoin A {x})\",\n",
       "   'state_after': 'A : Type u_1\\nK : Type u_2\\nL : Type u\\nB : Type ?u.622338\\ninst✝¹⁹ : CommRing A\\ninst✝¹⁸ : Field K\\ninst✝¹⁷ : CommRing B\\ninst✝¹⁶ : Field L\\ninst✝¹⁵ : Algebra A K\\ninst✝¹⁴ : Algebra B L\\ninst✝¹³ : Algebra A B\\ninst✝¹² : Algebra K L\\ninst✝¹¹ : Algebra A L\\ninst✝¹⁰ : IsScalarTower A K L\\ninst✝⁹ : IsScalarTower A B L\\ninst✝⁸ : IsDomain A\\ninst✝⁷ : IsDomain B\\ninst✝⁶ : IsFractionRing A K\\ninst✝⁵ : IsIntegralClosure B A L\\ninst✝⁴ : IsFractionRing B L\\ninst✝³ : FiniteDimensional K L\\ninst✝² : IsSeparable K L\\ninst✝¹ : IsIntegrallyClosed A\\ninst✝ : IsDedekindDomain B\\nx : L\\nhx : adjoin K {x} = ⊤\\nhAx : IsIntegral A x\\nhKx : IsIntegral K x\\npb : PowerBasis K L\\npbgen : pb.gen = x\\nhpb :\\n  ⇑((traceForm K L).dualBasis ⋯ pb.basis) = fun x =>\\n    (minpolyDiv K pb.gen).coeff ↑x / (aeval pb.gen) (derivative (minpoly K pb.gen))\\nthis : Subalgebra.toSubmodule (adjoin A {x}) = span A (Set.range ⇑pb.basis)\\n⊢ (traceForm K L).dualSubmodule (Subalgebra.toSubmodule (adjoin A {x})) =\\n    ((aeval x) (derivative (minpoly K x)))⁻¹ • Subalgebra.toSubmodule (adjoin A {x})'},\n",
       "  {'tactic': 'conv_lhs => rw [this]',\n",
       "   'annotated_tactic': ['conv_lhs => rw [this]', []],\n",
       "   'state_before': 'A : Type u_1\\nK : Type u_2\\nL : Type u\\nB : Type ?u.622338\\ninst✝¹⁹ : CommRing A\\ninst✝¹⁸ : Field K\\ninst✝¹⁷ : CommRing B\\ninst✝¹⁶ : Field L\\ninst✝¹⁵ : Algebra A K\\ninst✝¹⁴ : Algebra B L\\ninst✝¹³ : Algebra A B\\ninst✝¹² : Algebra K L\\ninst✝¹¹ : Algebra A L\\ninst✝¹⁰ : IsScalarTower A K L\\ninst✝⁹ : IsScalarTower A B L\\ninst✝⁸ : IsDomain A\\ninst✝⁷ : IsDomain B\\ninst✝⁶ : IsFractionRing A K\\ninst✝⁵ : IsIntegralClosure B A L\\ninst✝⁴ : IsFractionRing B L\\ninst✝³ : FiniteDimensional K L\\ninst✝² : IsSeparable K L\\ninst✝¹ : IsIntegrallyClosed A\\ninst✝ : IsDedekindDomain B\\nx : L\\nhx : adjoin K {x} = ⊤\\nhAx : IsIntegral A x\\nhKx : IsIntegral K x\\npb : PowerBasis K L\\npbgen : pb.gen = x\\nhpb :\\n  ⇑((traceForm K L).dualBasis ⋯ pb.basis) = fun x =>\\n    (minpolyDiv K pb.gen).coeff ↑x / (aeval pb.gen) (derivative (minpoly K pb.gen))\\nthis : Subalgebra.toSubmodule (adjoin A {x}) = span A (Set.range ⇑pb.basis)\\n⊢ (traceForm K L).dualSubmodule (Subalgebra.toSubmodule (adjoin A {x})) =\\n    ((aeval x) (derivative (minpoly K x)))⁻¹ • Subalgebra.toSubmodule (adjoin A {x})',\n",
       "   'state_after': 'A : Type u_1\\nK : Type u_2\\nL : Type u\\nB : Type ?u.622338\\ninst✝¹⁹ : CommRing A\\ninst✝¹⁸ : Field K\\ninst✝¹⁷ : CommRing B\\ninst✝¹⁶ : Field L\\ninst✝¹⁵ : Algebra A K\\ninst✝¹⁴ : Algebra B L\\ninst✝¹³ : Algebra A B\\ninst✝¹² : Algebra K L\\ninst✝¹¹ : Algebra A L\\ninst✝¹⁰ : IsScalarTower A K L\\ninst✝⁹ : IsScalarTower A B L\\ninst✝⁸ : IsDomain A\\ninst✝⁷ : IsDomain B\\ninst✝⁶ : IsFractionRing A K\\ninst✝⁵ : IsIntegralClosure B A L\\ninst✝⁴ : IsFractionRing B L\\ninst✝³ : FiniteDimensional K L\\ninst✝² : IsSeparable K L\\ninst✝¹ : IsIntegrallyClosed A\\ninst✝ : IsDedekindDomain B\\nx : L\\nhx : adjoin K {x} = ⊤\\nhAx : IsIntegral A x\\nhKx : IsIntegral K x\\npb : PowerBasis K L\\npbgen : pb.gen = x\\nhpb :\\n  ⇑((traceForm K L).dualBasis ⋯ pb.basis) = fun x =>\\n    (minpolyDiv K pb.gen).coeff ↑x / (aeval pb.gen) (derivative (minpoly K pb.gen))\\nthis : Subalgebra.toSubmodule (adjoin A {x}) = span A (Set.range ⇑pb.basis)\\n⊢ (traceForm K L).dualSubmodule (span A (Set.range ⇑pb.basis)) =\\n    ((aeval x) (derivative (minpoly K x)))⁻¹ • Subalgebra.toSubmodule (adjoin A {x})'},\n",
       "  {'tactic': 'rw [← span_coeff_minpolyDiv hAx, LinearMap.BilinForm.dualSubmodule_span_of_basis,\\n  Submodule.smul_span, hpb]',\n",
       "   'annotated_tactic': ['rw [← <a>span_coeff_minpolyDiv</a> hAx, <a>LinearMap.BilinForm.dualSubmodule_span_of_basis</a>,\\n    <a>Submodule.smul_span</a>, hpb]',\n",
       "    [{'full_name': 'span_coeff_minpolyDiv',\n",
       "      'def_path': 'Mathlib/FieldTheory/Minpoly/MinpolyDiv.lean',\n",
       "      'def_pos': [156, 7],\n",
       "      'def_end_pos': [156, 28]},\n",
       "     {'full_name': 'LinearMap.BilinForm.dualSubmodule_span_of_basis',\n",
       "      'def_path': 'Mathlib/LinearAlgebra/BilinearForm/DualLattice.lean',\n",
       "      'def_pos': [87, 7],\n",
       "      'def_end_pos': [87, 34]},\n",
       "     {'full_name': 'Submodule.smul_span',\n",
       "      'def_path': 'Mathlib/Algebra/Module/Submodule/Pointwise.lean',\n",
       "      'def_pos': [255, 9],\n",
       "      'def_end_pos': [255, 18]}]],\n",
       "   'state_before': 'A : Type u_1\\nK : Type u_2\\nL : Type u\\nB : Type ?u.622338\\ninst✝¹⁹ : CommRing A\\ninst✝¹⁸ : Field K\\ninst✝¹⁷ : CommRing B\\ninst✝¹⁶ : Field L\\ninst✝¹⁵ : Algebra A K\\ninst✝¹⁴ : Algebra B L\\ninst✝¹³ : Algebra A B\\ninst✝¹² : Algebra K L\\ninst✝¹¹ : Algebra A L\\ninst✝¹⁰ : IsScalarTower A K L\\ninst✝⁹ : IsScalarTower A B L\\ninst✝⁸ : IsDomain A\\ninst✝⁷ : IsDomain B\\ninst✝⁶ : IsFractionRing A K\\ninst✝⁵ : IsIntegralClosure B A L\\ninst✝⁴ : IsFractionRing B L\\ninst✝³ : FiniteDimensional K L\\ninst✝² : IsSeparable K L\\ninst✝¹ : IsIntegrallyClosed A\\ninst✝ : IsDedekindDomain B\\nx : L\\nhx : adjoin K {x} = ⊤\\nhAx : IsIntegral A x\\nhKx : IsIntegral K x\\npb : PowerBasis K L\\npbgen : pb.gen = x\\nhpb :\\n  ⇑((traceForm K L).dualBasis ⋯ pb.basis) = fun x =>\\n    (minpolyDiv K pb.gen).coeff ↑x / (aeval pb.gen) (derivative (minpoly K pb.gen))\\nthis : Subalgebra.toSubmodule (adjoin A {x}) = span A (Set.range ⇑pb.basis)\\n⊢ (traceForm K L).dualSubmodule (span A (Set.range ⇑pb.basis)) =\\n    ((aeval x) (derivative (minpoly K x)))⁻¹ • Subalgebra.toSubmodule (adjoin A {x})',\n",
       "   'state_after': 'A : Type u_1\\nK : Type u_2\\nL : Type u\\nB : Type ?u.622338\\ninst✝¹⁹ : CommRing A\\ninst✝¹⁸ : Field K\\ninst✝¹⁷ : CommRing B\\ninst✝¹⁶ : Field L\\ninst✝¹⁵ : Algebra A K\\ninst✝¹⁴ : Algebra B L\\ninst✝¹³ : Algebra A B\\ninst✝¹² : Algebra K L\\ninst✝¹¹ : Algebra A L\\ninst✝¹⁰ : IsScalarTower A K L\\ninst✝⁹ : IsScalarTower A B L\\ninst✝⁸ : IsDomain A\\ninst✝⁷ : IsDomain B\\ninst✝⁶ : IsFractionRing A K\\ninst✝⁵ : IsIntegralClosure B A L\\ninst✝⁴ : IsFractionRing B L\\ninst✝³ : FiniteDimensional K L\\ninst✝² : IsSeparable K L\\ninst✝¹ : IsIntegrallyClosed A\\ninst✝ : IsDedekindDomain B\\nx : L\\nhx : adjoin K {x} = ⊤\\nhAx : IsIntegral A x\\nhKx : IsIntegral K x\\npb : PowerBasis K L\\npbgen : pb.gen = x\\nhpb :\\n  ⇑((traceForm K L).dualBasis ⋯ pb.basis) = fun x =>\\n    (minpolyDiv K pb.gen).coeff ↑x / (aeval pb.gen) (derivative (minpoly K pb.gen))\\nthis : Subalgebra.toSubmodule (adjoin A {x}) = span A (Set.range ⇑pb.basis)\\n⊢ span A (Set.range fun x => (minpolyDiv K pb.gen).coeff ↑x / (aeval pb.gen) (derivative (minpoly K pb.gen))) =\\n    span A (((aeval x) (derivative (minpoly K x)))⁻¹ • Set.range (minpolyDiv A x).coeff)'},\n",
       "  {'tactic': \"show _ = Submodule.span A (_ '' _)\",\n",
       "   'annotated_tactic': [\"show _ = <a>Submodule.span</a> A (_ '' _)\",\n",
       "    [{'full_name': 'Submodule.span',\n",
       "      'def_path': 'Mathlib/LinearAlgebra/Span.lean',\n",
       "      'def_pos': [50, 5],\n",
       "      'def_end_pos': [50, 9]}]],\n",
       "   'state_before': 'A : Type u_1\\nK : Type u_2\\nL : Type u\\nB : Type ?u.622338\\ninst✝¹⁹ : CommRing A\\ninst✝¹⁸ : Field K\\ninst✝¹⁷ : CommRing B\\ninst✝¹⁶ : Field L\\ninst✝¹⁵ : Algebra A K\\ninst✝¹⁴ : Algebra B L\\ninst✝¹³ : Algebra A B\\ninst✝¹² : Algebra K L\\ninst✝¹¹ : Algebra A L\\ninst✝¹⁰ : IsScalarTower A K L\\ninst✝⁹ : IsScalarTower A B L\\ninst✝⁸ : IsDomain A\\ninst✝⁷ : IsDomain B\\ninst✝⁶ : IsFractionRing A K\\ninst✝⁵ : IsIntegralClosure B A L\\ninst✝⁴ : IsFractionRing B L\\ninst✝³ : FiniteDimensional K L\\ninst✝² : IsSeparable K L\\ninst✝¹ : IsIntegrallyClosed A\\ninst✝ : IsDedekindDomain B\\nx : L\\nhx : adjoin K {x} = ⊤\\nhAx : IsIntegral A x\\nhKx : IsIntegral K x\\npb : PowerBasis K L\\npbgen : pb.gen = x\\nhpb :\\n  ⇑((traceForm K L).dualBasis ⋯ pb.basis) = fun x =>\\n    (minpolyDiv K pb.gen).coeff ↑x / (aeval pb.gen) (derivative (minpoly K pb.gen))\\nthis : Subalgebra.toSubmodule (adjoin A {x}) = span A (Set.range ⇑pb.basis)\\n⊢ span A (Set.range fun x => (minpolyDiv K pb.gen).coeff ↑x / (aeval pb.gen) (derivative (minpoly K pb.gen))) =\\n    span A (((aeval x) (derivative (minpoly K x)))⁻¹ • Set.range (minpolyDiv A x).coeff)',\n",
       "   'state_after': \"A : Type u_1\\nK : Type u_2\\nL : Type u\\nB : Type ?u.622338\\ninst✝¹⁹ : CommRing A\\ninst✝¹⁸ : Field K\\ninst✝¹⁷ : CommRing B\\ninst✝¹⁶ : Field L\\ninst✝¹⁵ : Algebra A K\\ninst✝¹⁴ : Algebra B L\\ninst✝¹³ : Algebra A B\\ninst✝¹² : Algebra K L\\ninst✝¹¹ : Algebra A L\\ninst✝¹⁰ : IsScalarTower A K L\\ninst✝⁹ : IsScalarTower A B L\\ninst✝⁸ : IsDomain A\\ninst✝⁷ : IsDomain B\\ninst✝⁶ : IsFractionRing A K\\ninst✝⁵ : IsIntegralClosure B A L\\ninst✝⁴ : IsFractionRing B L\\ninst✝³ : FiniteDimensional K L\\ninst✝² : IsSeparable K L\\ninst✝¹ : IsIntegrallyClosed A\\ninst✝ : IsDedekindDomain B\\nx : L\\nhx : adjoin K {x} = ⊤\\nhAx : IsIntegral A x\\nhKx : IsIntegral K x\\npb : PowerBasis K L\\npbgen : pb.gen = x\\nhpb :\\n  ⇑((traceForm K L).dualBasis ⋯ pb.basis) = fun x =>\\n    (minpolyDiv K pb.gen).coeff ↑x / (aeval pb.gen) (derivative (minpoly K pb.gen))\\nthis : Subalgebra.toSubmodule (adjoin A {x}) = span A (Set.range ⇑pb.basis)\\n⊢ span A (Set.range fun x => (minpolyDiv K pb.gen).coeff ↑x / (aeval pb.gen) (derivative (minpoly K pb.gen))) =\\n    span A ((fun x_1 => ((aeval x) (derivative (minpoly K x)))⁻¹ • x_1) '' Set.range (minpolyDiv A x).coeff)\"},\n",
       "  {'tactic': 'simp only [← Set.range_comp, smul_eq_mul, div_eq_inv_mul, pbgen,\\n  minpolyDiv_eq_of_isIntegrallyClosed K hAx]',\n",
       "   'annotated_tactic': ['simp only [← <a>Set.range_comp</a>, <a>smul_eq_mul</a>, <a>div_eq_inv_mul</a>, pbgen,\\n    <a>minpolyDiv_eq_of_isIntegrallyClosed</a> K hAx]',\n",
       "    [{'full_name': 'Set.range_comp',\n",
       "      'def_path': 'Mathlib/Data/Set/Image.lean',\n",
       "      'def_pos': [723, 9],\n",
       "      'def_end_pos': [723, 19]},\n",
       "     {'full_name': 'smul_eq_mul',\n",
       "      'def_path': 'Mathlib/Algebra/Group/Action/Defs.lean',\n",
       "      'def_pos': [89, 7],\n",
       "      'def_end_pos': [89, 18]},\n",
       "     {'full_name': 'div_eq_inv_mul',\n",
       "      'def_path': 'Mathlib/Algebra/Group/Basic.lean',\n",
       "      'def_pos': [736, 9],\n",
       "      'def_end_pos': [736, 23]},\n",
       "     {'full_name': 'minpolyDiv_eq_of_isIntegrallyClosed',\n",
       "      'def_path': 'Mathlib/FieldTheory/Minpoly/MinpolyDiv.lean',\n",
       "      'def_pos': [128, 7],\n",
       "      'def_end_pos': [128, 42]}]],\n",
       "   'state_before': \"A : Type u_1\\nK : Type u_2\\nL : Type u\\nB : Type ?u.622338\\ninst✝¹⁹ : CommRing A\\ninst✝¹⁸ : Field K\\ninst✝¹⁷ : CommRing B\\ninst✝¹⁶ : Field L\\ninst✝¹⁵ : Algebra A K\\ninst✝¹⁴ : Algebra B L\\ninst✝¹³ : Algebra A B\\ninst✝¹² : Algebra K L\\ninst✝¹¹ : Algebra A L\\ninst✝¹⁰ : IsScalarTower A K L\\ninst✝⁹ : IsScalarTower A B L\\ninst✝⁸ : IsDomain A\\ninst✝⁷ : IsDomain B\\ninst✝⁶ : IsFractionRing A K\\ninst✝⁵ : IsIntegralClosure B A L\\ninst✝⁴ : IsFractionRing B L\\ninst✝³ : FiniteDimensional K L\\ninst✝² : IsSeparable K L\\ninst✝¹ : IsIntegrallyClosed A\\ninst✝ : IsDedekindDomain B\\nx : L\\nhx : adjoin K {x} = ⊤\\nhAx : IsIntegral A x\\nhKx : IsIntegral K x\\npb : PowerBasis K L\\npbgen : pb.gen = x\\nhpb :\\n  ⇑((traceForm K L).dualBasis ⋯ pb.basis) = fun x =>\\n    (minpolyDiv K pb.gen).coeff ↑x / (aeval pb.gen) (derivative (minpoly K pb.gen))\\nthis : Subalgebra.toSubmodule (adjoin A {x}) = span A (Set.range ⇑pb.basis)\\n⊢ span A (Set.range fun x => (minpolyDiv K pb.gen).coeff ↑x / (aeval pb.gen) (derivative (minpoly K pb.gen))) =\\n    span A ((fun x_1 => ((aeval x) (derivative (minpoly K x)))⁻¹ • x_1) '' Set.range (minpolyDiv A x).coeff)\",\n",
       "   'state_after': 'A : Type u_1\\nK : Type u_2\\nL : Type u\\nB : Type ?u.622338\\ninst✝¹⁹ : CommRing A\\ninst✝¹⁸ : Field K\\ninst✝¹⁷ : CommRing B\\ninst✝¹⁶ : Field L\\ninst✝¹⁵ : Algebra A K\\ninst✝¹⁴ : Algebra B L\\ninst✝¹³ : Algebra A B\\ninst✝¹² : Algebra K L\\ninst✝¹¹ : Algebra A L\\ninst✝¹⁰ : IsScalarTower A K L\\ninst✝⁹ : IsScalarTower A B L\\ninst✝⁸ : IsDomain A\\ninst✝⁷ : IsDomain B\\ninst✝⁶ : IsFractionRing A K\\ninst✝⁵ : IsIntegralClosure B A L\\ninst✝⁴ : IsFractionRing B L\\ninst✝³ : FiniteDimensional K L\\ninst✝² : IsSeparable K L\\ninst✝¹ : IsIntegrallyClosed A\\ninst✝ : IsDedekindDomain B\\nx : L\\nhx : adjoin K {x} = ⊤\\nhAx : IsIntegral A x\\nhKx : IsIntegral K x\\npb : PowerBasis K L\\npbgen : pb.gen = x\\nhpb :\\n  ⇑((traceForm K L).dualBasis ⋯ pb.basis) = fun x =>\\n    (minpolyDiv K pb.gen).coeff ↑x / (aeval pb.gen) (derivative (minpoly K pb.gen))\\nthis : Subalgebra.toSubmodule (adjoin A {x}) = span A (Set.range ⇑pb.basis)\\n⊢ span A (Set.range fun x_1 => ((aeval x) (derivative (minpoly K x)))⁻¹ * (minpolyDiv K x).coeff ↑x_1) =\\n    span A (Set.range ((fun a => ((aeval x) (derivative (minpoly K x)))⁻¹ * a) ∘ (minpolyDiv K x).coeff))'},\n",
       "  {'tactic': 'apply le_antisymm <;> rw [Submodule.span_le]',\n",
       "   'annotated_tactic': ['apply <a>le_antisymm</a> <;> rw [<a>Submodule.span_le</a>]',\n",
       "    [{'full_name': 'le_antisymm',\n",
       "      'def_path': 'Mathlib/Init/Order/Defs.lean',\n",
       "      'def_pos': [188, 9],\n",
       "      'def_end_pos': [188, 20]},\n",
       "     {'full_name': 'Submodule.span_le',\n",
       "      'def_path': 'Mathlib/LinearAlgebra/Span.lean',\n",
       "      'def_pos': [80, 9],\n",
       "      'def_end_pos': [80, 16]}]],\n",
       "   'state_before': 'A : Type u_1\\nK : Type u_2\\nL : Type u\\nB : Type ?u.622338\\ninst✝¹⁹ : CommRing A\\ninst✝¹⁸ : Field K\\ninst✝¹⁷ : CommRing B\\ninst✝¹⁶ : Field L\\ninst✝¹⁵ : Algebra A K\\ninst✝¹⁴ : Algebra B L\\ninst✝¹³ : Algebra A B\\ninst✝¹² : Algebra K L\\ninst✝¹¹ : Algebra A L\\ninst✝¹⁰ : IsScalarTower A K L\\ninst✝⁹ : IsScalarTower A B L\\ninst✝⁸ : IsDomain A\\ninst✝⁷ : IsDomain B\\ninst✝⁶ : IsFractionRing A K\\ninst✝⁵ : IsIntegralClosure B A L\\ninst✝⁴ : IsFractionRing B L\\ninst✝³ : FiniteDimensional K L\\ninst✝² : IsSeparable K L\\ninst✝¹ : IsIntegrallyClosed A\\ninst✝ : IsDedekindDomain B\\nx : L\\nhx : adjoin K {x} = ⊤\\nhAx : IsIntegral A x\\nhKx : IsIntegral K x\\npb : PowerBasis K L\\npbgen : pb.gen = x\\nhpb :\\n  ⇑((traceForm K L).dualBasis ⋯ pb.basis) = fun x =>\\n    (minpolyDiv K pb.gen).coeff ↑x / (aeval pb.gen) (derivative (minpoly K pb.gen))\\nthis : Subalgebra.toSubmodule (adjoin A {x}) = span A (Set.range ⇑pb.basis)\\n⊢ span A (Set.range fun x_1 => ((aeval x) (derivative (minpoly K x)))⁻¹ * (minpolyDiv K x).coeff ↑x_1) =\\n    span A (Set.range ((fun a => ((aeval x) (derivative (minpoly K x)))⁻¹ * a) ∘ (minpolyDiv K x).coeff))',\n",
       "   'state_after': 'case a\\nA : Type u_1\\nK : Type u_2\\nL : Type u\\nB : Type ?u.622338\\ninst✝¹⁹ : CommRing A\\ninst✝¹⁸ : Field K\\ninst✝¹⁷ : CommRing B\\ninst✝¹⁶ : Field L\\ninst✝¹⁵ : Algebra A K\\ninst✝¹⁴ : Algebra B L\\ninst✝¹³ : Algebra A B\\ninst✝¹² : Algebra K L\\ninst✝¹¹ : Algebra A L\\ninst✝¹⁰ : IsScalarTower A K L\\ninst✝⁹ : IsScalarTower A B L\\ninst✝⁸ : IsDomain A\\ninst✝⁷ : IsDomain B\\ninst✝⁶ : IsFractionRing A K\\ninst✝⁵ : IsIntegralClosure B A L\\ninst✝⁴ : IsFractionRing B L\\ninst✝³ : FiniteDimensional K L\\ninst✝² : IsSeparable K L\\ninst✝¹ : IsIntegrallyClosed A\\ninst✝ : IsDedekindDomain B\\nx : L\\nhx : adjoin K {x} = ⊤\\nhAx : IsIntegral A x\\nhKx : IsIntegral K x\\npb : PowerBasis K L\\npbgen : pb.gen = x\\nhpb :\\n  ⇑((traceForm K L).dualBasis ⋯ pb.basis) = fun x =>\\n    (minpolyDiv K pb.gen).coeff ↑x / (aeval pb.gen) (derivative (minpoly K pb.gen))\\nthis : Subalgebra.toSubmodule (adjoin A {x}) = span A (Set.range ⇑pb.basis)\\n⊢ (Set.range fun x_1 => ((aeval x) (derivative (minpoly K x)))⁻¹ * (minpolyDiv K x).coeff ↑x_1) ⊆\\n    ↑(span A (Set.range ((fun a => ((aeval x) (derivative (minpoly K x)))⁻¹ * a) ∘ (minpolyDiv K x).coeff)))\\n\\ncase a\\nA : Type u_1\\nK : Type u_2\\nL : Type u\\nB : Type ?u.622338\\ninst✝¹⁹ : CommRing A\\ninst✝¹⁸ : Field K\\ninst✝¹⁷ : CommRing B\\ninst✝¹⁶ : Field L\\ninst✝¹⁵ : Algebra A K\\ninst✝¹⁴ : Algebra B L\\ninst✝¹³ : Algebra A B\\ninst✝¹² : Algebra K L\\ninst✝¹¹ : Algebra A L\\ninst✝¹⁰ : IsScalarTower A K L\\ninst✝⁹ : IsScalarTower A B L\\ninst✝⁸ : IsDomain A\\ninst✝⁷ : IsDomain B\\ninst✝⁶ : IsFractionRing A K\\ninst✝⁵ : IsIntegralClosure B A L\\ninst✝⁴ : IsFractionRing B L\\ninst✝³ : FiniteDimensional K L\\ninst✝² : IsSeparable K L\\ninst✝¹ : IsIntegrallyClosed A\\ninst✝ : IsDedekindDomain B\\nx : L\\nhx : adjoin K {x} = ⊤\\nhAx : IsIntegral A x\\nhKx : IsIntegral K x\\npb : PowerBasis K L\\npbgen : pb.gen = x\\nhpb :\\n  ⇑((traceForm K L).dualBasis ⋯ pb.basis) = fun x =>\\n    (minpolyDiv K pb.gen).coeff ↑x / (aeval pb.gen) (derivative (minpoly K pb.gen))\\nthis : Subalgebra.toSubmodule (adjoin A {x}) = span A (Set.range ⇑pb.basis)\\n⊢ Set.range ((fun a => ((aeval x) (derivative (minpoly K x)))⁻¹ * a) ∘ (minpolyDiv K x).coeff) ⊆\\n    ↑(span A (Set.range fun x_1 => ((aeval x) (derivative (minpoly K x)))⁻¹ * (minpolyDiv K x).coeff ↑x_1))'},\n",
       "  {'tactic': 'simp [pb]',\n",
       "   'annotated_tactic': ['simp [pb]', []],\n",
       "   'state_before': \"A : Type u_1\\nK : Type u_2\\nL : Type u\\nB : Type ?u.622338\\ninst✝¹⁹ : CommRing A\\ninst✝¹⁸ : Field K\\ninst✝¹⁷ : CommRing B\\ninst✝¹⁶ : Field L\\ninst✝¹⁵ : Algebra A K\\ninst✝¹⁴ : Algebra B L\\ninst✝¹³ : Algebra A B\\ninst✝¹² : Algebra K L\\ninst✝¹¹ : Algebra A L\\ninst✝¹⁰ : IsScalarTower A K L\\ninst✝⁹ : IsScalarTower A B L\\ninst✝⁸ : IsDomain A\\ninst✝⁷ : IsDomain B\\ninst✝⁶ : IsFractionRing A K\\ninst✝⁵ : IsIntegralClosure B A L\\ninst✝⁴ : IsFractionRing B L\\ninst✝³ : FiniteDimensional K L\\ninst✝² : IsSeparable K L\\ninst✝¹ : IsIntegrallyClosed A\\ninst✝ : IsDedekindDomain B\\nx : L\\nhx : adjoin K {x} = ⊤\\nhAx : IsIntegral A x\\nhKx : IsIntegral K x\\npb : PowerBasis K L := (adjoin.powerBasis' hKx).map (((adjoin K {x}).equivOfEq ⊤ hx).trans Subalgebra.topEquiv)\\n⊢ pb.gen = x\",\n",
       "   'state_after': 'no goals'},\n",
       "  {'tactic': 'rw [← span_range_natDegree_eq_adjoin (minpoly.monic hAx) (minpoly.aeval _ _)]',\n",
       "   'annotated_tactic': ['rw [← <a>span_range_natDegree_eq_adjoin</a> (<a>minpoly.monic</a> hAx) (<a>minpoly.aeval</a> _ _)]',\n",
       "    [{'full_name': 'Submodule.span_range_natDegree_eq_adjoin',\n",
       "      'def_path': 'Mathlib/RingTheory/IntegralClosure.lean',\n",
       "      'def_pos': [176, 9],\n",
       "      'def_end_pos': [176, 49]},\n",
       "     {'full_name': 'minpoly.monic',\n",
       "      'def_path': 'Mathlib/FieldTheory/Minpoly/Basic.lean',\n",
       "      'def_pos': [52, 9],\n",
       "      'def_end_pos': [52, 14]},\n",
       "     {'full_name': 'minpoly.aeval',\n",
       "      'def_path': 'Mathlib/FieldTheory/Minpoly/Basic.lean',\n",
       "      'def_pos': [87, 9],\n",
       "      'def_end_pos': [87, 14]}]],\n",
       "   'state_before': \"A : Type u_1\\nK : Type u_2\\nL : Type u\\nB : Type ?u.622338\\ninst✝¹⁹ : CommRing A\\ninst✝¹⁸ : Field K\\ninst✝¹⁷ : CommRing B\\ninst✝¹⁶ : Field L\\ninst✝¹⁵ : Algebra A K\\ninst✝¹⁴ : Algebra B L\\ninst✝¹³ : Algebra A B\\ninst✝¹² : Algebra K L\\ninst✝¹¹ : Algebra A L\\ninst✝¹⁰ : IsScalarTower A K L\\ninst✝⁹ : IsScalarTower A B L\\ninst✝⁸ : IsDomain A\\ninst✝⁷ : IsDomain B\\ninst✝⁶ : IsFractionRing A K\\ninst✝⁵ : IsIntegralClosure B A L\\ninst✝⁴ : IsFractionRing B L\\ninst✝³ : FiniteDimensional K L\\ninst✝² : IsSeparable K L\\ninst✝¹ : IsIntegrallyClosed A\\ninst✝ : IsDedekindDomain B\\nx : L\\nhx : adjoin K {x} = ⊤\\nhAx : IsIntegral A x\\nhKx : IsIntegral K x\\npb : PowerBasis K L := (adjoin.powerBasis' hKx).map (((adjoin K {x}).equivOfEq ⊤ hx).trans Subalgebra.topEquiv)\\npbgen : pb.gen = x\\nhpb :\\n  ⇑((traceForm K L).dualBasis ⋯ pb.basis) = fun x =>\\n    (minpolyDiv K pb.gen).coeff ↑x / (aeval pb.gen) (derivative (minpoly K pb.gen))\\n⊢ Subalgebra.toSubmodule (adjoin A {x}) = span A (Set.range ⇑pb.basis)\",\n",
       "   'state_after': \"A : Type u_1\\nK : Type u_2\\nL : Type u\\nB : Type ?u.622338\\ninst✝¹⁹ : CommRing A\\ninst✝¹⁸ : Field K\\ninst✝¹⁷ : CommRing B\\ninst✝¹⁶ : Field L\\ninst✝¹⁵ : Algebra A K\\ninst✝¹⁴ : Algebra B L\\ninst✝¹³ : Algebra A B\\ninst✝¹² : Algebra K L\\ninst✝¹¹ : Algebra A L\\ninst✝¹⁰ : IsScalarTower A K L\\ninst✝⁹ : IsScalarTower A B L\\ninst✝⁸ : IsDomain A\\ninst✝⁷ : IsDomain B\\ninst✝⁶ : IsFractionRing A K\\ninst✝⁵ : IsIntegralClosure B A L\\ninst✝⁴ : IsFractionRing B L\\ninst✝³ : FiniteDimensional K L\\ninst✝² : IsSeparable K L\\ninst✝¹ : IsIntegrallyClosed A\\ninst✝ : IsDedekindDomain B\\nx : L\\nhx : adjoin K {x} = ⊤\\nhAx : IsIntegral A x\\nhKx : IsIntegral K x\\npb : PowerBasis K L := (adjoin.powerBasis' hKx).map (((adjoin K {x}).equivOfEq ⊤ hx).trans Subalgebra.topEquiv)\\npbgen : pb.gen = x\\nhpb :\\n  ⇑((traceForm K L).dualBasis ⋯ pb.basis) = fun x =>\\n    (minpolyDiv K pb.gen).coeff ↑x / (aeval pb.gen) (derivative (minpoly K pb.gen))\\n⊢ span A ↑(Finset.image (fun x_1 => x ^ x_1) (Finset.range (minpoly A x).natDegree)) = span A (Set.range ⇑pb.basis)\"},\n",
       "  {'tactic': 'congr',\n",
       "   'annotated_tactic': ['congr', []],\n",
       "   'state_before': \"A : Type u_1\\nK : Type u_2\\nL : Type u\\nB : Type ?u.622338\\ninst✝¹⁹ : CommRing A\\ninst✝¹⁸ : Field K\\ninst✝¹⁷ : CommRing B\\ninst✝¹⁶ : Field L\\ninst✝¹⁵ : Algebra A K\\ninst✝¹⁴ : Algebra B L\\ninst✝¹³ : Algebra A B\\ninst✝¹² : Algebra K L\\ninst✝¹¹ : Algebra A L\\ninst✝¹⁰ : IsScalarTower A K L\\ninst✝⁹ : IsScalarTower A B L\\ninst✝⁸ : IsDomain A\\ninst✝⁷ : IsDomain B\\ninst✝⁶ : IsFractionRing A K\\ninst✝⁵ : IsIntegralClosure B A L\\ninst✝⁴ : IsFractionRing B L\\ninst✝³ : FiniteDimensional K L\\ninst✝² : IsSeparable K L\\ninst✝¹ : IsIntegrallyClosed A\\ninst✝ : IsDedekindDomain B\\nx : L\\nhx : adjoin K {x} = ⊤\\nhAx : IsIntegral A x\\nhKx : IsIntegral K x\\npb : PowerBasis K L := (adjoin.powerBasis' hKx).map (((adjoin K {x}).equivOfEq ⊤ hx).trans Subalgebra.topEquiv)\\npbgen : pb.gen = x\\nhpb :\\n  ⇑((traceForm K L).dualBasis ⋯ pb.basis) = fun x =>\\n    (minpolyDiv K pb.gen).coeff ↑x / (aeval pb.gen) (derivative (minpoly K pb.gen))\\n⊢ span A ↑(Finset.image (fun x_1 => x ^ x_1) (Finset.range (minpoly A x).natDegree)) = span A (Set.range ⇑pb.basis)\",\n",
       "   'state_after': \"case e_s\\nA : Type u_1\\nK : Type u_2\\nL : Type u\\nB : Type ?u.622338\\ninst✝¹⁹ : CommRing A\\ninst✝¹⁸ : Field K\\ninst✝¹⁷ : CommRing B\\ninst✝¹⁶ : Field L\\ninst✝¹⁵ : Algebra A K\\ninst✝¹⁴ : Algebra B L\\ninst✝¹³ : Algebra A B\\ninst✝¹² : Algebra K L\\ninst✝¹¹ : Algebra A L\\ninst✝¹⁰ : IsScalarTower A K L\\ninst✝⁹ : IsScalarTower A B L\\ninst✝⁸ : IsDomain A\\ninst✝⁷ : IsDomain B\\ninst✝⁶ : IsFractionRing A K\\ninst✝⁵ : IsIntegralClosure B A L\\ninst✝⁴ : IsFractionRing B L\\ninst✝³ : FiniteDimensional K L\\ninst✝² : IsSeparable K L\\ninst✝¹ : IsIntegrallyClosed A\\ninst✝ : IsDedekindDomain B\\nx : L\\nhx : adjoin K {x} = ⊤\\nhAx : IsIntegral A x\\nhKx : IsIntegral K x\\npb : PowerBasis K L := (adjoin.powerBasis' hKx).map (((adjoin K {x}).equivOfEq ⊤ hx).trans Subalgebra.topEquiv)\\npbgen : pb.gen = x\\nhpb :\\n  ⇑((traceForm K L).dualBasis ⋯ pb.basis) = fun x =>\\n    (minpolyDiv K pb.gen).coeff ↑x / (aeval pb.gen) (derivative (minpoly K pb.gen))\\n⊢ ↑(Finset.image (fun x_1 => x ^ x_1) (Finset.range (minpoly A x).natDegree)) = Set.range ⇑pb.basis\"},\n",
       "  {'tactic': 'ext y',\n",
       "   'annotated_tactic': ['ext y', []],\n",
       "   'state_before': \"case e_s\\nA : Type u_1\\nK : Type u_2\\nL : Type u\\nB : Type ?u.622338\\ninst✝¹⁹ : CommRing A\\ninst✝¹⁸ : Field K\\ninst✝¹⁷ : CommRing B\\ninst✝¹⁶ : Field L\\ninst✝¹⁵ : Algebra A K\\ninst✝¹⁴ : Algebra B L\\ninst✝¹³ : Algebra A B\\ninst✝¹² : Algebra K L\\ninst✝¹¹ : Algebra A L\\ninst✝¹⁰ : IsScalarTower A K L\\ninst✝⁹ : IsScalarTower A B L\\ninst✝⁸ : IsDomain A\\ninst✝⁷ : IsDomain B\\ninst✝⁶ : IsFractionRing A K\\ninst✝⁵ : IsIntegralClosure B A L\\ninst✝⁴ : IsFractionRing B L\\ninst✝³ : FiniteDimensional K L\\ninst✝² : IsSeparable K L\\ninst✝¹ : IsIntegrallyClosed A\\ninst✝ : IsDedekindDomain B\\nx : L\\nhx : adjoin K {x} = ⊤\\nhAx : IsIntegral A x\\nhKx : IsIntegral K x\\npb : PowerBasis K L := (adjoin.powerBasis' hKx).map (((adjoin K {x}).equivOfEq ⊤ hx).trans Subalgebra.topEquiv)\\npbgen : pb.gen = x\\nhpb :\\n  ⇑((traceForm K L).dualBasis ⋯ pb.basis) = fun x =>\\n    (minpolyDiv K pb.gen).coeff ↑x / (aeval pb.gen) (derivative (minpoly K pb.gen))\\n⊢ ↑(Finset.image (fun x_1 => x ^ x_1) (Finset.range (minpoly A x).natDegree)) = Set.range ⇑pb.basis\",\n",
       "   'state_after': \"case e_s.h\\nA : Type u_1\\nK : Type u_2\\nL : Type u\\nB : Type ?u.622338\\ninst✝¹⁹ : CommRing A\\ninst✝¹⁸ : Field K\\ninst✝¹⁷ : CommRing B\\ninst✝¹⁶ : Field L\\ninst✝¹⁵ : Algebra A K\\ninst✝¹⁴ : Algebra B L\\ninst✝¹³ : Algebra A B\\ninst✝¹² : Algebra K L\\ninst✝¹¹ : Algebra A L\\ninst✝¹⁰ : IsScalarTower A K L\\ninst✝⁹ : IsScalarTower A B L\\ninst✝⁸ : IsDomain A\\ninst✝⁷ : IsDomain B\\ninst✝⁶ : IsFractionRing A K\\ninst✝⁵ : IsIntegralClosure B A L\\ninst✝⁴ : IsFractionRing B L\\ninst✝³ : FiniteDimensional K L\\ninst✝² : IsSeparable K L\\ninst✝¹ : IsIntegrallyClosed A\\ninst✝ : IsDedekindDomain B\\nx : L\\nhx : adjoin K {x} = ⊤\\nhAx : IsIntegral A x\\nhKx : IsIntegral K x\\npb : PowerBasis K L := (adjoin.powerBasis' hKx).map (((adjoin K {x}).equivOfEq ⊤ hx).trans Subalgebra.topEquiv)\\npbgen : pb.gen = x\\nhpb :\\n  ⇑((traceForm K L).dualBasis ⋯ pb.basis) = fun x =>\\n    (minpolyDiv K pb.gen).coeff ↑x / (aeval pb.gen) (derivative (minpoly K pb.gen))\\ny : L\\n⊢ y ∈ ↑(Finset.image (fun x_1 => x ^ x_1) (Finset.range (minpoly A x).natDegree)) ↔ y ∈ Set.range ⇑pb.basis\"},\n",
       "  {'tactic': \"have : natDegree (minpoly A x) = natDegree (minpoly K x) := by\\n  rw [minpoly.isIntegrallyClosed_eq_field_fractions' K hAx, (minpoly.monic hAx).natDegree_map]\",\n",
       "   'annotated_tactic': [\"have : <a>natDegree</a> (<a>minpoly</a> A x) = <a>natDegree</a> (<a>minpoly</a> K x) := by\\n      rw [<a>minpoly.isIntegrallyClosed_eq_field_fractions'</a> K hAx, (<a>minpoly.monic</a> hAx).<a>natDegree_map</a>]\",\n",
       "    [{'full_name': 'Polynomial.natDegree',\n",
       "      'def_path': 'Mathlib/Algebra/Polynomial/Degree/Definitions.lean',\n",
       "      'def_pos': [67, 5],\n",
       "      'def_end_pos': [67, 14]},\n",
       "     {'full_name': 'minpoly',\n",
       "      'def_path': 'Mathlib/FieldTheory/Minpoly/Basic.lean',\n",
       "      'def_pos': [38, 19],\n",
       "      'def_end_pos': [38, 26]},\n",
       "     {'full_name': 'Polynomial.natDegree',\n",
       "      'def_path': 'Mathlib/Algebra/Polynomial/Degree/Definitions.lean',\n",
       "      'def_pos': [67, 5],\n",
       "      'def_end_pos': [67, 14]},\n",
       "     {'full_name': 'minpoly',\n",
       "      'def_path': 'Mathlib/FieldTheory/Minpoly/Basic.lean',\n",
       "      'def_pos': [38, 19],\n",
       "      'def_end_pos': [38, 26]},\n",
       "     {'full_name': \"minpoly.isIntegrallyClosed_eq_field_fractions'\",\n",
       "      'def_path': 'Mathlib/FieldTheory/Minpoly/IsIntegrallyClosed.lean',\n",
       "      'def_pos': [61, 9],\n",
       "      'def_end_pos': [61, 47]},\n",
       "     {'full_name': 'minpoly.monic',\n",
       "      'def_path': 'Mathlib/FieldTheory/Minpoly/Basic.lean',\n",
       "      'def_pos': [52, 9],\n",
       "      'def_end_pos': [52, 14]},\n",
       "     {'full_name': 'Polynomial.Monic.natDegree_map',\n",
       "      'def_path': 'Mathlib/Algebra/Polynomial/Monic.lean',\n",
       "      'def_pos': [318, 9],\n",
       "      'def_end_pos': [318, 28]}]],\n",
       "   'state_before': \"case e_s.h\\nA : Type u_1\\nK : Type u_2\\nL : Type u\\nB : Type ?u.622338\\ninst✝¹⁹ : CommRing A\\ninst✝¹⁸ : Field K\\ninst✝¹⁷ : CommRing B\\ninst✝¹⁶ : Field L\\ninst✝¹⁵ : Algebra A K\\ninst✝¹⁴ : Algebra B L\\ninst✝¹³ : Algebra A B\\ninst✝¹² : Algebra K L\\ninst✝¹¹ : Algebra A L\\ninst✝¹⁰ : IsScalarTower A K L\\ninst✝⁹ : IsScalarTower A B L\\ninst✝⁸ : IsDomain A\\ninst✝⁷ : IsDomain B\\ninst✝⁶ : IsFractionRing A K\\ninst✝⁵ : IsIntegralClosure B A L\\ninst✝⁴ : IsFractionRing B L\\ninst✝³ : FiniteDimensional K L\\ninst✝² : IsSeparable K L\\ninst✝¹ : IsIntegrallyClosed A\\ninst✝ : IsDedekindDomain B\\nx : L\\nhx : adjoin K {x} = ⊤\\nhAx : IsIntegral A x\\nhKx : IsIntegral K x\\npb : PowerBasis K L := (adjoin.powerBasis' hKx).map (((adjoin K {x}).equivOfEq ⊤ hx).trans Subalgebra.topEquiv)\\npbgen : pb.gen = x\\nhpb :\\n  ⇑((traceForm K L).dualBasis ⋯ pb.basis) = fun x =>\\n    (minpolyDiv K pb.gen).coeff ↑x / (aeval pb.gen) (derivative (minpoly K pb.gen))\\ny : L\\n⊢ y ∈ ↑(Finset.image (fun x_1 => x ^ x_1) (Finset.range (minpoly A x).natDegree)) ↔ y ∈ Set.range ⇑pb.basis\",\n",
       "   'state_after': \"case e_s.h\\nA : Type u_1\\nK : Type u_2\\nL : Type u\\nB : Type ?u.622338\\ninst✝¹⁹ : CommRing A\\ninst✝¹⁸ : Field K\\ninst✝¹⁷ : CommRing B\\ninst✝¹⁶ : Field L\\ninst✝¹⁵ : Algebra A K\\ninst✝¹⁴ : Algebra B L\\ninst✝¹³ : Algebra A B\\ninst✝¹² : Algebra K L\\ninst✝¹¹ : Algebra A L\\ninst✝¹⁰ : IsScalarTower A K L\\ninst✝⁹ : IsScalarTower A B L\\ninst✝⁸ : IsDomain A\\ninst✝⁷ : IsDomain B\\ninst✝⁶ : IsFractionRing A K\\ninst✝⁵ : IsIntegralClosure B A L\\ninst✝⁴ : IsFractionRing B L\\ninst✝³ : FiniteDimensional K L\\ninst✝² : IsSeparable K L\\ninst✝¹ : IsIntegrallyClosed A\\ninst✝ : IsDedekindDomain B\\nx : L\\nhx : adjoin K {x} = ⊤\\nhAx : IsIntegral A x\\nhKx : IsIntegral K x\\npb : PowerBasis K L := (adjoin.powerBasis' hKx).map (((adjoin K {x}).equivOfEq ⊤ hx).trans Subalgebra.topEquiv)\\npbgen : pb.gen = x\\nhpb :\\n  ⇑((traceForm K L).dualBasis ⋯ pb.basis) = fun x =>\\n    (minpolyDiv K pb.gen).coeff ↑x / (aeval pb.gen) (derivative (minpoly K pb.gen))\\ny : L\\nthis : (minpoly A x).natDegree = (minpoly K x).natDegree\\n⊢ y ∈ ↑(Finset.image (fun x_1 => x ^ x_1) (Finset.range (minpoly A x).natDegree)) ↔ y ∈ Set.range ⇑pb.basis\"},\n",
       "  {'tactic': 'simp only [Finset.coe_image, Finset.coe_range, Set.mem_image, Set.mem_Iio, Set.mem_range,\\n  pb.basis_eq_pow, pbgen]',\n",
       "   'annotated_tactic': ['simp only [<a>Finset.coe_image</a>, <a>Finset.coe_range</a>, <a>Set.mem_image</a>, <a>Set.mem_Iio</a>, <a>Set.mem_range</a>,\\n      pb.basis_eq_pow, pbgen]',\n",
       "    [{'full_name': 'Finset.coe_image',\n",
       "      'def_path': 'Mathlib/Data/Finset/Image.lean',\n",
       "      'def_pos': [419, 9],\n",
       "      'def_end_pos': [419, 18]},\n",
       "     {'full_name': 'Finset.coe_range',\n",
       "      'def_path': 'Mathlib/Data/Finset/Basic.lean',\n",
       "      'def_pos': [2941, 9],\n",
       "      'def_end_pos': [2941, 18]},\n",
       "     {'full_name': 'Set.mem_image',\n",
       "      'def_path': 'Mathlib/Data/Set/Defs.lean',\n",
       "      'def_pos': [127, 9],\n",
       "      'def_end_pos': [127, 18]},\n",
       "     {'full_name': 'Set.mem_Iio',\n",
       "      'def_path': 'Mathlib/Order/Interval/Set/Basic.lean',\n",
       "      'def_pos': [126, 9],\n",
       "      'def_end_pos': [126, 16]},\n",
       "     {'full_name': 'Set.mem_range',\n",
       "      'def_path': 'Mathlib/Data/Set/Defs.lean',\n",
       "      'def_pos': [160, 17],\n",
       "      'def_end_pos': [160, 26]}]],\n",
       "   'state_before': \"case e_s.h\\nA : Type u_1\\nK : Type u_2\\nL : Type u\\nB : Type ?u.622338\\ninst✝¹⁹ : CommRing A\\ninst✝¹⁸ : Field K\\ninst✝¹⁷ : CommRing B\\ninst✝¹⁶ : Field L\\ninst✝¹⁵ : Algebra A K\\ninst✝¹⁴ : Algebra B L\\ninst✝¹³ : Algebra A B\\ninst✝¹² : Algebra K L\\ninst✝¹¹ : Algebra A L\\ninst✝¹⁰ : IsScalarTower A K L\\ninst✝⁹ : IsScalarTower A B L\\ninst✝⁸ : IsDomain A\\ninst✝⁷ : IsDomain B\\ninst✝⁶ : IsFractionRing A K\\ninst✝⁵ : IsIntegralClosure B A L\\ninst✝⁴ : IsFractionRing B L\\ninst✝³ : FiniteDimensional K L\\ninst✝² : IsSeparable K L\\ninst✝¹ : IsIntegrallyClosed A\\ninst✝ : IsDedekindDomain B\\nx : L\\nhx : adjoin K {x} = ⊤\\nhAx : IsIntegral A x\\nhKx : IsIntegral K x\\npb : PowerBasis K L := (adjoin.powerBasis' hKx).map (((adjoin K {x}).equivOfEq ⊤ hx).trans Subalgebra.topEquiv)\\npbgen : pb.gen = x\\nhpb :\\n  ⇑((traceForm K L).dualBasis ⋯ pb.basis) = fun x =>\\n    (minpolyDiv K pb.gen).coeff ↑x / (aeval pb.gen) (derivative (minpoly K pb.gen))\\ny : L\\nthis : (minpoly A x).natDegree = (minpoly K x).natDegree\\n⊢ y ∈ ↑(Finset.image (fun x_1 => x ^ x_1) (Finset.range (minpoly A x).natDegree)) ↔ y ∈ Set.range ⇑pb.basis\",\n",
       "   'state_after': \"case e_s.h\\nA : Type u_1\\nK : Type u_2\\nL : Type u\\nB : Type ?u.622338\\ninst✝¹⁹ : CommRing A\\ninst✝¹⁸ : Field K\\ninst✝¹⁷ : CommRing B\\ninst✝¹⁶ : Field L\\ninst✝¹⁵ : Algebra A K\\ninst✝¹⁴ : Algebra B L\\ninst✝¹³ : Algebra A B\\ninst✝¹² : Algebra K L\\ninst✝¹¹ : Algebra A L\\ninst✝¹⁰ : IsScalarTower A K L\\ninst✝⁹ : IsScalarTower A B L\\ninst✝⁸ : IsDomain A\\ninst✝⁷ : IsDomain B\\ninst✝⁶ : IsFractionRing A K\\ninst✝⁵ : IsIntegralClosure B A L\\ninst✝⁴ : IsFractionRing B L\\ninst✝³ : FiniteDimensional K L\\ninst✝² : IsSeparable K L\\ninst✝¹ : IsIntegrallyClosed A\\ninst✝ : IsDedekindDomain B\\nx : L\\nhx : adjoin K {x} = ⊤\\nhAx : IsIntegral A x\\nhKx : IsIntegral K x\\npb : PowerBasis K L := (adjoin.powerBasis' hKx).map (((adjoin K {x}).equivOfEq ⊤ hx).trans Subalgebra.topEquiv)\\npbgen : pb.gen = x\\nhpb :\\n  ⇑((traceForm K L).dualBasis ⋯ pb.basis) = fun x =>\\n    (minpolyDiv K pb.gen).coeff ↑x / (aeval pb.gen) (derivative (minpoly K pb.gen))\\ny : L\\nthis : (minpoly A x).natDegree = (minpoly K x).natDegree\\n⊢ (∃ x_1 < (minpoly A x).natDegree, x ^ x_1 = y) ↔ ∃ y_1, x ^ ↑y_1 = y\"},\n",
       "  {'tactic': \"simp only [PowerBasis.map_dim, adjoin.powerBasis'_dim, this]\",\n",
       "   'annotated_tactic': [\"simp only [<a>PowerBasis.map_dim</a>, <a>adjoin.powerBasis'_dim</a>, this]\",\n",
       "    [{'full_name': 'PowerBasis.map_dim',\n",
       "      'def_path': 'Mathlib/RingTheory/PowerBasis.lean',\n",
       "      'def_pos': [459, 9],\n",
       "      'def_end_pos': [459, 12]},\n",
       "     {'full_name': \"Algebra.adjoin.powerBasis'_dim\",\n",
       "      'def_path': 'Mathlib/FieldTheory/Minpoly/IsIntegrallyClosed.lean',\n",
       "      'def_pos': [176, 9],\n",
       "      'def_end_pos': [176, 46]}]],\n",
       "   'state_before': \"case e_s.h\\nA : Type u_1\\nK : Type u_2\\nL : Type u\\nB : Type ?u.622338\\ninst✝¹⁹ : CommRing A\\ninst✝¹⁸ : Field K\\ninst✝¹⁷ : CommRing B\\ninst✝¹⁶ : Field L\\ninst✝¹⁵ : Algebra A K\\ninst✝¹⁴ : Algebra B L\\ninst✝¹³ : Algebra A B\\ninst✝¹² : Algebra K L\\ninst✝¹¹ : Algebra A L\\ninst✝¹⁰ : IsScalarTower A K L\\ninst✝⁹ : IsScalarTower A B L\\ninst✝⁸ : IsDomain A\\ninst✝⁷ : IsDomain B\\ninst✝⁶ : IsFractionRing A K\\ninst✝⁵ : IsIntegralClosure B A L\\ninst✝⁴ : IsFractionRing B L\\ninst✝³ : FiniteDimensional K L\\ninst✝² : IsSeparable K L\\ninst✝¹ : IsIntegrallyClosed A\\ninst✝ : IsDedekindDomain B\\nx : L\\nhx : adjoin K {x} = ⊤\\nhAx : IsIntegral A x\\nhKx : IsIntegral K x\\npb : PowerBasis K L := (adjoin.powerBasis' hKx).map (((adjoin K {x}).equivOfEq ⊤ hx).trans Subalgebra.topEquiv)\\npbgen : pb.gen = x\\nhpb :\\n  ⇑((traceForm K L).dualBasis ⋯ pb.basis) = fun x =>\\n    (minpolyDiv K pb.gen).coeff ↑x / (aeval pb.gen) (derivative (minpoly K pb.gen))\\ny : L\\nthis : (minpoly A x).natDegree = (minpoly K x).natDegree\\n⊢ (∃ x_1 < (minpoly A x).natDegree, x ^ x_1 = y) ↔ ∃ y_1, x ^ ↑y_1 = y\",\n",
       "   'state_after': \"case e_s.h\\nA : Type u_1\\nK : Type u_2\\nL : Type u\\nB : Type ?u.622338\\ninst✝¹⁹ : CommRing A\\ninst✝¹⁸ : Field K\\ninst✝¹⁷ : CommRing B\\ninst✝¹⁶ : Field L\\ninst✝¹⁵ : Algebra A K\\ninst✝¹⁴ : Algebra B L\\ninst✝¹³ : Algebra A B\\ninst✝¹² : Algebra K L\\ninst✝¹¹ : Algebra A L\\ninst✝¹⁰ : IsScalarTower A K L\\ninst✝⁹ : IsScalarTower A B L\\ninst✝⁸ : IsDomain A\\ninst✝⁷ : IsDomain B\\ninst✝⁶ : IsFractionRing A K\\ninst✝⁵ : IsIntegralClosure B A L\\ninst✝⁴ : IsFractionRing B L\\ninst✝³ : FiniteDimensional K L\\ninst✝² : IsSeparable K L\\ninst✝¹ : IsIntegrallyClosed A\\ninst✝ : IsDedekindDomain B\\nx : L\\nhx : adjoin K {x} = ⊤\\nhAx : IsIntegral A x\\nhKx : IsIntegral K x\\npb : PowerBasis K L := (adjoin.powerBasis' hKx).map (((adjoin K {x}).equivOfEq ⊤ hx).trans Subalgebra.topEquiv)\\npbgen : pb.gen = x\\nhpb :\\n  ⇑((traceForm K L).dualBasis ⋯ pb.basis) = fun x =>\\n    (minpolyDiv K pb.gen).coeff ↑x / (aeval pb.gen) (derivative (minpoly K pb.gen))\\ny : L\\nthis : (minpoly A x).natDegree = (minpoly K x).natDegree\\n⊢ (∃ x_1 < (minpoly K x).natDegree, x ^ x_1 = y) ↔ ∃ y_1, x ^ ↑y_1 = y\"},\n",
       "  {'tactic': 'exact ⟨fun ⟨a, b, c⟩ ↦ ⟨⟨a, b⟩, c⟩, fun ⟨⟨a, b⟩, c⟩ ↦ ⟨a, b, c⟩⟩',\n",
       "   'annotated_tactic': ['exact ⟨fun ⟨a, b, c⟩ ↦ ⟨⟨a, b⟩, c⟩, fun ⟨⟨a, b⟩, c⟩ ↦ ⟨a, b, c⟩⟩',\n",
       "    []],\n",
       "   'state_before': \"case e_s.h\\nA : Type u_1\\nK : Type u_2\\nL : Type u\\nB : Type ?u.622338\\ninst✝¹⁹ : CommRing A\\ninst✝¹⁸ : Field K\\ninst✝¹⁷ : CommRing B\\ninst✝¹⁶ : Field L\\ninst✝¹⁵ : Algebra A K\\ninst✝¹⁴ : Algebra B L\\ninst✝¹³ : Algebra A B\\ninst✝¹² : Algebra K L\\ninst✝¹¹ : Algebra A L\\ninst✝¹⁰ : IsScalarTower A K L\\ninst✝⁹ : IsScalarTower A B L\\ninst✝⁸ : IsDomain A\\ninst✝⁷ : IsDomain B\\ninst✝⁶ : IsFractionRing A K\\ninst✝⁵ : IsIntegralClosure B A L\\ninst✝⁴ : IsFractionRing B L\\ninst✝³ : FiniteDimensional K L\\ninst✝² : IsSeparable K L\\ninst✝¹ : IsIntegrallyClosed A\\ninst✝ : IsDedekindDomain B\\nx : L\\nhx : adjoin K {x} = ⊤\\nhAx : IsIntegral A x\\nhKx : IsIntegral K x\\npb : PowerBasis K L := (adjoin.powerBasis' hKx).map (((adjoin K {x}).equivOfEq ⊤ hx).trans Subalgebra.topEquiv)\\npbgen : pb.gen = x\\nhpb :\\n  ⇑((traceForm K L).dualBasis ⋯ pb.basis) = fun x =>\\n    (minpolyDiv K pb.gen).coeff ↑x / (aeval pb.gen) (derivative (minpoly K pb.gen))\\ny : L\\nthis : (minpoly A x).natDegree = (minpoly K x).natDegree\\n⊢ (∃ x_1 < (minpoly K x).natDegree, x ^ x_1 = y) ↔ ∃ y_1, x ^ ↑y_1 = y\",\n",
       "   'state_after': 'no goals'},\n",
       "  {'tactic': \"rw [minpoly.isIntegrallyClosed_eq_field_fractions' K hAx, (minpoly.monic hAx).natDegree_map]\",\n",
       "   'annotated_tactic': [\"rw [<a>minpoly.isIntegrallyClosed_eq_field_fractions'</a> K hAx, (<a>minpoly.monic</a> hAx).<a>natDegree_map</a>]\",\n",
       "    [{'full_name': \"minpoly.isIntegrallyClosed_eq_field_fractions'\",\n",
       "      'def_path': 'Mathlib/FieldTheory/Minpoly/IsIntegrallyClosed.lean',\n",
       "      'def_pos': [61, 9],\n",
       "      'def_end_pos': [61, 47]},\n",
       "     {'full_name': 'minpoly.monic',\n",
       "      'def_path': 'Mathlib/FieldTheory/Minpoly/Basic.lean',\n",
       "      'def_pos': [52, 9],\n",
       "      'def_end_pos': [52, 14]},\n",
       "     {'full_name': 'Polynomial.Monic.natDegree_map',\n",
       "      'def_path': 'Mathlib/Algebra/Polynomial/Monic.lean',\n",
       "      'def_pos': [318, 9],\n",
       "      'def_end_pos': [318, 28]}]],\n",
       "   'state_before': \"A : Type u_1\\nK : Type u_2\\nL : Type u\\nB : Type ?u.622338\\ninst✝¹⁹ : CommRing A\\ninst✝¹⁸ : Field K\\ninst✝¹⁷ : CommRing B\\ninst✝¹⁶ : Field L\\ninst✝¹⁵ : Algebra A K\\ninst✝¹⁴ : Algebra B L\\ninst✝¹³ : Algebra A B\\ninst✝¹² : Algebra K L\\ninst✝¹¹ : Algebra A L\\ninst✝¹⁰ : IsScalarTower A K L\\ninst✝⁹ : IsScalarTower A B L\\ninst✝⁸ : IsDomain A\\ninst✝⁷ : IsDomain B\\ninst✝⁶ : IsFractionRing A K\\ninst✝⁵ : IsIntegralClosure B A L\\ninst✝⁴ : IsFractionRing B L\\ninst✝³ : FiniteDimensional K L\\ninst✝² : IsSeparable K L\\ninst✝¹ : IsIntegrallyClosed A\\ninst✝ : IsDedekindDomain B\\nx : L\\nhx : adjoin K {x} = ⊤\\nhAx : IsIntegral A x\\nhKx : IsIntegral K x\\npb : PowerBasis K L := (adjoin.powerBasis' hKx).map (((adjoin K {x}).equivOfEq ⊤ hx).trans Subalgebra.topEquiv)\\npbgen : pb.gen = x\\nhpb :\\n  ⇑((traceForm K L).dualBasis ⋯ pb.basis) = fun x =>\\n    (minpolyDiv K pb.gen).coeff ↑x / (aeval pb.gen) (derivative (minpoly K pb.gen))\\ny : L\\n⊢ (minpoly A x).natDegree = (minpoly K x).natDegree\",\n",
       "   'state_after': 'no goals'},\n",
       "  {'tactic': 'rintro _ ⟨i, rfl⟩',\n",
       "   'annotated_tactic': ['rintro _ ⟨i, rfl⟩', []],\n",
       "   'state_before': 'case a\\nA : Type u_1\\nK : Type u_2\\nL : Type u\\nB : Type ?u.622338\\ninst✝¹⁹ : CommRing A\\ninst✝¹⁸ : Field K\\ninst✝¹⁷ : CommRing B\\ninst✝¹⁶ : Field L\\ninst✝¹⁵ : Algebra A K\\ninst✝¹⁴ : Algebra B L\\ninst✝¹³ : Algebra A B\\ninst✝¹² : Algebra K L\\ninst✝¹¹ : Algebra A L\\ninst✝¹⁰ : IsScalarTower A K L\\ninst✝⁹ : IsScalarTower A B L\\ninst✝⁸ : IsDomain A\\ninst✝⁷ : IsDomain B\\ninst✝⁶ : IsFractionRing A K\\ninst✝⁵ : IsIntegralClosure B A L\\ninst✝⁴ : IsFractionRing B L\\ninst✝³ : FiniteDimensional K L\\ninst✝² : IsSeparable K L\\ninst✝¹ : IsIntegrallyClosed A\\ninst✝ : IsDedekindDomain B\\nx : L\\nhx : adjoin K {x} = ⊤\\nhAx : IsIntegral A x\\nhKx : IsIntegral K x\\npb : PowerBasis K L\\npbgen : pb.gen = x\\nhpb :\\n  ⇑((traceForm K L).dualBasis ⋯ pb.basis) = fun x =>\\n    (minpolyDiv K pb.gen).coeff ↑x / (aeval pb.gen) (derivative (minpoly K pb.gen))\\nthis : Subalgebra.toSubmodule (adjoin A {x}) = span A (Set.range ⇑pb.basis)\\n⊢ (Set.range fun x_1 => ((aeval x) (derivative (minpoly K x)))⁻¹ * (minpolyDiv K x).coeff ↑x_1) ⊆\\n    ↑(span A (Set.range ((fun a => ((aeval x) (derivative (minpoly K x)))⁻¹ * a) ∘ (minpolyDiv K x).coeff)))',\n",
       "   'state_after': 'case a.intro\\nA : Type u_1\\nK : Type u_2\\nL : Type u\\nB : Type ?u.622338\\ninst✝¹⁹ : CommRing A\\ninst✝¹⁸ : Field K\\ninst✝¹⁷ : CommRing B\\ninst✝¹⁶ : Field L\\ninst✝¹⁵ : Algebra A K\\ninst✝¹⁴ : Algebra B L\\ninst✝¹³ : Algebra A B\\ninst✝¹² : Algebra K L\\ninst✝¹¹ : Algebra A L\\ninst✝¹⁰ : IsScalarTower A K L\\ninst✝⁹ : IsScalarTower A B L\\ninst✝⁸ : IsDomain A\\ninst✝⁷ : IsDomain B\\ninst✝⁶ : IsFractionRing A K\\ninst✝⁵ : IsIntegralClosure B A L\\ninst✝⁴ : IsFractionRing B L\\ninst✝³ : FiniteDimensional K L\\ninst✝² : IsSeparable K L\\ninst✝¹ : IsIntegrallyClosed A\\ninst✝ : IsDedekindDomain B\\nx : L\\nhx : adjoin K {x} = ⊤\\nhAx : IsIntegral A x\\nhKx : IsIntegral K x\\npb : PowerBasis K L\\npbgen : pb.gen = x\\nhpb :\\n  ⇑((traceForm K L).dualBasis ⋯ pb.basis) = fun x =>\\n    (minpolyDiv K pb.gen).coeff ↑x / (aeval pb.gen) (derivative (minpoly K pb.gen))\\nthis : Subalgebra.toSubmodule (adjoin A {x}) = span A (Set.range ⇑pb.basis)\\ni : Fin pb.dim\\n⊢ (fun x_1 => ((aeval x) (derivative (minpoly K x)))⁻¹ * (minpolyDiv K x).coeff ↑x_1) i ∈\\n    ↑(span A (Set.range ((fun a => ((aeval x) (derivative (minpoly K x)))⁻¹ * a) ∘ (minpolyDiv K x).coeff)))'},\n",
       "  {'tactic': 'exact Submodule.subset_span ⟨i, rfl⟩',\n",
       "   'annotated_tactic': ['exact <a>Submodule.subset_span</a> ⟨i, <a>rfl</a>⟩',\n",
       "    [{'full_name': 'Submodule.subset_span',\n",
       "      'def_path': 'Mathlib/LinearAlgebra/Span.lean',\n",
       "      'def_pos': [77, 9],\n",
       "      'def_end_pos': [77, 20]},\n",
       "     {'full_name': 'rfl',\n",
       "      'def_path': '.lake/packages/lean4/src/lean/Init/Prelude.lean',\n",
       "      'def_pos': [294, 22],\n",
       "      'def_end_pos': [294, 25]}]],\n",
       "   'state_before': 'case a.intro\\nA : Type u_1\\nK : Type u_2\\nL : Type u\\nB : Type ?u.622338\\ninst✝¹⁹ : CommRing A\\ninst✝¹⁸ : Field K\\ninst✝¹⁷ : CommRing B\\ninst✝¹⁶ : Field L\\ninst✝¹⁵ : Algebra A K\\ninst✝¹⁴ : Algebra B L\\ninst✝¹³ : Algebra A B\\ninst✝¹² : Algebra K L\\ninst✝¹¹ : Algebra A L\\ninst✝¹⁰ : IsScalarTower A K L\\ninst✝⁹ : IsScalarTower A B L\\ninst✝⁸ : IsDomain A\\ninst✝⁷ : IsDomain B\\ninst✝⁶ : IsFractionRing A K\\ninst✝⁵ : IsIntegralClosure B A L\\ninst✝⁴ : IsFractionRing B L\\ninst✝³ : FiniteDimensional K L\\ninst✝² : IsSeparable K L\\ninst✝¹ : IsIntegrallyClosed A\\ninst✝ : IsDedekindDomain B\\nx : L\\nhx : adjoin K {x} = ⊤\\nhAx : IsIntegral A x\\nhKx : IsIntegral K x\\npb : PowerBasis K L\\npbgen : pb.gen = x\\nhpb :\\n  ⇑((traceForm K L).dualBasis ⋯ pb.basis) = fun x =>\\n    (minpolyDiv K pb.gen).coeff ↑x / (aeval pb.gen) (derivative (minpoly K pb.gen))\\nthis : Subalgebra.toSubmodule (adjoin A {x}) = span A (Set.range ⇑pb.basis)\\ni : Fin pb.dim\\n⊢ (fun x_1 => ((aeval x) (derivative (minpoly K x)))⁻¹ * (minpolyDiv K x).coeff ↑x_1) i ∈\\n    ↑(span A (Set.range ((fun a => ((aeval x) (derivative (minpoly K x)))⁻¹ * a) ∘ (minpolyDiv K x).coeff)))',\n",
       "   'state_after': 'no goals'},\n",
       "  {'tactic': 'rintro _ ⟨i, rfl⟩',\n",
       "   'annotated_tactic': ['rintro _ ⟨i, rfl⟩', []],\n",
       "   'state_before': 'case a\\nA : Type u_1\\nK : Type u_2\\nL : Type u\\nB : Type ?u.622338\\ninst✝¹⁹ : CommRing A\\ninst✝¹⁸ : Field K\\ninst✝¹⁷ : CommRing B\\ninst✝¹⁶ : Field L\\ninst✝¹⁵ : Algebra A K\\ninst✝¹⁴ : Algebra B L\\ninst✝¹³ : Algebra A B\\ninst✝¹² : Algebra K L\\ninst✝¹¹ : Algebra A L\\ninst✝¹⁰ : IsScalarTower A K L\\ninst✝⁹ : IsScalarTower A B L\\ninst✝⁸ : IsDomain A\\ninst✝⁷ : IsDomain B\\ninst✝⁶ : IsFractionRing A K\\ninst✝⁵ : IsIntegralClosure B A L\\ninst✝⁴ : IsFractionRing B L\\ninst✝³ : FiniteDimensional K L\\ninst✝² : IsSeparable K L\\ninst✝¹ : IsIntegrallyClosed A\\ninst✝ : IsDedekindDomain B\\nx : L\\nhx : adjoin K {x} = ⊤\\nhAx : IsIntegral A x\\nhKx : IsIntegral K x\\npb : PowerBasis K L\\npbgen : pb.gen = x\\nhpb :\\n  ⇑((traceForm K L).dualBasis ⋯ pb.basis) = fun x =>\\n    (minpolyDiv K pb.gen).coeff ↑x / (aeval pb.gen) (derivative (minpoly K pb.gen))\\nthis : Subalgebra.toSubmodule (adjoin A {x}) = span A (Set.range ⇑pb.basis)\\n⊢ Set.range ((fun a => ((aeval x) (derivative (minpoly K x)))⁻¹ * a) ∘ (minpolyDiv K x).coeff) ⊆\\n    ↑(span A (Set.range fun x_1 => ((aeval x) (derivative (minpoly K x)))⁻¹ * (minpolyDiv K x).coeff ↑x_1))',\n",
       "   'state_after': 'case a.intro\\nA : Type u_1\\nK : Type u_2\\nL : Type u\\nB : Type ?u.622338\\ninst✝¹⁹ : CommRing A\\ninst✝¹⁸ : Field K\\ninst✝¹⁷ : CommRing B\\ninst✝¹⁶ : Field L\\ninst✝¹⁵ : Algebra A K\\ninst✝¹⁴ : Algebra B L\\ninst✝¹³ : Algebra A B\\ninst✝¹² : Algebra K L\\ninst✝¹¹ : Algebra A L\\ninst✝¹⁰ : IsScalarTower A K L\\ninst✝⁹ : IsScalarTower A B L\\ninst✝⁸ : IsDomain A\\ninst✝⁷ : IsDomain B\\ninst✝⁶ : IsFractionRing A K\\ninst✝⁵ : IsIntegralClosure B A L\\ninst✝⁴ : IsFractionRing B L\\ninst✝³ : FiniteDimensional K L\\ninst✝² : IsSeparable K L\\ninst✝¹ : IsIntegrallyClosed A\\ninst✝ : IsDedekindDomain B\\nx : L\\nhx : adjoin K {x} = ⊤\\nhAx : IsIntegral A x\\nhKx : IsIntegral K x\\npb : PowerBasis K L\\npbgen : pb.gen = x\\nhpb :\\n  ⇑((traceForm K L).dualBasis ⋯ pb.basis) = fun x =>\\n    (minpolyDiv K pb.gen).coeff ↑x / (aeval pb.gen) (derivative (minpoly K pb.gen))\\nthis : Subalgebra.toSubmodule (adjoin A {x}) = span A (Set.range ⇑pb.basis)\\ni : ℕ\\n⊢ ((fun a => ((aeval x) (derivative (minpoly K x)))⁻¹ * a) ∘ (minpolyDiv K x).coeff) i ∈\\n    ↑(span A (Set.range fun x_1 => ((aeval x) (derivative (minpoly K x)))⁻¹ * (minpolyDiv K x).coeff ↑x_1))'},\n",
       "  {'tactic': 'by_cases hi : i < pb.dim',\n",
       "   'annotated_tactic': ['by_cases hi : i < pb.dim', []],\n",
       "   'state_before': 'case a.intro\\nA : Type u_1\\nK : Type u_2\\nL : Type u\\nB : Type ?u.622338\\ninst✝¹⁹ : CommRing A\\ninst✝¹⁸ : Field K\\ninst✝¹⁷ : CommRing B\\ninst✝¹⁶ : Field L\\ninst✝¹⁵ : Algebra A K\\ninst✝¹⁴ : Algebra B L\\ninst✝¹³ : Algebra A B\\ninst✝¹² : Algebra K L\\ninst✝¹¹ : Algebra A L\\ninst✝¹⁰ : IsScalarTower A K L\\ninst✝⁹ : IsScalarTower A B L\\ninst✝⁸ : IsDomain A\\ninst✝⁷ : IsDomain B\\ninst✝⁶ : IsFractionRing A K\\ninst✝⁵ : IsIntegralClosure B A L\\ninst✝⁴ : IsFractionRing B L\\ninst✝³ : FiniteDimensional K L\\ninst✝² : IsSeparable K L\\ninst✝¹ : IsIntegrallyClosed A\\ninst✝ : IsDedekindDomain B\\nx : L\\nhx : adjoin K {x} = ⊤\\nhAx : IsIntegral A x\\nhKx : IsIntegral K x\\npb : PowerBasis K L\\npbgen : pb.gen = x\\nhpb :\\n  ⇑((traceForm K L).dualBasis ⋯ pb.basis) = fun x =>\\n    (minpolyDiv K pb.gen).coeff ↑x / (aeval pb.gen) (derivative (minpoly K pb.gen))\\nthis : Subalgebra.toSubmodule (adjoin A {x}) = span A (Set.range ⇑pb.basis)\\ni : ℕ\\n⊢ ((fun a => ((aeval x) (derivative (minpoly K x)))⁻¹ * a) ∘ (minpolyDiv K x).coeff) i ∈\\n    ↑(span A (Set.range fun x_1 => ((aeval x) (derivative (minpoly K x)))⁻¹ * (minpolyDiv K x).coeff ↑x_1))',\n",
       "   'state_after': 'case pos\\nA : Type u_1\\nK : Type u_2\\nL : Type u\\nB : Type ?u.622338\\ninst✝¹⁹ : CommRing A\\ninst✝¹⁸ : Field K\\ninst✝¹⁷ : CommRing B\\ninst✝¹⁶ : Field L\\ninst✝¹⁵ : Algebra A K\\ninst✝¹⁴ : Algebra B L\\ninst✝¹³ : Algebra A B\\ninst✝¹² : Algebra K L\\ninst✝¹¹ : Algebra A L\\ninst✝¹⁰ : IsScalarTower A K L\\ninst✝⁹ : IsScalarTower A B L\\ninst✝⁸ : IsDomain A\\ninst✝⁷ : IsDomain B\\ninst✝⁶ : IsFractionRing A K\\ninst✝⁵ : IsIntegralClosure B A L\\ninst✝⁴ : IsFractionRing B L\\ninst✝³ : FiniteDimensional K L\\ninst✝² : IsSeparable K L\\ninst✝¹ : IsIntegrallyClosed A\\ninst✝ : IsDedekindDomain B\\nx : L\\nhx : adjoin K {x} = ⊤\\nhAx : IsIntegral A x\\nhKx : IsIntegral K x\\npb : PowerBasis K L\\npbgen : pb.gen = x\\nhpb :\\n  ⇑((traceForm K L).dualBasis ⋯ pb.basis) = fun x =>\\n    (minpolyDiv K pb.gen).coeff ↑x / (aeval pb.gen) (derivative (minpoly K pb.gen))\\nthis : Subalgebra.toSubmodule (adjoin A {x}) = span A (Set.range ⇑pb.basis)\\ni : ℕ\\nhi : i < pb.dim\\n⊢ ((fun a => ((aeval x) (derivative (minpoly K x)))⁻¹ * a) ∘ (minpolyDiv K x).coeff) i ∈\\n    ↑(span A (Set.range fun x_1 => ((aeval x) (derivative (minpoly K x)))⁻¹ * (minpolyDiv K x).coeff ↑x_1))\\n\\ncase neg\\nA : Type u_1\\nK : Type u_2\\nL : Type u\\nB : Type ?u.622338\\ninst✝¹⁹ : CommRing A\\ninst✝¹⁸ : Field K\\ninst✝¹⁷ : CommRing B\\ninst✝¹⁶ : Field L\\ninst✝¹⁵ : Algebra A K\\ninst✝¹⁴ : Algebra B L\\ninst✝¹³ : Algebra A B\\ninst✝¹² : Algebra K L\\ninst✝¹¹ : Algebra A L\\ninst✝¹⁰ : IsScalarTower A K L\\ninst✝⁹ : IsScalarTower A B L\\ninst✝⁸ : IsDomain A\\ninst✝⁷ : IsDomain B\\ninst✝⁶ : IsFractionRing A K\\ninst✝⁵ : IsIntegralClosure B A L\\ninst✝⁴ : IsFractionRing B L\\ninst✝³ : FiniteDimensional K L\\ninst✝² : IsSeparable K L\\ninst✝¹ : IsIntegrallyClosed A\\ninst✝ : IsDedekindDomain B\\nx : L\\nhx : adjoin K {x} = ⊤\\nhAx : IsIntegral A x\\nhKx : IsIntegral K x\\npb : PowerBasis K L\\npbgen : pb.gen = x\\nhpb :\\n  ⇑((traceForm K L).dualBasis ⋯ pb.basis) = fun x =>\\n    (minpolyDiv K pb.gen).coeff ↑x / (aeval pb.gen) (derivative (minpoly K pb.gen))\\nthis : Subalgebra.toSubmodule (adjoin A {x}) = span A (Set.range ⇑pb.basis)\\ni : ℕ\\nhi : ¬i < pb.dim\\n⊢ ((fun a => ((aeval x) (derivative (minpoly K x)))⁻¹ * a) ∘ (minpolyDiv K x).coeff) i ∈\\n    ↑(span A (Set.range fun x_1 => ((aeval x) (derivative (minpoly K x)))⁻¹ * (minpolyDiv K x).coeff ↑x_1))'},\n",
       "  {'tactic': 'exact Submodule.subset_span ⟨⟨i, hi⟩, rfl⟩',\n",
       "   'annotated_tactic': ['exact <a>Submodule.subset_span</a> ⟨⟨i, hi⟩, <a>rfl</a>⟩',\n",
       "    [{'full_name': 'Submodule.subset_span',\n",
       "      'def_path': 'Mathlib/LinearAlgebra/Span.lean',\n",
       "      'def_pos': [77, 9],\n",
       "      'def_end_pos': [77, 20]},\n",
       "     {'full_name': 'rfl',\n",
       "      'def_path': '.lake/packages/lean4/src/lean/Init/Prelude.lean',\n",
       "      'def_pos': [294, 22],\n",
       "      'def_end_pos': [294, 25]}]],\n",
       "   'state_before': 'case pos\\nA : Type u_1\\nK : Type u_2\\nL : Type u\\nB : Type ?u.622338\\ninst✝¹⁹ : CommRing A\\ninst✝¹⁸ : Field K\\ninst✝¹⁷ : CommRing B\\ninst✝¹⁶ : Field L\\ninst✝¹⁵ : Algebra A K\\ninst✝¹⁴ : Algebra B L\\ninst✝¹³ : Algebra A B\\ninst✝¹² : Algebra K L\\ninst✝¹¹ : Algebra A L\\ninst✝¹⁰ : IsScalarTower A K L\\ninst✝⁹ : IsScalarTower A B L\\ninst✝⁸ : IsDomain A\\ninst✝⁷ : IsDomain B\\ninst✝⁶ : IsFractionRing A K\\ninst✝⁵ : IsIntegralClosure B A L\\ninst✝⁴ : IsFractionRing B L\\ninst✝³ : FiniteDimensional K L\\ninst✝² : IsSeparable K L\\ninst✝¹ : IsIntegrallyClosed A\\ninst✝ : IsDedekindDomain B\\nx : L\\nhx : adjoin K {x} = ⊤\\nhAx : IsIntegral A x\\nhKx : IsIntegral K x\\npb : PowerBasis K L\\npbgen : pb.gen = x\\nhpb :\\n  ⇑((traceForm K L).dualBasis ⋯ pb.basis) = fun x =>\\n    (minpolyDiv K pb.gen).coeff ↑x / (aeval pb.gen) (derivative (minpoly K pb.gen))\\nthis : Subalgebra.toSubmodule (adjoin A {x}) = span A (Set.range ⇑pb.basis)\\ni : ℕ\\nhi : i < pb.dim\\n⊢ ((fun a => ((aeval x) (derivative (minpoly K x)))⁻¹ * a) ∘ (minpolyDiv K x).coeff) i ∈\\n    ↑(span A (Set.range fun x_1 => ((aeval x) (derivative (minpoly K x)))⁻¹ * (minpolyDiv K x).coeff ↑x_1))',\n",
       "   'state_after': 'no goals'},\n",
       "  {'tactic': 'rw [Function.comp_apply, coeff_eq_zero_of_natDegree_lt, mul_zero]',\n",
       "   'annotated_tactic': ['rw [<a>Function.comp_apply</a>, <a>coeff_eq_zero_of_natDegree_lt</a>, <a>mul_zero</a>]',\n",
       "    [{'full_name': 'Function.comp_apply',\n",
       "      'def_path': '.lake/packages/lean4/src/lean/Init/Core.lean',\n",
       "      'def_pos': [35, 17],\n",
       "      'def_end_pos': [35, 36]},\n",
       "     {'full_name': 'Polynomial.coeff_eq_zero_of_natDegree_lt',\n",
       "      'def_path': 'Mathlib/Algebra/Polynomial/Degree/Definitions.lean',\n",
       "      'def_pos': [354, 9],\n",
       "      'def_end_pos': [354, 38]},\n",
       "     {'full_name': 'MulZeroClass.mul_zero',\n",
       "      'def_path': 'Mathlib/Algebra/GroupWithZero/Defs.lean',\n",
       "      'def_pos': [39, 3],\n",
       "      'def_end_pos': [39, 11]}]],\n",
       "   'state_before': 'case neg\\nA : Type u_1\\nK : Type u_2\\nL : Type u\\nB : Type ?u.622338\\ninst✝¹⁹ : CommRing A\\ninst✝¹⁸ : Field K\\ninst✝¹⁷ : CommRing B\\ninst✝¹⁶ : Field L\\ninst✝¹⁵ : Algebra A K\\ninst✝¹⁴ : Algebra B L\\ninst✝¹³ : Algebra A B\\ninst✝¹² : Algebra K L\\ninst✝¹¹ : Algebra A L\\ninst✝¹⁰ : IsScalarTower A K L\\ninst✝⁹ : IsScalarTower A B L\\ninst✝⁸ : IsDomain A\\ninst✝⁷ : IsDomain B\\ninst✝⁶ : IsFractionRing A K\\ninst✝⁵ : IsIntegralClosure B A L\\ninst✝⁴ : IsFractionRing B L\\ninst✝³ : FiniteDimensional K L\\ninst✝² : IsSeparable K L\\ninst✝¹ : IsIntegrallyClosed A\\ninst✝ : IsDedekindDomain B\\nx : L\\nhx : adjoin K {x} = ⊤\\nhAx : IsIntegral A x\\nhKx : IsIntegral K x\\npb : PowerBasis K L\\npbgen : pb.gen = x\\nhpb :\\n  ⇑((traceForm K L).dualBasis ⋯ pb.basis) = fun x =>\\n    (minpolyDiv K pb.gen).coeff ↑x / (aeval pb.gen) (derivative (minpoly K pb.gen))\\nthis : Subalgebra.toSubmodule (adjoin A {x}) = span A (Set.range ⇑pb.basis)\\ni : ℕ\\nhi : ¬i < pb.dim\\n⊢ ((fun a => ((aeval x) (derivative (minpoly K x)))⁻¹ * a) ∘ (minpolyDiv K x).coeff) i ∈\\n    ↑(span A (Set.range fun x_1 => ((aeval x) (derivative (minpoly K x)))⁻¹ * (minpolyDiv K x).coeff ↑x_1))',\n",
       "   'state_after': 'case neg\\nA : Type u_1\\nK : Type u_2\\nL : Type u\\nB : Type ?u.622338\\ninst✝¹⁹ : CommRing A\\ninst✝¹⁸ : Field K\\ninst✝¹⁷ : CommRing B\\ninst✝¹⁶ : Field L\\ninst✝¹⁵ : Algebra A K\\ninst✝¹⁴ : Algebra B L\\ninst✝¹³ : Algebra A B\\ninst✝¹² : Algebra K L\\ninst✝¹¹ : Algebra A L\\ninst✝¹⁰ : IsScalarTower A K L\\ninst✝⁹ : IsScalarTower A B L\\ninst✝⁸ : IsDomain A\\ninst✝⁷ : IsDomain B\\ninst✝⁶ : IsFractionRing A K\\ninst✝⁵ : IsIntegralClosure B A L\\ninst✝⁴ : IsFractionRing B L\\ninst✝³ : FiniteDimensional K L\\ninst✝² : IsSeparable K L\\ninst✝¹ : IsIntegrallyClosed A\\ninst✝ : IsDedekindDomain B\\nx : L\\nhx : adjoin K {x} = ⊤\\nhAx : IsIntegral A x\\nhKx : IsIntegral K x\\npb : PowerBasis K L\\npbgen : pb.gen = x\\nhpb :\\n  ⇑((traceForm K L).dualBasis ⋯ pb.basis) = fun x =>\\n    (minpolyDiv K pb.gen).coeff ↑x / (aeval pb.gen) (derivative (minpoly K pb.gen))\\nthis : Subalgebra.toSubmodule (adjoin A {x}) = span A (Set.range ⇑pb.basis)\\ni : ℕ\\nhi : ¬i < pb.dim\\n⊢ 0 ∈ ↑(span A (Set.range fun x_1 => ((aeval x) (derivative (minpoly K x)))⁻¹ * (minpolyDiv K x).coeff ↑x_1))\\n\\ncase neg\\nA : Type u_1\\nK : Type u_2\\nL : Type u\\nB : Type ?u.622338\\ninst✝¹⁹ : CommRing A\\ninst✝¹⁸ : Field K\\ninst✝¹⁷ : CommRing B\\ninst✝¹⁶ : Field L\\ninst✝¹⁵ : Algebra A K\\ninst✝¹⁴ : Algebra B L\\ninst✝¹³ : Algebra A B\\ninst✝¹² : Algebra K L\\ninst✝¹¹ : Algebra A L\\ninst✝¹⁰ : IsScalarTower A K L\\ninst✝⁹ : IsScalarTower A B L\\ninst✝⁸ : IsDomain A\\ninst✝⁷ : IsDomain B\\ninst✝⁶ : IsFractionRing A K\\ninst✝⁵ : IsIntegralClosure B A L\\ninst✝⁴ : IsFractionRing B L\\ninst✝³ : FiniteDimensional K L\\ninst✝² : IsSeparable K L\\ninst✝¹ : IsIntegrallyClosed A\\ninst✝ : IsDedekindDomain B\\nx : L\\nhx : adjoin K {x} = ⊤\\nhAx : IsIntegral A x\\nhKx : IsIntegral K x\\npb : PowerBasis K L\\npbgen : pb.gen = x\\nhpb :\\n  ⇑((traceForm K L).dualBasis ⋯ pb.basis) = fun x =>\\n    (minpolyDiv K pb.gen).coeff ↑x / (aeval pb.gen) (derivative (minpoly K pb.gen))\\nthis : Subalgebra.toSubmodule (adjoin A {x}) = span A (Set.range ⇑pb.basis)\\ni : ℕ\\nhi : ¬i < pb.dim\\n⊢ (minpolyDiv K x).natDegree < i'},\n",
       "  {'tactic': 'rw [← pb.natDegree_minpoly, pbgen, ← natDegree_minpolyDiv_succ hKx,\\n  ← Nat.succ_eq_add_one] at hi',\n",
       "   'annotated_tactic': ['rw [← pb.natDegree_minpoly, pbgen, ← <a>natDegree_minpolyDiv_succ</a> hKx,\\n        ← <a>Nat.succ_eq_add_one</a>] at hi',\n",
       "    [{'full_name': 'natDegree_minpolyDiv_succ',\n",
       "      'def_path': 'Mathlib/FieldTheory/Minpoly/MinpolyDiv.lean',\n",
       "      'def_pos': [92, 7],\n",
       "      'def_end_pos': [92, 32]},\n",
       "     {'full_name': 'Nat.succ_eq_add_one',\n",
       "      'def_path': '.lake/packages/lean4/src/lean/Init/Data/Nat/Basic.lean',\n",
       "      'def_pos': [154, 17],\n",
       "      'def_end_pos': [154, 32]}]],\n",
       "   'state_before': 'case neg\\nA : Type u_1\\nK : Type u_2\\nL : Type u\\nB : Type ?u.622338\\ninst✝¹⁹ : CommRing A\\ninst✝¹⁸ : Field K\\ninst✝¹⁷ : CommRing B\\ninst✝¹⁶ : Field L\\ninst✝¹⁵ : Algebra A K\\ninst✝¹⁴ : Algebra B L\\ninst✝¹³ : Algebra A B\\ninst✝¹² : Algebra K L\\ninst✝¹¹ : Algebra A L\\ninst✝¹⁰ : IsScalarTower A K L\\ninst✝⁹ : IsScalarTower A B L\\ninst✝⁸ : IsDomain A\\ninst✝⁷ : IsDomain B\\ninst✝⁶ : IsFractionRing A K\\ninst✝⁵ : IsIntegralClosure B A L\\ninst✝⁴ : IsFractionRing B L\\ninst✝³ : FiniteDimensional K L\\ninst✝² : IsSeparable K L\\ninst✝¹ : IsIntegrallyClosed A\\ninst✝ : IsDedekindDomain B\\nx : L\\nhx : adjoin K {x} = ⊤\\nhAx : IsIntegral A x\\nhKx : IsIntegral K x\\npb : PowerBasis K L\\npbgen : pb.gen = x\\nhpb :\\n  ⇑((traceForm K L).dualBasis ⋯ pb.basis) = fun x =>\\n    (minpolyDiv K pb.gen).coeff ↑x / (aeval pb.gen) (derivative (minpoly K pb.gen))\\nthis : Subalgebra.toSubmodule (adjoin A {x}) = span A (Set.range ⇑pb.basis)\\ni : ℕ\\nhi : ¬i < pb.dim\\n⊢ (minpolyDiv K x).natDegree < i',\n",
       "   'state_after': 'case neg\\nA : Type u_1\\nK : Type u_2\\nL : Type u\\nB : Type ?u.622338\\ninst✝¹⁹ : CommRing A\\ninst✝¹⁸ : Field K\\ninst✝¹⁷ : CommRing B\\ninst✝¹⁶ : Field L\\ninst✝¹⁵ : Algebra A K\\ninst✝¹⁴ : Algebra B L\\ninst✝¹³ : Algebra A B\\ninst✝¹² : Algebra K L\\ninst✝¹¹ : Algebra A L\\ninst✝¹⁰ : IsScalarTower A K L\\ninst✝⁹ : IsScalarTower A B L\\ninst✝⁸ : IsDomain A\\ninst✝⁷ : IsDomain B\\ninst✝⁶ : IsFractionRing A K\\ninst✝⁵ : IsIntegralClosure B A L\\ninst✝⁴ : IsFractionRing B L\\ninst✝³ : FiniteDimensional K L\\ninst✝² : IsSeparable K L\\ninst✝¹ : IsIntegrallyClosed A\\ninst✝ : IsDedekindDomain B\\nx : L\\nhx : adjoin K {x} = ⊤\\nhAx : IsIntegral A x\\nhKx : IsIntegral K x\\npb : PowerBasis K L\\npbgen : pb.gen = x\\nhpb :\\n  ⇑((traceForm K L).dualBasis ⋯ pb.basis) = fun x =>\\n    (minpolyDiv K pb.gen).coeff ↑x / (aeval pb.gen) (derivative (minpoly K pb.gen))\\nthis : Subalgebra.toSubmodule (adjoin A {x}) = span A (Set.range ⇑pb.basis)\\ni : ℕ\\nhi : ¬i < (minpolyDiv K x).natDegree.succ\\n⊢ (minpolyDiv K x).natDegree < i'},\n",
       "  {'tactic': 'exact le_of_not_lt hi',\n",
       "   'annotated_tactic': ['exact <a>le_of_not_lt</a> hi',\n",
       "    [{'full_name': 'le_of_not_lt',\n",
       "      'def_path': 'Mathlib/Init/Order/Defs.lean',\n",
       "      'def_pos': [323, 9],\n",
       "      'def_end_pos': [323, 21]}]],\n",
       "   'state_before': 'case neg\\nA : Type u_1\\nK : Type u_2\\nL : Type u\\nB : Type ?u.622338\\ninst✝¹⁹ : CommRing A\\ninst✝¹⁸ : Field K\\ninst✝¹⁷ : CommRing B\\ninst✝¹⁶ : Field L\\ninst✝¹⁵ : Algebra A K\\ninst✝¹⁴ : Algebra B L\\ninst✝¹³ : Algebra A B\\ninst✝¹² : Algebra K L\\ninst✝¹¹ : Algebra A L\\ninst✝¹⁰ : IsScalarTower A K L\\ninst✝⁹ : IsScalarTower A B L\\ninst✝⁸ : IsDomain A\\ninst✝⁷ : IsDomain B\\ninst✝⁶ : IsFractionRing A K\\ninst✝⁵ : IsIntegralClosure B A L\\ninst✝⁴ : IsFractionRing B L\\ninst✝³ : FiniteDimensional K L\\ninst✝² : IsSeparable K L\\ninst✝¹ : IsIntegrallyClosed A\\ninst✝ : IsDedekindDomain B\\nx : L\\nhx : adjoin K {x} = ⊤\\nhAx : IsIntegral A x\\nhKx : IsIntegral K x\\npb : PowerBasis K L\\npbgen : pb.gen = x\\nhpb :\\n  ⇑((traceForm K L).dualBasis ⋯ pb.basis) = fun x =>\\n    (minpolyDiv K pb.gen).coeff ↑x / (aeval pb.gen) (derivative (minpoly K pb.gen))\\nthis : Subalgebra.toSubmodule (adjoin A {x}) = span A (Set.range ⇑pb.basis)\\ni : ℕ\\nhi : ¬i < (minpolyDiv K x).natDegree.succ\\n⊢ (minpolyDiv K x).natDegree < i',\n",
       "   'state_after': 'no goals'},\n",
       "  {'tactic': 'exact zero_mem _',\n",
       "   'annotated_tactic': ['exact <a>zero_mem</a> _',\n",
       "    [{'full_name': 'ZeroMemClass.zero_mem',\n",
       "      'def_path': 'Mathlib/Algebra/Group/Submonoid/Basic.lean',\n",
       "      'def_pos': [80, 3],\n",
       "      'def_end_pos': [80, 11]}]],\n",
       "   'state_before': 'case neg\\nA : Type u_1\\nK : Type u_2\\nL : Type u\\nB : Type ?u.622338\\ninst✝¹⁹ : CommRing A\\ninst✝¹⁸ : Field K\\ninst✝¹⁷ : CommRing B\\ninst✝¹⁶ : Field L\\ninst✝¹⁵ : Algebra A K\\ninst✝¹⁴ : Algebra B L\\ninst✝¹³ : Algebra A B\\ninst✝¹² : Algebra K L\\ninst✝¹¹ : Algebra A L\\ninst✝¹⁰ : IsScalarTower A K L\\ninst✝⁹ : IsScalarTower A B L\\ninst✝⁸ : IsDomain A\\ninst✝⁷ : IsDomain B\\ninst✝⁶ : IsFractionRing A K\\ninst✝⁵ : IsIntegralClosure B A L\\ninst✝⁴ : IsFractionRing B L\\ninst✝³ : FiniteDimensional K L\\ninst✝² : IsSeparable K L\\ninst✝¹ : IsIntegrallyClosed A\\ninst✝ : IsDedekindDomain B\\nx : L\\nhx : adjoin K {x} = ⊤\\nhAx : IsIntegral A x\\nhKx : IsIntegral K x\\npb : PowerBasis K L\\npbgen : pb.gen = x\\nhpb :\\n  ⇑((traceForm K L).dualBasis ⋯ pb.basis) = fun x =>\\n    (minpolyDiv K pb.gen).coeff ↑x / (aeval pb.gen) (derivative (minpoly K pb.gen))\\nthis : Subalgebra.toSubmodule (adjoin A {x}) = span A (Set.range ⇑pb.basis)\\ni : ℕ\\nhi : ¬i < pb.dim\\n⊢ 0 ∈ ↑(span A (Set.range fun x_1 => ((aeval x) (derivative (minpoly K x)))⁻¹ * (minpolyDiv K x).coeff ↑x_1))',\n",
       "   'state_after': 'no goals'}]}"
      ]
     },
     "execution_count": 26,
     "metadata": {},
     "output_type": "execute_result"
    }
   ],
   "source": [
    "entries_file[-3]"
   ]
  },
  {
   "cell_type": "code",
   "execution_count": 27,
   "id": "d6ce5939-9b72-4c06-9e70-0c1b6d60dfc2",
   "metadata": {},
   "outputs": [],
   "source": [
    "import re\n",
    "leanworkbook = json.load(open('/tiger/u/kefan/Datasets/Lean-Workbook/lean_workbook.json', 'r'))"
   ]
  },
  {
   "cell_type": "code",
   "execution_count": 28,
   "id": "6dbbe5c2-3205-4acf-9a21-ef172bf1677f",
   "metadata": {},
   "outputs": [
    {
     "ename": "NameError",
     "evalue": "name 'pattern' is not defined",
     "output_type": "error",
     "traceback": [
      "\u001b[0;31m---------------------------------------------------------------------------\u001b[0m",
      "\u001b[0;31mNameError\u001b[0m                                 Traceback (most recent call last)",
      "Cell \u001b[0;32mIn[28], line 1\u001b[0m\n\u001b[0;32m----> 1\u001b[0m NL_statement \u001b[38;5;241m=\u001b[39m {re\u001b[38;5;241m.\u001b[39msearch(pattern, example[\u001b[38;5;124m'\u001b[39m\u001b[38;5;124mformal_statement\u001b[39m\u001b[38;5;124m'\u001b[39m])\u001b[38;5;241m.\u001b[39mgroup(\u001b[38;5;241m1\u001b[39m): example[\u001b[38;5;124m'\u001b[39m\u001b[38;5;124mnatural_language_statement\u001b[39m\u001b[38;5;124m'\u001b[39m] \n\u001b[1;32m      2\u001b[0m                     \u001b[38;5;28;01mfor\u001b[39;00m example \u001b[38;5;129;01min\u001b[39;00m leanworkbook}\n",
      "Cell \u001b[0;32mIn[28], line 1\u001b[0m, in \u001b[0;36m<dictcomp>\u001b[0;34m(.0)\u001b[0m\n\u001b[0;32m----> 1\u001b[0m NL_statement \u001b[38;5;241m=\u001b[39m {re\u001b[38;5;241m.\u001b[39msearch(\u001b[43mpattern\u001b[49m, example[\u001b[38;5;124m'\u001b[39m\u001b[38;5;124mformal_statement\u001b[39m\u001b[38;5;124m'\u001b[39m])\u001b[38;5;241m.\u001b[39mgroup(\u001b[38;5;241m1\u001b[39m): example[\u001b[38;5;124m'\u001b[39m\u001b[38;5;124mnatural_language_statement\u001b[39m\u001b[38;5;124m'\u001b[39m] \n\u001b[1;32m      2\u001b[0m                     \u001b[38;5;28;01mfor\u001b[39;00m example \u001b[38;5;129;01min\u001b[39;00m leanworkbook}\n",
      "\u001b[0;31mNameError\u001b[0m: name 'pattern' is not defined"
     ]
    }
   ],
   "source": [
    "NL_statement = {re.search(pattern, example['formal_statement']).group(1): example['natural_language_statement'] \n",
    "                    for example in leanworkbook}"
   ]
  },
  {
   "cell_type": "code",
   "execution_count": null,
   "id": "0ef45552-3add-476b-bcb8-431af0e32b60",
   "metadata": {},
   "outputs": [],
   "source": [
    "nl_proofs = json.load(open('/tiger/u/kaiyue/leandojo/parsed_results_leanworkbook.json', 'r'))"
   ]
  },
  {
   "cell_type": "code",
   "execution_count": null,
   "id": "286a4f90-2598-478e-b694-53b35df0d630",
   "metadata": {},
   "outputs": [],
   "source": [
    "aug_nl_proofs = []\n",
    "for id in range(len(nl_proofs)):\n",
    "    name = nl_proofs[id]['filepath'].split('/')[-1].split('_veri')[0]\n",
    "    if 'lean' not in name:\n",
    "        name = 'lean_workbook_' + name\n",
    "    # print(name, nl_proofs[id]['filepath'], id)\n",
    "    if name not in NL_statement:\n",
    "        continue\n",
    "    aug_nl_proofs.append(nl_proofs[id] | {'nl_statement': NL_statement[name]})\n",
    "print(len(aug_nl_proofs))\n",
    "print(len(nl_proofs))"
   ]
  },
  {
   "cell_type": "code",
   "execution_count": null,
   "id": "fa463de1-dcaf-4183-b436-56fdbde2fae9",
   "metadata": {},
   "outputs": [],
   "source": [
    "id = 220\n",
    "print(aug_nl_proofs[id]['theorem_statement'])\n",
    "print()\n",
    "print(aug_nl_proofs[id]['nl_statement'])\n",
    "print(aug_nl_proofs[id]['natural_proof'])"
   ]
  },
  {
   "cell_type": "code",
   "execution_count": null,
   "id": "c47be0d4-c2f0-4cb6-9519-0378e934c6cf",
   "metadata": {},
   "outputs": [],
   "source": [
    "json.dump(aug_nl_proofs, open('/tiger/u/kefan/Datasets/Lean-Workbook/autoform_inputs.json', 'w'))"
   ]
  },
  {
   "cell_type": "code",
   "execution_count": null,
   "id": "2363f00f-d9a6-470a-ba81-93002959fbdd",
   "metadata": {},
   "outputs": [],
   "source": [
    "autoform_prompt = 'Generate a Lean4 statement based on the following natural language description:\\n\\n```{}\\n```\\n\\nLean4 statement:\\n'\n",
    "train_ds = []\n",
    "for example in aug_nl_proofs:\n",
    "    train_ds.append({'prompt': autoform_prompt.format(example['nl_statement'] + '\\n' + example['natural_proof']),\n",
    "                     'target': ' ' + example['theorem_statement']})\n",
    "print(len(train_ds))"
   ]
  },
  {
   "cell_type": "code",
   "execution_count": null,
   "id": "64d5b259-af64-46da-96bf-5877264fb895",
   "metadata": {},
   "outputs": [],
   "source": [
    "print(train_ds[100]['prompt'] + train_ds[200]['target'])"
   ]
  },
  {
   "cell_type": "code",
   "execution_count": null,
   "id": "dd85dfc9-09c4-40bd-857c-7ef54f157c96",
   "metadata": {},
   "outputs": [],
   "source": [
    "json.dump(train_ds, open('/tiger/u/kefan/Datasets/Lean-Workbook/autoform_sft.json', 'w'))"
   ]
  },
  {
   "cell_type": "code",
   "execution_count": null,
   "id": "147ffaef-5903-4184-8c65-012fb5e9a6ee",
   "metadata": {},
   "outputs": [],
   "source": []
  }
 ],
 "metadata": {
  "kernelspec": {
   "display_name": "Python 3 (ipykernel)",
   "language": "python",
   "name": "python3"
  },
  "language_info": {
   "codemirror_mode": {
    "name": "ipython",
    "version": 3
   },
   "file_extension": ".py",
   "mimetype": "text/x-python",
   "name": "python",
   "nbconvert_exporter": "python",
   "pygments_lexer": "ipython3",
   "version": "3.9.18"
  }
 },
 "nbformat": 4,
 "nbformat_minor": 5
}
