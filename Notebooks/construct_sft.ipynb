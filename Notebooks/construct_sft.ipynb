{
 "cells": [
  {
   "cell_type": "code",
   "execution_count": 1,
   "id": "8a260001-c0aa-4337-9b4e-95d8321b314b",
   "metadata": {},
   "outputs": [],
   "source": [
    "import os\n",
    "import json\n",
    "import pickle\n",
    "import numpy as np\n",
    "from pathlib import Path\n",
    "from typing import Dict\n",
    "from tqdm.auto import tqdm  # Import tqdm for the progress bar\n",
    "\n",
    "MATHLIB_DIR = Path('~/Mathlib') # Mathlib dir\n",
    "LeanDojo_DIR = Path('~/leandojo_benchmark_4/') # LeanDojo dir\n",
    "Save_DIR = '~/STP/SFT/' # save dir\n",
    "\n",
    "os.makedirs(Save_DIR, exist_ok=True)"
   ]
  },
  {
   "cell_type": "markdown",
   "id": "73662c6e-2566-4be5-be9d-1de6dc36485e",
   "metadata": {},
   "source": [
    "# Read Lean Files"
   ]
  },
  {
   "cell_type": "code",
   "execution_count": 2,
   "id": "63a3ff31-41d3-4b80-84b6-b7e02d73b9cb",
   "metadata": {},
   "outputs": [
    {
     "name": "stdout",
     "output_type": "stream",
     "text": [
      "Found 4360 `.lean` files to process.\n"
     ]
    },
    {
     "data": {
      "application/vnd.jupyter.widget-view+json": {
       "model_id": "543e6f83193f4f1a9040acf9a9703189",
       "version_major": 2,
       "version_minor": 0
      },
      "text/plain": [
       "Reading .lean files:   0%|          | 0/4360 [00:00<?, ?file/s]"
      ]
     },
     "metadata": {},
     "output_type": "display_data"
    },
    {
     "name": "stdout",
     "output_type": "stream",
     "text": [
      "Total .lean files read: 4360\n",
      "First file: Mathlib/Tactic.lean\n",
      "Content snippet: ['import Mathlib.Tactic.Abel\\n', 'import Mathlib.Tactic.AdaptationNote\\n', 'import Mathlib.Tactic.ApplyAt\\n', 'import Mathlib.Tactic.ApplyCongr\\n', 'import Mathlib.Tactic.ApplyFun\\n', 'import Mathlib.Tactic.ApplyWith\\n', 'import Mathlib.Tactic.ArithMult\\n', 'import Mathlib.Tactic.ArithMult.Init\\n', 'import Mathlib.Tactic.Attr.Core\\n', 'import Mathlib.Tactic.Attr.Register\\n']\n"
     ]
    }
   ],
   "source": [
    "def read_lean_files(directory: Path) -> Dict[str, str]:\n",
    "    \"\"\"\n",
    "    Recursively reads all `.lean` files in the specified directory and returns\n",
    "    a dictionary mapping file paths to their contents, displaying a progress bar.\n",
    "\n",
    "    Args:\n",
    "        directory (Path): The root directory to start searching for `.lean` files.\n",
    "\n",
    "    Returns:\n",
    "        Dict[str, str]: A dictionary where keys are file paths (as strings) and\n",
    "                        values are the contents of the files.\n",
    "    \"\"\"\n",
    "    if not directory.exists():\n",
    "        raise FileNotFoundError(f\"The directory {directory} does not exist.\")\n",
    "    if not directory.is_dir():\n",
    "        raise NotADirectoryError(f\"The path {directory} is not a directory.\")\n",
    "\n",
    "    # Collect all .lean files first to determine the total number for the progress bar\n",
    "    lean_files = list(directory.rglob('*.lean'))\n",
    "    total_files = len(lean_files)\n",
    "    print(f\"Found {total_files} `.lean` files to process.\")\n",
    "\n",
    "    file_contents = {}\n",
    "\n",
    "    # Initialize tqdm progress bar\n",
    "    with tqdm(total=total_files, desc=\"Reading .lean files\", unit=\"file\") as pbar:\n",
    "        for file_path in lean_files:\n",
    "            try:\n",
    "                # Read the file content with UTF-8 encoding\n",
    "                with file_path.open() as f:\n",
    "                    content = f.readlines()\n",
    "                # Use the absolute path as the key\n",
    "                file_contents[str(file_path.resolve())] = content\n",
    "            except Exception as e:\n",
    "                print(f\"Error reading {file_path}: {e}\")\n",
    "            finally:\n",
    "                pbar.update(1)  # Update the progress bar\n",
    "\n",
    "    return file_contents\n",
    "\n",
    "\n",
    "try:\n",
    "    lean_file_dict = read_lean_files(MATHLIB_DIR)\n",
    "    lean_file_dict = {k.split('LeanDojo/mathlib4/')[-1]: v for k, v in lean_file_dict.items()}\n",
    "    print(f\"Total .lean files read: {len(lean_file_dict)}\")\n",
    "    # Example: Print the first file's path and its first 100 characters\n",
    "    if lean_file_dict:\n",
    "        first_path = next(iter(lean_file_dict))\n",
    "        print(f\"First file: {first_path}\")\n",
    "        print(f\"Content snippet: {lean_file_dict[first_path][:10]}\")\n",
    "except Exception as error:\n",
    "    print(f\"An error occurred: {error}\")"
   ]
  },
  {
   "cell_type": "markdown",
   "id": "bbbd0ab9-cadb-44c6-980c-71d7b1cd6b8a",
   "metadata": {},
   "source": [
    "# Read LeanDojo Data"
   ]
  },
  {
   "cell_type": "code",
   "execution_count": 3,
   "id": "61a0a88f-a3ba-455f-8a17-45fe75deb691",
   "metadata": {},
   "outputs": [],
   "source": [
    "train_path = LeanDojo_DIR / \"random/train.json\"\n",
    "val_path = LeanDojo_DIR / \"random/val.json\"\n",
    "test_path = LeanDojo_DIR / \"random/test.json\"\n",
    "proofs_train = json.load(train_path.open())\n",
    "proofs_val = json.load(val_path.open())\n",
    "proofs_test = json.load(test_path.open())"
   ]
  },
  {
   "cell_type": "code",
   "execution_count": 4,
   "id": "26e66f53-96bd-42c5-8fff-6ea5af69fb73",
   "metadata": {},
   "outputs": [
    {
     "name": "stdout",
     "output_type": "stream",
     "text": [
      "117068\n",
      "2000\n",
      "2000\n"
     ]
    }
   ],
   "source": [
    "print(len(proofs_train))\n",
    "print(len(proofs_val))\n",
    "print(len(proofs_test))"
   ]
  },
  {
   "cell_type": "code",
   "execution_count": 5,
   "id": "0c25b744-9770-4f9c-988e-94cc51235ab3",
   "metadata": {},
   "outputs": [
    {
     "name": "stdout",
     "output_type": "stream",
     "text": [
      "3538\n",
      "60751\n"
     ]
    }
   ],
   "source": [
    "from collections import defaultdict\n",
    "\n",
    "entry_dict = defaultdict(list)\n",
    "for entry in proofs_train + proofs_val + proofs_test:\n",
    "    if len(entry['traced_tactics']) > 0:\n",
    "        entry_dict[entry['file_path']].append(entry)\n",
    "print(len(entry_dict))\n",
    "print(sum(len(v) for v in entry_dict.values()))"
   ]
  },
  {
   "cell_type": "code",
   "execution_count": 6,
   "id": "1bc0c256-030d-4ad4-a434-1ba5922ceac5",
   "metadata": {},
   "outputs": [],
   "source": [
    "def get_statement(theorem_str):\n",
    "    return theorem_str.split(':=')[0].strip()"
   ]
  },
  {
   "cell_type": "code",
   "execution_count": 7,
   "id": "18304acd-d05f-4347-8881-13f5c50be7b8",
   "metadata": {},
   "outputs": [
    {
     "data": {
      "application/vnd.jupyter.widget-view+json": {
       "model_id": "7a101d990b3e4215b9045b2e74bd74f4",
       "version_major": 2,
       "version_minor": 0
      },
      "text/plain": [
       "  0%|          | 0/4360 [00:00<?, ?it/s]"
      ]
     },
     "metadata": {},
     "output_type": "display_data"
    },
    {
     "name": "stdout",
     "output_type": "stream",
     "text": [
      "[warning] # Files without theorem: 864\n",
      "# Mathlib theorems: 59744\n"
     ]
    }
   ],
   "source": [
    "mathlib_theorems = []\n",
    "theorem_dict = {}\n",
    "\n",
    "empty_file = 0\n",
    "for file_name in tqdm(lean_file_dict.keys()):\n",
    "    if (len(entry_dict[file_name]) == 0):\n",
    "        empty_file += 1\n",
    "        continue\n",
    "    lines = lean_file_dict[file_name]\n",
    "    entries = entry_dict[file_name]\n",
    "    entries = sorted(entries, key = lambda x: x['start'][0])\n",
    "    \n",
    "    for entry in entries:\n",
    "        theorem_str = ''.join(lines[entry['start'][0] - 1: entry['end'][0]])\n",
    "        theorem_item = (file_name, theorem_str)\n",
    "        mathlib_theorems.append(theorem_item)\n",
    "        theorem_dict[entry['full_name']] = theorem_item\n",
    "print('[warning] # Files without theorem:', empty_file)\n",
    "print('# Mathlib theorems:', len(mathlib_theorems))"
   ]
  },
  {
   "cell_type": "code",
   "execution_count": 8,
   "id": "12f8d2ca-ba87-4774-95c5-cd9d77c2452b",
   "metadata": {},
   "outputs": [
    {
     "data": {
      "application/vnd.jupyter.widget-view+json": {
       "model_id": "7bf22ebe0c0a4b4cb779af50aaaec255",
       "version_major": 2,
       "version_minor": 0
      },
      "text/plain": [
       "  0%|          | 0/4360 [00:00<?, ?it/s]"
      ]
     },
     "metadata": {},
     "output_type": "display_data"
    },
    {
     "name": "stdout",
     "output_type": "stream",
     "text": [
      "79908\n",
      "# Conjecture examples: 51273\n"
     ]
    }
   ],
   "source": [
    "sum_premises = 0\n",
    "conjecture_examples = []\n",
    "\n",
    "try:\n",
    "    for file_name in tqdm(lean_file_dict.keys()):\n",
    "        if (len(entry_dict[file_name]) == 0):\n",
    "            empty_file += 1\n",
    "            continue\n",
    "    \n",
    "        theorems_in_file = []\n",
    "        lines = lean_file_dict[file_name]\n",
    "        entries = entry_dict[file_name]\n",
    "        entries = sorted(entries, key = lambda x: x['start'][0])\n",
    "        \n",
    "        for entry in entries:\n",
    "            theorem_str = ''.join(lines[entry['start'][0] - 1: entry['end'][0]])\n",
    "            contexts = ''.join(lines[:entry['start'][0] - 1]).strip()\n",
    "            \n",
    "            premises = set()\n",
    "            for tactics in entry['traced_tactics']:\n",
    "                for p in tactics['annotated_tactic'][1]:\n",
    "                    if p['full_name'] in theorem_dict:\n",
    "                        premises.add(p['full_name'])\n",
    "    \n",
    "            for p_name in premises:\n",
    "                for p_context, p_theorem, p_premises in reversed(theorems_in_file):\n",
    "                    if p_name in p_premises:\n",
    "                        conjecture_examples.append((file_name, p_context, p_theorem, theorem_dict[p_name][1], theorem_str))\n",
    "            \n",
    "            theorems_in_file.append((contexts, theorem_str, premises))\n",
    "            sum_premises += len(premises)\n",
    "except:\n",
    "    pass\n",
    "print(sum_premises)\n",
    "print('# Conjecture examples:', len(conjecture_examples))"
   ]
  },
  {
   "cell_type": "code",
   "execution_count": 9,
   "id": "0eb1b50e-1c6c-41e4-95fb-d5086d23cbff",
   "metadata": {},
   "outputs": [
    {
     "data": {
      "text/plain": [
       "('Mathlib/Geometry/Manifold/MFDeriv/UniqueDifferential.lean',\n",
       " \"/-\\nCopyright (c) 2020 Sébastien Gouëzel. All rights reserved.\\nReleased under Apache 2.0 license as described in the file LICENSE.\\nAuthors: Sébastien Gouëzel, Floris van Doorn\\n-/\\nimport Mathlib.Geometry.Manifold.MFDeriv.Atlas\\n\\n/-!\\n# Unique derivative sets in manifolds\\n\\nIn this file, we prove various properties of unique derivative sets in manifolds.\\n* `image_denseRange`: suppose `f` is differentiable on `s` and its derivative at every point of `s`\\nhas dense range. If `s` has the unique differential property, then so does `f '' s`.\\n* `uniqueMDiffOn_preimage`: the unique differential property is preserved by local diffeomorphisms\\n* `uniqueDiffOn_target_inter`: the unique differential property is preserved by\\n  pullbacks of extended charts\\n* `tangentBundle_proj_preimage`: if `s` has the unique differential property,\\n  its preimage under the tangent bundle projection also has\\n-/\\n\\nnoncomputable section\\n\\nopen scoped Manifold\\nopen Set\\n\\n/-! ### Unique derivative sets in manifolds -/\\n\\nsection UniqueMDiff\\n\\nvariable {𝕜 : Type*} [NontriviallyNormedField 𝕜] {E : Type*} [NormedAddCommGroup E]\\n  [NormedSpace 𝕜 E] {H : Type*} [TopologicalSpace H] {I : ModelWithCorners 𝕜 E H} {M : Type*}\\n  [TopologicalSpace M] [ChartedSpace H M] [SmoothManifoldWithCorners I M] {E' : Type*}\\n  [NormedAddCommGroup E'] [NormedSpace 𝕜 E'] {H' : Type*} [TopologicalSpace H']\\n  {I' : ModelWithCorners 𝕜 E' H'} {M' : Type*} [TopologicalSpace M'] [ChartedSpace H' M']\\n  [SmoothManifoldWithCorners I' M'] {s : Set M} {x : M}\\n\\n/-- If `s` has the unique differential property at `x`, `f` is differentiable within `s` at x` and\\nits derivative has dense range, then `f '' s` has the unique differential property at `f x`. -/\\ntheorem UniqueMDiffWithinAt.image_denseRange (hs : UniqueMDiffWithinAt I s x)\\n    {f : M → M'} {f' : E →L[𝕜] E'} (hf : HasMFDerivWithinAt I I' f s x f')\\n    (hd : DenseRange f') : UniqueMDiffWithinAt I' (f '' s) (f x) := by\\n  /- Rewrite in coordinates, apply `HasFDerivWithinAt.uniqueDiffWithinAt`. -/\\n  have := hs.inter' <| hf.1 (extChartAt_source_mem_nhds I' (f x))\\n  refine (((hf.2.mono ?sub1).uniqueDiffWithinAt this hd).mono ?sub2).congr_pt ?pt\\n  case pt => simp only [mfld_simps]\\n  case sub1 => mfld_set_tac\\n  case sub2 =>\\n    rintro _ ⟨y, ⟨⟨hys, hfy⟩, -⟩, rfl⟩\\n    exact ⟨⟨_, hys, ((extChartAt I' (f x)).left_inv hfy).symm⟩, mem_range_self _⟩\\n\\n/-- If `s` has the unique differential property, `f` is differentiable on `s` and its derivative\\nat every point of `s` has dense range, then `f '' s` has the unique differential property.\\nThis version uses the `HasMFDerivWithinAt` predicate. -/\\ntheorem UniqueMDiffOn.image_denseRange' (hs : UniqueMDiffOn I s) {f : M → M'}\\n    {f' : M → E →L[𝕜] E'} (hf : ∀ x ∈ s, HasMFDerivWithinAt I I' f s x (f' x))\\n    (hd : ∀ x ∈ s, DenseRange (f' x)) :\\n    UniqueMDiffOn I' (f '' s) :=\\n  forall_mem_image.2 fun x hx ↦ (hs x hx).image_denseRange (hf x hx) (hd x hx)\\n\\n/-- If `s` has the unique differential property, `f` is differentiable on `s` and its derivative\\nat every point of `s` has dense range, then `f '' s` has the unique differential property. -/\\ntheorem UniqueMDiffOn.image_denseRange (hs : UniqueMDiffOn I s) {f : M → M'}\\n    (hf : MDifferentiableOn I I' f s) (hd : ∀ x ∈ s, DenseRange (mfderivWithin I I' f s x)) :\\n    UniqueMDiffOn I' (f '' s) :=\\n  hs.image_denseRange' (fun x hx ↦ (hf x hx).hasMFDerivWithinAt) hd\",\n",
       " \"protected theorem UniqueMDiffWithinAt.preimage_partialHomeomorph (hs : UniqueMDiffWithinAt I s x)\\n    {e : PartialHomeomorph M M'} (he : e.MDifferentiable I I') (hx : x ∈ e.source) :\\n    UniqueMDiffWithinAt I' (e.target ∩ e.symm ⁻¹' s) (e x) := by\\n  rw [← e.image_source_inter_eq', inter_comm]\\n  exact (hs.inter (e.open_source.mem_nhds hx)).image_denseRange\\n    (he.mdifferentiableAt hx).hasMFDerivAt.hasMFDerivWithinAt\\n    (he.mfderiv_surjective hx).denseRange\\n\",\n",
       " 'theorem Function.Surjective.denseRange (hf : Function.Surjective f) : DenseRange f := fun x => by\\n  simp [hf.range_eq]\\n',\n",
       " \"theorem UniqueMDiffOn.uniqueDiffOn_target_inter (hs : UniqueMDiffOn I s) (x : M) :\\n    UniqueDiffOn 𝕜 ((extChartAt I x).target ∩ (extChartAt I x).symm ⁻¹' s) := by\\n  -- this is just a reformulation of `UniqueMDiffOn.uniqueMDiffOn_preimage`, using as `e`\\n  -- the local chart at `x`.\\n  apply UniqueMDiffOn.uniqueDiffOn\\n  rw [← PartialEquiv.image_source_inter_eq', inter_comm, extChartAt_source]\\n  exact (hs.inter (chartAt H x).open_source).image_denseRange'\\n    (fun y hy ↦ hasMFDerivWithinAt_extChartAt I hy.2)\\n    fun y hy ↦ ((mdifferentiable_chart _ _).mfderiv_surjective hy.2).denseRange\\n\")"
      ]
     },
     "execution_count": 9,
     "metadata": {},
     "output_type": "execute_result"
    }
   ],
   "source": [
    "conjecture_examples[-1]"
   ]
  },
  {
   "cell_type": "markdown",
   "id": "207e82fe-39e8-4157-9045-b9c5925f0793",
   "metadata": {},
   "source": [
    "# Construct dataset"
   ]
  },
  {
   "cell_type": "code",
   "execution_count": 10,
   "id": "33d28b5b-a578-4379-8958-657d5bfadb49",
   "metadata": {},
   "outputs": [
    {
     "name": "stdout",
     "output_type": "stream",
     "text": [
      "51273\n"
     ]
    }
   ],
   "source": [
    "START_LEMMA_STMT = '<easy theorem>'\n",
    "START_THM = '<hard theorem>'\n",
    "END_THM = '</hard theorem>'\n",
    "INVOKED_LEMMA = '<lemma>'\n",
    "\n",
    "def format_conjecture_example(context, easy_theorem, shared_lemma, hard_theorem):\n",
    "    prompt = f'Complete the following Lean 4 code:\\n\\n```lean4\\n{context.strip()}\\n' \\\n",
    "          f'{INVOKED_LEMMA}\\n{shared_lemma.strip()}\\n{START_LEMMA_STMT}\\n' \\\n",
    "          f'{easy_theorem.strip()}\\n{START_THM}'\n",
    "    target = f'\\n{get_statement(hard_theorem).strip()}\\n{END_THM}'\n",
    "    return {'prompt': prompt, 'target': target}\n",
    "\n",
    "conjecture_ds = []\n",
    "for file_name, context, theorem, shared_lemma, theorem_str in conjecture_examples:\n",
    "    conjecture_ds.append(format_conjecture_example(context, theorem, shared_lemma, theorem_str))\n",
    "\n",
    "print(len(conjecture_ds))"
   ]
  },
  {
   "cell_type": "code",
   "execution_count": 11,
   "id": "d478327b-5a39-41a2-ad7f-8b2ef8fe6a96",
   "metadata": {},
   "outputs": [],
   "source": [
    "with open(os.path.join(Save_DIR, 'conjecture.json'), 'w') as f:\n",
    "    json.dump(conjecture_ds, f)"
   ]
  },
  {
   "cell_type": "code",
   "execution_count": 12,
   "id": "981b78db-4b94-4678-b30e-39174f498c08",
   "metadata": {},
   "outputs": [
    {
     "name": "stdout",
     "output_type": "stream",
     "text": [
      "Complete the following Lean 4 code:\n",
      "\n",
      "```lean4\n",
      "/-\n",
      "Copyright (c) 2021 Bryan Gin-ge Chen. All rights reserved.\n",
      "Released under Apache 2.0 license as described in the file LICENSE.\n",
      "Authors: Adam Topaz, Bryan Gin-ge Chen, Yaël Dillies\n",
      "-/\n",
      "import Mathlib.Order.BooleanAlgebra\n",
      "import Mathlib.Logic.Equiv.Basic\n",
      "\n",
      "#align_import order.symm_diff from \"leanprover-community/mathlib\"@\"6eb334bd8f3433d5b08ba156b8ec3e6af47e1904\"\n",
      "\n",
      "/-!\n",
      "# Symmetric difference and bi-implication\n",
      "\n",
      "This file defines the symmetric difference and bi-implication operators in (co-)Heyting algebras.\n",
      "\n",
      "## Examples\n",
      "\n",
      "Some examples are\n",
      "* The symmetric difference of two sets is the set of elements that are in either but not both.\n",
      "* The symmetric difference on propositions is `Xor'`.\n",
      "* The symmetric difference on `Bool` is `Bool.xor`.\n",
      "* The equivalence of propositions. Two propositions are equivalent if they imply each other.\n",
      "* The symmetric difference translates to addition when considering a Boolean algebra as a Boolean\n",
      "  ring.\n",
      "\n",
      "## Main declarations\n",
      "\n",
      "* `symmDiff`: The symmetric difference operator, defined as `(a \\ b) ⊔ (b \\ a)`\n",
      "* `bihimp`: The bi-implication operator, defined as `(b ⇨ a) ⊓ (a ⇨ b)`\n",
      "\n",
      "In generalized Boolean algebras, the symmetric difference operator is:\n",
      "\n",
      "* `symmDiff_comm`: commutative, and\n",
      "* `symmDiff_assoc`: associative.\n",
      "\n",
      "## Notations\n",
      "\n",
      "* `a ∆ b`: `symmDiff a b`\n",
      "* `a ⇔ b`: `bihimp a b`\n",
      "\n",
      "## References\n",
      "\n",
      "The proof of associativity follows the note \"Associativity of the Symmetric Difference of Sets: A\n",
      "Proof from the Book\" by John McCuan:\n",
      "\n",
      "* <https://people.math.gatech.edu/~mccuan/courses/4317/symmetricdifference.pdf>\n",
      "\n",
      "## Tags\n",
      "\n",
      "boolean ring, generalized boolean algebra, boolean algebra, symmetric difference, bi-implication,\n",
      "Heyting\n",
      "-/\n",
      "\n",
      "\n",
      "open Function OrderDual\n",
      "\n",
      "variable {ι α β : Type*} {π : ι → Type*}\n",
      "\n",
      "/-- The symmetric difference operator on a type with `⊔` and `\\` is `(A \\ B) ⊔ (B \\ A)`. -/\n",
      "def symmDiff [Sup α] [SDiff α] (a b : α) : α :=\n",
      "  a \\ b ⊔ b \\ a\n",
      "#align symm_diff symmDiff\n",
      "\n",
      "/-- The Heyting bi-implication is `(b ⇨ a) ⊓ (a ⇨ b)`. This generalizes equivalence of\n",
      "propositions. -/\n",
      "def bihimp [Inf α] [HImp α] (a b : α) : α :=\n",
      "  (b ⇨ a) ⊓ (a ⇨ b)\n",
      "#align bihimp bihimp\n",
      "\n",
      "/-- Notation for symmDiff -/\n",
      "scoped[symmDiff] infixl:100 \" ∆ \" => symmDiff\n",
      "\n",
      "/-- Notation for bihimp -/\n",
      "scoped[symmDiff] infixl:100 \" ⇔ \" => bihimp\n",
      "\n",
      "open scoped symmDiff\n",
      "\n",
      "theorem symmDiff_def [Sup α] [SDiff α] (a b : α) : a ∆ b = a \\ b ⊔ b \\ a :=\n",
      "  rfl\n",
      "#align symm_diff_def symmDiff_def\n",
      "\n",
      "theorem bihimp_def [Inf α] [HImp α] (a b : α) : a ⇔ b = (b ⇨ a) ⊓ (a ⇨ b) :=\n",
      "  rfl\n",
      "#align bihimp_def bihimp_def\n",
      "\n",
      "theorem symmDiff_eq_Xor' (p q : Prop) : p ∆ q = Xor' p q :=\n",
      "  rfl\n",
      "#align symm_diff_eq_xor symmDiff_eq_Xor'\n",
      "\n",
      "@[simp]\n",
      "theorem bihimp_iff_iff {p q : Prop} : p ⇔ q ↔ (p ↔ q) :=\n",
      "  (iff_iff_implies_and_implies _ _).symm.trans Iff.comm\n",
      "#align bihimp_iff_iff bihimp_iff_iff\n",
      "\n",
      "@[simp]\n",
      "theorem Bool.symmDiff_eq_xor : ∀ p q : Bool, p ∆ q = xor p q := by decide\n",
      "#align bool.symm_diff_eq_bxor Bool.symmDiff_eq_xor\n",
      "\n",
      "section GeneralizedCoheytingAlgebra\n",
      "\n",
      "variable [GeneralizedCoheytingAlgebra α] (a b c d : α)\n",
      "\n",
      "@[simp]\n",
      "theorem toDual_symmDiff : toDual (a ∆ b) = toDual a ⇔ toDual b :=\n",
      "  rfl\n",
      "#align to_dual_symm_diff toDual_symmDiff\n",
      "\n",
      "@[simp]\n",
      "theorem ofDual_bihimp (a b : αᵒᵈ) : ofDual (a ⇔ b) = ofDual a ∆ ofDual b :=\n",
      "  rfl\n",
      "#align of_dual_bihimp ofDual_bihimp\n",
      "\n",
      "theorem symmDiff_comm : a ∆ b = b ∆ a := by simp only [symmDiff, sup_comm]\n",
      "#align symm_diff_comm symmDiff_comm\n",
      "\n",
      "instance symmDiff_isCommutative : Std.Commutative (α := α) (· ∆ ·) :=\n",
      "  ⟨symmDiff_comm⟩\n",
      "#align symm_diff_is_comm symmDiff_isCommutative\n",
      "\n",
      "@[simp]\n",
      "theorem symmDiff_self : a ∆ a = ⊥ := by rw [symmDiff, sup_idem, sdiff_self]\n",
      "#align symm_diff_self symmDiff_self\n",
      "\n",
      "@[simp]\n",
      "theorem symmDiff_bot : a ∆ ⊥ = a := by rw [symmDiff, sdiff_bot, bot_sdiff, sup_bot_eq]\n",
      "#align symm_diff_bot symmDiff_bot\n",
      "\n",
      "@[simp]\n",
      "theorem bot_symmDiff : ⊥ ∆ a = a := by rw [symmDiff_comm, symmDiff_bot]\n",
      "#align bot_symm_diff bot_symmDiff\n",
      "\n",
      "@[simp]\n",
      "<lemma>\n",
      "theorem sdiff_eq_bot_iff : a \\ b = ⊥ ↔ a ≤ b := by rw [← le_bot_iff, sdiff_le_iff, sup_bot_eq]\n",
      "<easy theorem>\n",
      "theorem symmDiff_eq_bot {a b : α} : a ∆ b = ⊥ ↔ a = b := by\n",
      "  simp_rw [symmDiff, sup_eq_bot_iff, sdiff_eq_bot_iff, le_antisymm_iff]\n",
      "<hard theorem>\n",
      "\n",
      "theorem symmDiff_of_le {a b : α} (h : a ≤ b) : a ∆ b = b \\ a\n",
      "</hard theorem>\n"
     ]
    }
   ],
   "source": [
    "print(conjecture_ds[10]['prompt'])\n",
    "print(conjecture_ds[10]['target'])"
   ]
  },
  {
   "cell_type": "code",
   "execution_count": 13,
   "id": "a953d29b-4e8f-4f0e-943e-fc7e4410bc03",
   "metadata": {},
   "outputs": [],
   "source": [
    "with open(os.path.join(Save_DIR, 'theorem_dict.pkl'), 'wb') as f:\n",
    "    pickle.dump(theorem_dict, f)"
   ]
  },
  {
   "cell_type": "code",
   "execution_count": 14,
   "id": "308e7d6f-c1ae-4d34-8db8-5d89b2c823e4",
   "metadata": {},
   "outputs": [
    {
     "name": "stdout",
     "output_type": "stream",
     "text": [
      "59742\n"
     ]
    }
   ],
   "source": [
    "print(len(theorem_dict))"
   ]
  },
  {
   "cell_type": "code",
   "execution_count": 15,
   "id": "fce0d2cb-6713-4884-902d-550a0d7b0e89",
   "metadata": {},
   "outputs": [
    {
     "data": {
      "text/plain": [
       "('Mathlib/Algebra/GeomSum.lean',\n",
       " 'theorem nat_sub_dvd_pow_sub_pow (x y n : ℕ) : x - y ∣ x ^ n - y ^ n := by\\n  rcases le_or_lt y x with h | h\\n  · have : y ^ n ≤ x ^ n := Nat.pow_le_pow_left h _\\n    exact mod_cast sub_dvd_pow_sub_pow (x : ℤ) (↑y) n\\n  · have : x ^ n ≤ y ^ n := Nat.pow_le_pow_left h.le _\\n    exact (Nat.sub_eq_zero_of_le this).symm ▸ dvd_zero (x - y)\\n')"
      ]
     },
     "execution_count": 15,
     "metadata": {},
     "output_type": "execute_result"
    }
   ],
   "source": [
    "theorem_dict['nat_sub_dvd_pow_sub_pow'] # example"
   ]
  },
  {
   "cell_type": "markdown",
   "id": "2c82a736-5dc9-431f-bc59-a4d0364b61e8",
   "metadata": {},
   "source": [
    "## eval dataset"
   ]
  },
  {
   "cell_type": "code",
   "execution_count": 16,
   "id": "39934f77-1bb6-4a6f-9b5c-2775d2afbadf",
   "metadata": {},
   "outputs": [
    {
     "data": {
      "application/vnd.jupyter.widget-view+json": {
       "model_id": "f873c390b15f4e4488d14b5918039353",
       "version_major": 2,
       "version_minor": 0
      },
      "text/plain": [
       "  0%|          | 0/4360 [00:00<?, ?it/s]"
      ]
     },
     "metadata": {},
     "output_type": "display_data"
    },
    {
     "name": "stdout",
     "output_type": "stream",
     "text": [
      "# Mathlib theorems: 59744\n"
     ]
    }
   ],
   "source": [
    "PROVER_PROMPT = 'Complete the following Lean 4 code:\\n\\n```lean4\\n'\n",
    "eval_theorems = []\n",
    "\n",
    "empty_file = 0\n",
    "for file_name in tqdm(lean_file_dict.keys()):\n",
    "    if (len(entry_dict[file_name]) == 0):\n",
    "        empty_file += 1\n",
    "        continue\n",
    "    lines = lean_file_dict[file_name]\n",
    "    entries = entry_dict[file_name]\n",
    "    entries = sorted(entries, key = lambda x: x['start'][0])\n",
    "    \n",
    "    for entry in entries:\n",
    "        context_str = PROVER_PROMPT + ''.join(lines[:entry['start'][0] - 1])\n",
    "        theorem_str = ''.join(lines[entry['start'][0] - 1: entry['end'][0]])\n",
    "        theorem_item = (file_name, context_str, theorem_str)\n",
    "        eval_theorems.append(theorem_item)\n",
    "print('# Mathlib theorems:', len(eval_theorems))"
   ]
  },
  {
   "cell_type": "code",
   "execution_count": 17,
   "id": "461a1c72-483d-415d-9cdb-dab7c42dbe46",
   "metadata": {},
   "outputs": [],
   "source": [
    "rng = np.random.default_rng(0)\n",
    "rng.shuffle(eval_theorems)\n",
    "cutoff = 4096\n",
    "train_theorems = [{'prompt': entry[1], 'target': entry[2]} for entry in eval_theorems[cutoff:]]\n",
    "eval_theorems = [{'prompt': entry[1], 'target': entry[2]} for entry in eval_theorems[:cutoff]]"
   ]
  },
  {
   "cell_type": "code",
   "execution_count": 18,
   "id": "a89842c0-38d0-4e6b-8509-52ac41327ad3",
   "metadata": {},
   "outputs": [],
   "source": [
    "with open(os.path.join(Save_DIR, 'eval.json'), 'w') as f:\n",
    "    json.dump(eval_theorems, f)"
   ]
  },
  {
   "cell_type": "markdown",
   "id": "921ce40f-b923-49b8-84ec-56602b55acca",
   "metadata": {},
   "source": [
    "## mathlib + Conjecture"
   ]
  },
  {
   "cell_type": "code",
   "execution_count": 19,
   "id": "a3c31f87-a885-4c4f-ae8c-a5f48120275e",
   "metadata": {},
   "outputs": [
    {
     "name": "stdout",
     "output_type": "stream",
     "text": [
      "106921\n"
     ]
    }
   ],
   "source": [
    "train_ds = conjecture_ds + train_theorems\n",
    "rng = np.random.default_rng(0)\n",
    "rng.shuffle(train_ds)\n",
    "print(len(train_ds))"
   ]
  },
  {
   "cell_type": "code",
   "execution_count": 20,
   "id": "f1594b80-b624-4514-ba47-d75136dbe81e",
   "metadata": {},
   "outputs": [],
   "source": [
    "with open(os.path.join(Save_DIR, 'mathlib_conjecture.json'), 'w') as f:\n",
    "    json.dump(train_ds, f)"
   ]
  }
 ],
 "metadata": {
  "kernelspec": {
   "display_name": "Python 3 (ipykernel)",
   "language": "python",
   "name": "python3"
  },
  "language_info": {
   "codemirror_mode": {
    "name": "ipython",
    "version": 3
   },
   "file_extension": ".py",
   "mimetype": "text/x-python",
   "name": "python",
   "nbconvert_exporter": "python",
   "pygments_lexer": "ipython3",
   "version": "3.9.18"
  }
 },
 "nbformat": 4,
 "nbformat_minor": 5
}
